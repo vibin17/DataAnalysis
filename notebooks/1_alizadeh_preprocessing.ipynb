{
 "cells": [
  {
   "cell_type": "code",
   "execution_count": 56,
   "metadata": {},
   "outputs": [],
   "source": [
    "import pandas as pd"
   ]
  },
  {
   "cell_type": "code",
   "execution_count": 57,
   "metadata": {
    "scrolled": true
   },
   "outputs": [],
   "source": [
    "df = pd.read_excel('../data/classification/alizadeh.xlsx')"
   ]
  },
  {
   "cell_type": "code",
   "execution_count": 59,
   "metadata": {},
   "outputs": [
    {
     "output_type": "execute_result",
     "data": {
      "text/plain": [
       "   Age  Weight  Length    Sex        BMI  DM  HTN  Current Smoker  EX-Smoker  \\\n",
       "0   53      90     175   Male  29.387755   0    1               1          0   \n",
       "1   67      70     157  Fmale  28.398718   0    1               0          0   \n",
       "2   54      54     164   Male  20.077335   0    0               1          0   \n",
       "3   66      67     158  Fmale  26.838648   0    1               0          0   \n",
       "4   50      87     153  Fmale  37.165193   0    1               0          0   \n",
       "\n",
       "   FH  ... Lymph Neut  PLT EF-TTE Region RWMA     VHD       LAD       LCX  \\\n",
       "0   0  ...    39   52  261     50           0       N  Stenotic    Normal   \n",
       "1   0  ...    38   55  165     40           4       N  Stenotic  Stenotic   \n",
       "2   0  ...    38   60  230     40           2    mild  Stenotic    Normal   \n",
       "3   0  ...    18   72  742     55           0  Severe    Normal    Normal   \n",
       "4   0  ...    55   39  274     50           0  Severe    Normal    Normal   \n",
       "\n",
       "        RCA    Cath  \n",
       "0  Stenotic     CAD  \n",
       "1    Normal     CAD  \n",
       "2    Normal     CAD  \n",
       "3    Normal  Normal  \n",
       "4    Normal  Normal  \n",
       "\n",
       "[5 rows x 59 columns]"
      ],
      "text/html": "<div>\n<style scoped>\n    .dataframe tbody tr th:only-of-type {\n        vertical-align: middle;\n    }\n\n    .dataframe tbody tr th {\n        vertical-align: top;\n    }\n\n    .dataframe thead th {\n        text-align: right;\n    }\n</style>\n<table border=\"1\" class=\"dataframe\">\n  <thead>\n    <tr style=\"text-align: right;\">\n      <th></th>\n      <th>Age</th>\n      <th>Weight</th>\n      <th>Length</th>\n      <th>Sex</th>\n      <th>BMI</th>\n      <th>DM</th>\n      <th>HTN</th>\n      <th>Current Smoker</th>\n      <th>EX-Smoker</th>\n      <th>FH</th>\n      <th>...</th>\n      <th>Lymph</th>\n      <th>Neut</th>\n      <th>PLT</th>\n      <th>EF-TTE</th>\n      <th>Region RWMA</th>\n      <th>VHD</th>\n      <th>LAD</th>\n      <th>LCX</th>\n      <th>RCA</th>\n      <th>Cath</th>\n    </tr>\n  </thead>\n  <tbody>\n    <tr>\n      <th>0</th>\n      <td>53</td>\n      <td>90</td>\n      <td>175</td>\n      <td>Male</td>\n      <td>29.387755</td>\n      <td>0</td>\n      <td>1</td>\n      <td>1</td>\n      <td>0</td>\n      <td>0</td>\n      <td>...</td>\n      <td>39</td>\n      <td>52</td>\n      <td>261</td>\n      <td>50</td>\n      <td>0</td>\n      <td>N</td>\n      <td>Stenotic</td>\n      <td>Normal</td>\n      <td>Stenotic</td>\n      <td>CAD</td>\n    </tr>\n    <tr>\n      <th>1</th>\n      <td>67</td>\n      <td>70</td>\n      <td>157</td>\n      <td>Fmale</td>\n      <td>28.398718</td>\n      <td>0</td>\n      <td>1</td>\n      <td>0</td>\n      <td>0</td>\n      <td>0</td>\n      <td>...</td>\n      <td>38</td>\n      <td>55</td>\n      <td>165</td>\n      <td>40</td>\n      <td>4</td>\n      <td>N</td>\n      <td>Stenotic</td>\n      <td>Stenotic</td>\n      <td>Normal</td>\n      <td>CAD</td>\n    </tr>\n    <tr>\n      <th>2</th>\n      <td>54</td>\n      <td>54</td>\n      <td>164</td>\n      <td>Male</td>\n      <td>20.077335</td>\n      <td>0</td>\n      <td>0</td>\n      <td>1</td>\n      <td>0</td>\n      <td>0</td>\n      <td>...</td>\n      <td>38</td>\n      <td>60</td>\n      <td>230</td>\n      <td>40</td>\n      <td>2</td>\n      <td>mild</td>\n      <td>Stenotic</td>\n      <td>Normal</td>\n      <td>Normal</td>\n      <td>CAD</td>\n    </tr>\n    <tr>\n      <th>3</th>\n      <td>66</td>\n      <td>67</td>\n      <td>158</td>\n      <td>Fmale</td>\n      <td>26.838648</td>\n      <td>0</td>\n      <td>1</td>\n      <td>0</td>\n      <td>0</td>\n      <td>0</td>\n      <td>...</td>\n      <td>18</td>\n      <td>72</td>\n      <td>742</td>\n      <td>55</td>\n      <td>0</td>\n      <td>Severe</td>\n      <td>Normal</td>\n      <td>Normal</td>\n      <td>Normal</td>\n      <td>Normal</td>\n    </tr>\n    <tr>\n      <th>4</th>\n      <td>50</td>\n      <td>87</td>\n      <td>153</td>\n      <td>Fmale</td>\n      <td>37.165193</td>\n      <td>0</td>\n      <td>1</td>\n      <td>0</td>\n      <td>0</td>\n      <td>0</td>\n      <td>...</td>\n      <td>55</td>\n      <td>39</td>\n      <td>274</td>\n      <td>50</td>\n      <td>0</td>\n      <td>Severe</td>\n      <td>Normal</td>\n      <td>Normal</td>\n      <td>Normal</td>\n      <td>Normal</td>\n    </tr>\n  </tbody>\n</table>\n<p>5 rows × 59 columns</p>\n</div>"
     },
     "metadata": {},
     "execution_count": 59
    }
   ],
   "source": [
    "df.head()"
   ]
  },
  {
   "cell_type": "code",
   "execution_count": 60,
   "metadata": {
    "scrolled": false
   },
   "outputs": [
    {
     "output_type": "execute_result",
     "data": {
      "text/plain": [
       "Age                      0\n",
       "Weight                   0\n",
       "Length                   0\n",
       "Sex                      0\n",
       "BMI                      0\n",
       "DM                       0\n",
       "HTN                      0\n",
       "Current Smoker           0\n",
       "EX-Smoker                0\n",
       "FH                       0\n",
       "Obesity                  0\n",
       "CRF                      0\n",
       "CVA                      0\n",
       "Airway disease           0\n",
       "Thyroid Disease          0\n",
       "CHF                      0\n",
       "DLP                      0\n",
       "BP                       0\n",
       "PR                       0\n",
       "Edema                    0\n",
       "Weak Peripheral Pulse    0\n",
       "Lung rales               0\n",
       "Systolic Murmur          0\n",
       "Diastolic Murmur         0\n",
       "Typical Chest Pain       0\n",
       "Dyspnea                  0\n",
       "Function Class           0\n",
       "Atypical                 0\n",
       "Nonanginal               0\n",
       "Exertional CP            0\n",
       "LowTH Ang                0\n",
       "Q Wave                   0\n",
       "St Elevation             0\n",
       "St Depression            0\n",
       "Tinversion               0\n",
       "LVH                      0\n",
       "Poor R Progression       0\n",
       "BBB                      0\n",
       "FBS                      0\n",
       "CR                       0\n",
       "TG                       0\n",
       "LDL                      0\n",
       "HDL                      0\n",
       "BUN                      0\n",
       "ESR                      0\n",
       "HB                       0\n",
       "K                        0\n",
       "Na                       0\n",
       "WBC                      0\n",
       "Lymph                    0\n",
       "Neut                     0\n",
       "PLT                      0\n",
       "EF-TTE                   0\n",
       "Region RWMA              0\n",
       "VHD                      0\n",
       "LAD                      0\n",
       "LCX                      0\n",
       "RCA                      0\n",
       "Cath                     0\n",
       "dtype: int64"
      ]
     },
     "metadata": {},
     "execution_count": 60
    }
   ],
   "source": [
    "df.isnull().sum() "
   ]
  },
  {
   "cell_type": "code",
   "execution_count": 34,
   "metadata": {},
   "outputs": [],
   "source": [
    "# Заполнение не требуется"
   ]
  },
  {
   "cell_type": "code",
   "execution_count": 62,
   "metadata": {
    "scrolled": true
   },
   "outputs": [],
   "source": [
    "mapping_sex= {'Male':1,'Fmale':2}\n",
    "df['Sex'] = df['Sex'].map(mapping_sex)\n",
    "\n",
    "mapping_yes_no = {'N':0,'Y':1}\n",
    "df['Obesity'] = df['Obesity'].map(mapping_yes_no)\n",
    "df['CRF'] = df['CRF'].map(mapping_yes_no)\n",
    "df['CVA'] = df['CVA'].map(mapping_yes_no)\n",
    "df['Airway disease'] = df['Airway disease'].map(mapping_yes_no)\n",
    "df['Thyroid Disease'] = df['Thyroid Disease'].map(mapping_yes_no)\n",
    "df['CHF'] = df['CHF'].map(mapping_yes_no)\n",
    "df['DLP'] = df['DLP'].map(mapping_yes_no)\n",
    "df['Weak Peripheral Pulse'] = df['Weak Peripheral Pulse'].map(mapping_yes_no)\n",
    "df['Lung rales'] = df['Lung rales'].map(mapping_yes_no)\n",
    "df['Systolic Murmur'] = df['Systolic Murmur'].map(mapping_yes_no)\n",
    "df['Diastolic Murmur'] = df['Diastolic Murmur'].map(mapping_yes_no)\n",
    "df['Dyspnea'] = df['Dyspnea'].map(mapping_yes_no)\n",
    "df['Atypical'] = df['Atypical'].map(mapping_yes_no)\n",
    "df['Nonanginal'] = df['Nonanginal'].map(mapping_yes_no)\n",
    "df['Exertional CP'] = df['Exertional CP'].map(mapping_yes_no)\n",
    "df['LowTH Ang'] = df['LowTH Ang'].map(mapping_yes_no)\n",
    "df['LVH'] = df['LVH'].map(mapping_yes_no)\n",
    "df['Poor R Progression'] = df['Poor R Progression'].map(mapping_yes_no)\n",
    "\n",
    "mapping_BBB = {'N':0,'LBBB':1,'RBBB':2}\n",
    "df['BBB'] = df['BBB'].map(mapping_BBB)\n",
    "\n",
    "mapping_VHD = {'mild':0,'Moderate':1,'N':2,'Severe':3}\n",
    "df['VHD'] = df['VHD'].map(mapping_VHD)\n",
    "\n",
    "mapping_normal_stenotic = {'Normal':0,'Stenotic':1}\n",
    "df['LAD'] = df['LAD'].map(mapping_normal_stenotic)\n",
    "df['LCX'] = df['LCX'].map(mapping_normal_stenotic)\n",
    "df['RCA'] = df['RCA'].map(mapping_normal_stenotic)\n",
    "\n",
    "mapping_cath = {'CAD':0,'Normal':1}\n",
    "df['Cath'] = df['Cath'].map(mapping_cath)"
   ]
  },
  {
   "cell_type": "code",
   "execution_count": 64,
   "metadata": {},
   "outputs": [],
   "source": [
    "pd.get_dummies(df).to_csv(\"../data/classification/alizadeh_preprocessed.csv\", index_label = False) "
   ]
  },
  {
   "cell_type": "code",
   "execution_count": 65,
   "metadata": {},
   "outputs": [
    {
     "output_type": "execute_result",
     "data": {
      "text/plain": [
       "   Age  Weight  Length  Sex        BMI  DM  HTN  Current Smoker  EX-Smoker  \\\n",
       "0   53      90     175  NaN  29.387755   0    1               1          0   \n",
       "1   67      70     157  NaN  28.398718   0    1               0          0   \n",
       "2   54      54     164  NaN  20.077335   0    0               1          0   \n",
       "3   66      67     158  NaN  26.838648   0    1               0          0   \n",
       "4   50      87     153  NaN  37.165193   0    1               0          0   \n",
       "\n",
       "   FH  ...  Lymph  Neut  PLT  EF-TTE  Region RWMA  VHD  LAD  LCX  RCA  Cath  \n",
       "0   0  ...     39    52  261      50            0  NaN  NaN  NaN  NaN   NaN  \n",
       "1   0  ...     38    55  165      40            4  NaN  NaN  NaN  NaN   NaN  \n",
       "2   0  ...     38    60  230      40            2  NaN  NaN  NaN  NaN   NaN  \n",
       "3   0  ...     18    72  742      55            0  NaN  NaN  NaN  NaN   NaN  \n",
       "4   0  ...     55    39  274      50            0  NaN  NaN  NaN  NaN   NaN  \n",
       "\n",
       "[5 rows x 59 columns]"
      ],
      "text/html": "<div>\n<style scoped>\n    .dataframe tbody tr th:only-of-type {\n        vertical-align: middle;\n    }\n\n    .dataframe tbody tr th {\n        vertical-align: top;\n    }\n\n    .dataframe thead th {\n        text-align: right;\n    }\n</style>\n<table border=\"1\" class=\"dataframe\">\n  <thead>\n    <tr style=\"text-align: right;\">\n      <th></th>\n      <th>Age</th>\n      <th>Weight</th>\n      <th>Length</th>\n      <th>Sex</th>\n      <th>BMI</th>\n      <th>DM</th>\n      <th>HTN</th>\n      <th>Current Smoker</th>\n      <th>EX-Smoker</th>\n      <th>FH</th>\n      <th>...</th>\n      <th>Lymph</th>\n      <th>Neut</th>\n      <th>PLT</th>\n      <th>EF-TTE</th>\n      <th>Region RWMA</th>\n      <th>VHD</th>\n      <th>LAD</th>\n      <th>LCX</th>\n      <th>RCA</th>\n      <th>Cath</th>\n    </tr>\n  </thead>\n  <tbody>\n    <tr>\n      <th>0</th>\n      <td>53</td>\n      <td>90</td>\n      <td>175</td>\n      <td>NaN</td>\n      <td>29.387755</td>\n      <td>0</td>\n      <td>1</td>\n      <td>1</td>\n      <td>0</td>\n      <td>0</td>\n      <td>...</td>\n      <td>39</td>\n      <td>52</td>\n      <td>261</td>\n      <td>50</td>\n      <td>0</td>\n      <td>NaN</td>\n      <td>NaN</td>\n      <td>NaN</td>\n      <td>NaN</td>\n      <td>NaN</td>\n    </tr>\n    <tr>\n      <th>1</th>\n      <td>67</td>\n      <td>70</td>\n      <td>157</td>\n      <td>NaN</td>\n      <td>28.398718</td>\n      <td>0</td>\n      <td>1</td>\n      <td>0</td>\n      <td>0</td>\n      <td>0</td>\n      <td>...</td>\n      <td>38</td>\n      <td>55</td>\n      <td>165</td>\n      <td>40</td>\n      <td>4</td>\n      <td>NaN</td>\n      <td>NaN</td>\n      <td>NaN</td>\n      <td>NaN</td>\n      <td>NaN</td>\n    </tr>\n    <tr>\n      <th>2</th>\n      <td>54</td>\n      <td>54</td>\n      <td>164</td>\n      <td>NaN</td>\n      <td>20.077335</td>\n      <td>0</td>\n      <td>0</td>\n      <td>1</td>\n      <td>0</td>\n      <td>0</td>\n      <td>...</td>\n      <td>38</td>\n      <td>60</td>\n      <td>230</td>\n      <td>40</td>\n      <td>2</td>\n      <td>NaN</td>\n      <td>NaN</td>\n      <td>NaN</td>\n      <td>NaN</td>\n      <td>NaN</td>\n    </tr>\n    <tr>\n      <th>3</th>\n      <td>66</td>\n      <td>67</td>\n      <td>158</td>\n      <td>NaN</td>\n      <td>26.838648</td>\n      <td>0</td>\n      <td>1</td>\n      <td>0</td>\n      <td>0</td>\n      <td>0</td>\n      <td>...</td>\n      <td>18</td>\n      <td>72</td>\n      <td>742</td>\n      <td>55</td>\n      <td>0</td>\n      <td>NaN</td>\n      <td>NaN</td>\n      <td>NaN</td>\n      <td>NaN</td>\n      <td>NaN</td>\n    </tr>\n    <tr>\n      <th>4</th>\n      <td>50</td>\n      <td>87</td>\n      <td>153</td>\n      <td>NaN</td>\n      <td>37.165193</td>\n      <td>0</td>\n      <td>1</td>\n      <td>0</td>\n      <td>0</td>\n      <td>0</td>\n      <td>...</td>\n      <td>55</td>\n      <td>39</td>\n      <td>274</td>\n      <td>50</td>\n      <td>0</td>\n      <td>NaN</td>\n      <td>NaN</td>\n      <td>NaN</td>\n      <td>NaN</td>\n      <td>NaN</td>\n    </tr>\n  </tbody>\n</table>\n<p>5 rows × 59 columns</p>\n</div>"
     },
     "metadata": {},
     "execution_count": 65
    }
   ],
   "source": [
    "df1 = pd.read_csv(\"../data/classification/alizadeh_preprocessed.csv\", sep=',')\n",
    "df1.head()"
   ]
  },
  {
   "cell_type": "code",
   "execution_count": null,
   "metadata": {},
   "outputs": [],
   "source": []
  }
 ],
 "metadata": {
  "kernelspec": {
   "name": "python391jvsc74a57bd016e4b87f0dbdf66a4ee056938d0c8f3ebbd68a803ec7e298da5e0d0190041215",
   "display_name": "Python 3.9.1 64-bit"
  },
  "language_info": {
   "codemirror_mode": {
    "name": "ipython",
    "version": 3
   },
   "file_extension": ".py",
   "mimetype": "text/x-python",
   "name": "python",
   "nbconvert_exporter": "python",
   "pygments_lexer": "ipython3",
   "version": "3.9.1"
  }
 },
 "nbformat": 4,
 "nbformat_minor": 4
}