{
 "cells": [
  {
   "cell_type": "code",
   "execution_count": 13,
   "id": "acute-desperate",
   "metadata": {},
   "outputs": [],
   "source": [
    "import pandas as pd"
   ]
  },
  {
   "cell_type": "code",
   "execution_count": 14,
   "id": "waiting-quantity",
   "metadata": {},
   "outputs": [],
   "source": [
    "df = pd.read_csv(\"../data/regression/facebook.csv\", sep=';')"
   ]
  },
  {
   "cell_type": "code",
   "execution_count": 15,
   "id": "posted-baseline",
   "metadata": {},
   "outputs": [
    {
     "output_type": "execute_result",
     "data": {
      "text/plain": [
       "   Page total likes    Type  Category  Post Month  Post Weekday  Post Hour  \\\n",
       "0            139441   Photo         2          12             4          3   \n",
       "1            139441  Status         2          12             3         10   \n",
       "2            139441   Photo         3          12             3          3   \n",
       "3            139441   Photo         2          12             2         10   \n",
       "4            139441   Photo         2          12             2          3   \n",
       "\n",
       "   Paid  Lifetime Post Total Reach  Lifetime Post Total Impressions  \\\n",
       "0   0.0                       2752                             5091   \n",
       "1   0.0                      10460                            19057   \n",
       "2   0.0                       2413                             4373   \n",
       "3   1.0                      50128                            87991   \n",
       "4   0.0                       7244                            13594   \n",
       "\n",
       "   Lifetime Engaged Users  Lifetime Post Consumers  \\\n",
       "0                     178                      109   \n",
       "1                    1457                     1361   \n",
       "2                     177                      113   \n",
       "3                    2211                      790   \n",
       "4                     671                      410   \n",
       "\n",
       "   Lifetime Post Consumptions  \\\n",
       "0                         159   \n",
       "1                        1674   \n",
       "2                         154   \n",
       "3                        1119   \n",
       "4                         580   \n",
       "\n",
       "   Lifetime Post Impressions by people who have liked your Page  \\\n",
       "0                                               3078              \n",
       "1                                              11710              \n",
       "2                                               2812              \n",
       "3                                              61027              \n",
       "4                                               6228              \n",
       "\n",
       "   Lifetime Post reach by people who like your Page  \\\n",
       "0                                              1640   \n",
       "1                                              6112   \n",
       "2                                              1503   \n",
       "3                                             32048   \n",
       "4                                              3200   \n",
       "\n",
       "   Lifetime People who have liked your Page and engaged with your post  \\\n",
       "0                                                119                     \n",
       "1                                               1108                     \n",
       "2                                                132                     \n",
       "3                                               1386                     \n",
       "4                                                396                     \n",
       "\n",
       "   comment    like  share  Total Interactions  \n",
       "0        4    79.0   17.0                 100  \n",
       "1        5   130.0   29.0                 164  \n",
       "2        0    66.0   14.0                  80  \n",
       "3       58  1572.0  147.0                1777  \n",
       "4       19   325.0   49.0                 393  "
      ],
      "text/html": "<div>\n<style scoped>\n    .dataframe tbody tr th:only-of-type {\n        vertical-align: middle;\n    }\n\n    .dataframe tbody tr th {\n        vertical-align: top;\n    }\n\n    .dataframe thead th {\n        text-align: right;\n    }\n</style>\n<table border=\"1\" class=\"dataframe\">\n  <thead>\n    <tr style=\"text-align: right;\">\n      <th></th>\n      <th>Page total likes</th>\n      <th>Type</th>\n      <th>Category</th>\n      <th>Post Month</th>\n      <th>Post Weekday</th>\n      <th>Post Hour</th>\n      <th>Paid</th>\n      <th>Lifetime Post Total Reach</th>\n      <th>Lifetime Post Total Impressions</th>\n      <th>Lifetime Engaged Users</th>\n      <th>Lifetime Post Consumers</th>\n      <th>Lifetime Post Consumptions</th>\n      <th>Lifetime Post Impressions by people who have liked your Page</th>\n      <th>Lifetime Post reach by people who like your Page</th>\n      <th>Lifetime People who have liked your Page and engaged with your post</th>\n      <th>comment</th>\n      <th>like</th>\n      <th>share</th>\n      <th>Total Interactions</th>\n    </tr>\n  </thead>\n  <tbody>\n    <tr>\n      <th>0</th>\n      <td>139441</td>\n      <td>Photo</td>\n      <td>2</td>\n      <td>12</td>\n      <td>4</td>\n      <td>3</td>\n      <td>0.0</td>\n      <td>2752</td>\n      <td>5091</td>\n      <td>178</td>\n      <td>109</td>\n      <td>159</td>\n      <td>3078</td>\n      <td>1640</td>\n      <td>119</td>\n      <td>4</td>\n      <td>79.0</td>\n      <td>17.0</td>\n      <td>100</td>\n    </tr>\n    <tr>\n      <th>1</th>\n      <td>139441</td>\n      <td>Status</td>\n      <td>2</td>\n      <td>12</td>\n      <td>3</td>\n      <td>10</td>\n      <td>0.0</td>\n      <td>10460</td>\n      <td>19057</td>\n      <td>1457</td>\n      <td>1361</td>\n      <td>1674</td>\n      <td>11710</td>\n      <td>6112</td>\n      <td>1108</td>\n      <td>5</td>\n      <td>130.0</td>\n      <td>29.0</td>\n      <td>164</td>\n    </tr>\n    <tr>\n      <th>2</th>\n      <td>139441</td>\n      <td>Photo</td>\n      <td>3</td>\n      <td>12</td>\n      <td>3</td>\n      <td>3</td>\n      <td>0.0</td>\n      <td>2413</td>\n      <td>4373</td>\n      <td>177</td>\n      <td>113</td>\n      <td>154</td>\n      <td>2812</td>\n      <td>1503</td>\n      <td>132</td>\n      <td>0</td>\n      <td>66.0</td>\n      <td>14.0</td>\n      <td>80</td>\n    </tr>\n    <tr>\n      <th>3</th>\n      <td>139441</td>\n      <td>Photo</td>\n      <td>2</td>\n      <td>12</td>\n      <td>2</td>\n      <td>10</td>\n      <td>1.0</td>\n      <td>50128</td>\n      <td>87991</td>\n      <td>2211</td>\n      <td>790</td>\n      <td>1119</td>\n      <td>61027</td>\n      <td>32048</td>\n      <td>1386</td>\n      <td>58</td>\n      <td>1572.0</td>\n      <td>147.0</td>\n      <td>1777</td>\n    </tr>\n    <tr>\n      <th>4</th>\n      <td>139441</td>\n      <td>Photo</td>\n      <td>2</td>\n      <td>12</td>\n      <td>2</td>\n      <td>3</td>\n      <td>0.0</td>\n      <td>7244</td>\n      <td>13594</td>\n      <td>671</td>\n      <td>410</td>\n      <td>580</td>\n      <td>6228</td>\n      <td>3200</td>\n      <td>396</td>\n      <td>19</td>\n      <td>325.0</td>\n      <td>49.0</td>\n      <td>393</td>\n    </tr>\n  </tbody>\n</table>\n</div>"
     },
     "metadata": {},
     "execution_count": 15
    }
   ],
   "source": [
    "df.head()"
   ]
  },
  {
   "cell_type": "code",
   "execution_count": 16,
   "id": "settled-socket",
   "metadata": {},
   "outputs": [
    {
     "output_type": "stream",
     "name": "stdout",
     "text": [
      "<class 'pandas.core.frame.DataFrame'>\nRangeIndex: 500 entries, 0 to 499\nData columns (total 19 columns):\n #   Column                                                               Non-Null Count  Dtype  \n---  ------                                                               --------------  -----  \n 0   Page total likes                                                     500 non-null    int64  \n 1   Type                                                                 500 non-null    object \n 2   Category                                                             500 non-null    int64  \n 3   Post Month                                                           500 non-null    int64  \n 4   Post Weekday                                                         500 non-null    int64  \n 5   Post Hour                                                            500 non-null    int64  \n 6   Paid                                                                 499 non-null    float64\n 7   Lifetime Post Total Reach                                            500 non-null    int64  \n 8   Lifetime Post Total Impressions                                      500 non-null    int64  \n 9   Lifetime Engaged Users                                               500 non-null    int64  \n 10  Lifetime Post Consumers                                              500 non-null    int64  \n 11  Lifetime Post Consumptions                                           500 non-null    int64  \n 12  Lifetime Post Impressions by people who have liked your Page         500 non-null    int64  \n 13  Lifetime Post reach by people who like your Page                     500 non-null    int64  \n 14  Lifetime People who have liked your Page and engaged with your post  500 non-null    int64  \n 15  comment                                                              500 non-null    int64  \n 16  like                                                                 499 non-null    float64\n 17  share                                                                496 non-null    float64\n 18  Total Interactions                                                   500 non-null    int64  \ndtypes: float64(3), int64(15), object(1)\nmemory usage: 74.3+ KB\n"
     ]
    }
   ],
   "source": [
    "df.info()"
   ]
  },
  {
   "cell_type": "code",
   "execution_count": 17,
   "id": "attempted-native",
   "metadata": {},
   "outputs": [
    {
     "output_type": "execute_result",
     "data": {
      "text/plain": [
       "Page total likes                                                       0\n",
       "Type                                                                   0\n",
       "Category                                                               0\n",
       "Post Month                                                             0\n",
       "Post Weekday                                                           0\n",
       "Post Hour                                                              0\n",
       "Paid                                                                   1\n",
       "Lifetime Post Total Reach                                              0\n",
       "Lifetime Post Total Impressions                                        0\n",
       "Lifetime Engaged Users                                                 0\n",
       "Lifetime Post Consumers                                                0\n",
       "Lifetime Post Consumptions                                             0\n",
       "Lifetime Post Impressions by people who have liked your Page           0\n",
       "Lifetime Post reach by people who like your Page                       0\n",
       "Lifetime People who have liked your Page and engaged with your post    0\n",
       "comment                                                                0\n",
       "like                                                                   1\n",
       "share                                                                  4\n",
       "Total Interactions                                                     0\n",
       "dtype: int64"
      ]
     },
     "metadata": {},
     "execution_count": 17
    }
   ],
   "source": [
    "df.isnull().sum()"
   ]
  },
  {
   "cell_type": "code",
   "execution_count": 18,
   "metadata": {},
   "outputs": [],
   "source": [
    "df['Paid'].fillna(0, inplace=True)\n",
    "df['like'].fillna(df['like'].median(), inplace=True)\n",
    "df['share'].fillna(df['share'].mean(), inplace=True)"
   ]
  },
  {
   "cell_type": "code",
   "execution_count": 19,
   "metadata": {},
   "outputs": [],
   "source": [
    "df['Paid'] = df.Paid.astype(int)\n",
    "df['like'] = df.like.astype(int)\n",
    "df['share'] = df.share.astype(int)"
   ]
  },
  {
   "cell_type": "code",
   "execution_count": 21,
   "metadata": {},
   "outputs": [
    {
     "output_type": "execute_result",
     "data": {
      "text/plain": [
       "Page total likes                                                       0\n",
       "Type                                                                   0\n",
       "Category                                                               0\n",
       "Post Month                                                             0\n",
       "Post Weekday                                                           0\n",
       "Post Hour                                                              0\n",
       "Paid                                                                   0\n",
       "Lifetime Post Total Reach                                              0\n",
       "Lifetime Post Total Impressions                                        0\n",
       "Lifetime Engaged Users                                                 0\n",
       "Lifetime Post Consumers                                                0\n",
       "Lifetime Post Consumptions                                             0\n",
       "Lifetime Post Impressions by people who have liked your Page           0\n",
       "Lifetime Post reach by people who like your Page                       0\n",
       "Lifetime People who have liked your Page and engaged with your post    0\n",
       "comment                                                                0\n",
       "like                                                                   0\n",
       "share                                                                  0\n",
       "Total Interactions                                                     0\n",
       "dtype: int64"
      ]
     },
     "metadata": {},
     "execution_count": 21
    }
   ],
   "source": [
    "df.isnull().sum()"
   ]
  },
  {
   "cell_type": "code",
   "execution_count": 22,
   "id": "clinical-sector",
   "metadata": {},
   "outputs": [
    {
     "output_type": "execute_result",
     "data": {
      "text/plain": [
       "Page total likes                                                       123194.176\n",
       "Category                                                                    1.880\n",
       "Post Month                                                                  7.038\n",
       "Post Weekday                                                                4.150\n",
       "Post Hour                                                                   7.840\n",
       "Paid                                                                        0.278\n",
       "Lifetime Post Total Reach                                               13903.360\n",
       "Lifetime Post Total Impressions                                         29585.948\n",
       "Lifetime Engaged Users                                                    920.344\n",
       "Lifetime Post Consumers                                                   798.772\n",
       "Lifetime Post Consumptions                                               1415.130\n",
       "Lifetime Post Impressions by people who have liked your Page            16766.376\n",
       "Lifetime Post reach by people who like your Page                         6585.488\n",
       "Lifetime People who have liked your Page and engaged with your post       609.986\n",
       "comment                                                                     7.482\n",
       "like                                                                      177.792\n",
       "share                                                                      27.264\n",
       "Total Interactions                                                        212.120\n",
       "dtype: float64"
      ]
     },
     "metadata": {},
     "execution_count": 22
    }
   ],
   "source": [
    "df.mean()"
   ]
  },
  {
   "cell_type": "code",
   "execution_count": 23,
   "id": "familiar-slope",
   "metadata": {},
   "outputs": [
    {
     "output_type": "execute_result",
     "data": {
      "text/plain": [
       "     Page total likes    Type  Category  Post Month  Post Weekday  Post Hour  \\\n",
       "0              139441   Photo         2          12             4          3   \n",
       "1              139441  Status         2          12             3         10   \n",
       "2              139441   Photo         3          12             3          3   \n",
       "3              139441   Photo         2          12             2         10   \n",
       "4              139441   Photo         2          12             2          3   \n",
       "..                ...     ...       ...         ...           ...        ...   \n",
       "495             85093   Photo         3           1             7          2   \n",
       "496             81370   Photo         2           1             5          8   \n",
       "497             81370   Photo         1           1             5          2   \n",
       "498             81370   Photo         3           1             4         11   \n",
       "499             81370   Photo         2           1             4          4   \n",
       "\n",
       "     Paid  Lifetime Post Total Reach  Lifetime Post Total Impressions  \\\n",
       "0       0                       2752                             5091   \n",
       "1       0                      10460                            19057   \n",
       "2       0                       2413                             4373   \n",
       "3       1                      50128                            87991   \n",
       "4       0                       7244                            13594   \n",
       "..    ...                        ...                              ...   \n",
       "495     0                       4684                             7536   \n",
       "496     0                       3480                             6229   \n",
       "497     0                       3778                             7216   \n",
       "498     0                       4156                             7564   \n",
       "499     0                       4188                             7292   \n",
       "\n",
       "     Lifetime Engaged Users  Lifetime Post Consumers  \\\n",
       "0                       178                      109   \n",
       "1                      1457                     1361   \n",
       "2                       177                      113   \n",
       "3                      2211                      790   \n",
       "4                       671                      410   \n",
       "..                      ...                      ...   \n",
       "495                     733                      708   \n",
       "496                     537                      508   \n",
       "497                     625                      572   \n",
       "498                     626                      574   \n",
       "499                     564                      524   \n",
       "\n",
       "     Lifetime Post Consumptions  \\\n",
       "0                           159   \n",
       "1                          1674   \n",
       "2                           154   \n",
       "3                          1119   \n",
       "4                           580   \n",
       "..                          ...   \n",
       "495                         985   \n",
       "496                         687   \n",
       "497                         795   \n",
       "498                         832   \n",
       "499                         743   \n",
       "\n",
       "     Lifetime Post Impressions by people who have liked your Page  \\\n",
       "0                                                 3078              \n",
       "1                                                11710              \n",
       "2                                                 2812              \n",
       "3                                                61027              \n",
       "4                                                 6228              \n",
       "..                                                 ...              \n",
       "495                                               4750              \n",
       "496                                               3961              \n",
       "497                                               4742              \n",
       "498                                               4534              \n",
       "499                                               3861              \n",
       "\n",
       "     Lifetime Post reach by people who like your Page  \\\n",
       "0                                                1640   \n",
       "1                                                6112   \n",
       "2                                                1503   \n",
       "3                                               32048   \n",
       "4                                                3200   \n",
       "..                                                ...   \n",
       "495                                              2876   \n",
       "496                                              2104   \n",
       "497                                              2388   \n",
       "498                                              2452   \n",
       "499                                              2200   \n",
       "\n",
       "     Lifetime People who have liked your Page and engaged with your post  \\\n",
       "0                                                  119                     \n",
       "1                                                 1108                     \n",
       "2                                                  132                     \n",
       "3                                                 1386                     \n",
       "4                                                  396                     \n",
       "..                                                 ...                     \n",
       "495                                                392                     \n",
       "496                                                301                     \n",
       "497                                                363                     \n",
       "498                                                370                     \n",
       "499                                                316                     \n",
       "\n",
       "     comment  like  share  Total Interactions  \n",
       "0          4    79     17                 100  \n",
       "1          5   130     29                 164  \n",
       "2          0    66     14                  80  \n",
       "3         58  1572    147                1777  \n",
       "4         19   325     49                 393  \n",
       "..       ...   ...    ...                 ...  \n",
       "495        5    53     26                  84  \n",
       "496        0    53     22                  75  \n",
       "497        4    93     18                 115  \n",
       "498        7    91     38                 136  \n",
       "499        0    91     28                 119  \n",
       "\n",
       "[500 rows x 19 columns]"
      ],
      "text/html": "<div>\n<style scoped>\n    .dataframe tbody tr th:only-of-type {\n        vertical-align: middle;\n    }\n\n    .dataframe tbody tr th {\n        vertical-align: top;\n    }\n\n    .dataframe thead th {\n        text-align: right;\n    }\n</style>\n<table border=\"1\" class=\"dataframe\">\n  <thead>\n    <tr style=\"text-align: right;\">\n      <th></th>\n      <th>Page total likes</th>\n      <th>Type</th>\n      <th>Category</th>\n      <th>Post Month</th>\n      <th>Post Weekday</th>\n      <th>Post Hour</th>\n      <th>Paid</th>\n      <th>Lifetime Post Total Reach</th>\n      <th>Lifetime Post Total Impressions</th>\n      <th>Lifetime Engaged Users</th>\n      <th>Lifetime Post Consumers</th>\n      <th>Lifetime Post Consumptions</th>\n      <th>Lifetime Post Impressions by people who have liked your Page</th>\n      <th>Lifetime Post reach by people who like your Page</th>\n      <th>Lifetime People who have liked your Page and engaged with your post</th>\n      <th>comment</th>\n      <th>like</th>\n      <th>share</th>\n      <th>Total Interactions</th>\n    </tr>\n  </thead>\n  <tbody>\n    <tr>\n      <th>0</th>\n      <td>139441</td>\n      <td>Photo</td>\n      <td>2</td>\n      <td>12</td>\n      <td>4</td>\n      <td>3</td>\n      <td>0</td>\n      <td>2752</td>\n      <td>5091</td>\n      <td>178</td>\n      <td>109</td>\n      <td>159</td>\n      <td>3078</td>\n      <td>1640</td>\n      <td>119</td>\n      <td>4</td>\n      <td>79</td>\n      <td>17</td>\n      <td>100</td>\n    </tr>\n    <tr>\n      <th>1</th>\n      <td>139441</td>\n      <td>Status</td>\n      <td>2</td>\n      <td>12</td>\n      <td>3</td>\n      <td>10</td>\n      <td>0</td>\n      <td>10460</td>\n      <td>19057</td>\n      <td>1457</td>\n      <td>1361</td>\n      <td>1674</td>\n      <td>11710</td>\n      <td>6112</td>\n      <td>1108</td>\n      <td>5</td>\n      <td>130</td>\n      <td>29</td>\n      <td>164</td>\n    </tr>\n    <tr>\n      <th>2</th>\n      <td>139441</td>\n      <td>Photo</td>\n      <td>3</td>\n      <td>12</td>\n      <td>3</td>\n      <td>3</td>\n      <td>0</td>\n      <td>2413</td>\n      <td>4373</td>\n      <td>177</td>\n      <td>113</td>\n      <td>154</td>\n      <td>2812</td>\n      <td>1503</td>\n      <td>132</td>\n      <td>0</td>\n      <td>66</td>\n      <td>14</td>\n      <td>80</td>\n    </tr>\n    <tr>\n      <th>3</th>\n      <td>139441</td>\n      <td>Photo</td>\n      <td>2</td>\n      <td>12</td>\n      <td>2</td>\n      <td>10</td>\n      <td>1</td>\n      <td>50128</td>\n      <td>87991</td>\n      <td>2211</td>\n      <td>790</td>\n      <td>1119</td>\n      <td>61027</td>\n      <td>32048</td>\n      <td>1386</td>\n      <td>58</td>\n      <td>1572</td>\n      <td>147</td>\n      <td>1777</td>\n    </tr>\n    <tr>\n      <th>4</th>\n      <td>139441</td>\n      <td>Photo</td>\n      <td>2</td>\n      <td>12</td>\n      <td>2</td>\n      <td>3</td>\n      <td>0</td>\n      <td>7244</td>\n      <td>13594</td>\n      <td>671</td>\n      <td>410</td>\n      <td>580</td>\n      <td>6228</td>\n      <td>3200</td>\n      <td>396</td>\n      <td>19</td>\n      <td>325</td>\n      <td>49</td>\n      <td>393</td>\n    </tr>\n    <tr>\n      <th>...</th>\n      <td>...</td>\n      <td>...</td>\n      <td>...</td>\n      <td>...</td>\n      <td>...</td>\n      <td>...</td>\n      <td>...</td>\n      <td>...</td>\n      <td>...</td>\n      <td>...</td>\n      <td>...</td>\n      <td>...</td>\n      <td>...</td>\n      <td>...</td>\n      <td>...</td>\n      <td>...</td>\n      <td>...</td>\n      <td>...</td>\n      <td>...</td>\n    </tr>\n    <tr>\n      <th>495</th>\n      <td>85093</td>\n      <td>Photo</td>\n      <td>3</td>\n      <td>1</td>\n      <td>7</td>\n      <td>2</td>\n      <td>0</td>\n      <td>4684</td>\n      <td>7536</td>\n      <td>733</td>\n      <td>708</td>\n      <td>985</td>\n      <td>4750</td>\n      <td>2876</td>\n      <td>392</td>\n      <td>5</td>\n      <td>53</td>\n      <td>26</td>\n      <td>84</td>\n    </tr>\n    <tr>\n      <th>496</th>\n      <td>81370</td>\n      <td>Photo</td>\n      <td>2</td>\n      <td>1</td>\n      <td>5</td>\n      <td>8</td>\n      <td>0</td>\n      <td>3480</td>\n      <td>6229</td>\n      <td>537</td>\n      <td>508</td>\n      <td>687</td>\n      <td>3961</td>\n      <td>2104</td>\n      <td>301</td>\n      <td>0</td>\n      <td>53</td>\n      <td>22</td>\n      <td>75</td>\n    </tr>\n    <tr>\n      <th>497</th>\n      <td>81370</td>\n      <td>Photo</td>\n      <td>1</td>\n      <td>1</td>\n      <td>5</td>\n      <td>2</td>\n      <td>0</td>\n      <td>3778</td>\n      <td>7216</td>\n      <td>625</td>\n      <td>572</td>\n      <td>795</td>\n      <td>4742</td>\n      <td>2388</td>\n      <td>363</td>\n      <td>4</td>\n      <td>93</td>\n      <td>18</td>\n      <td>115</td>\n    </tr>\n    <tr>\n      <th>498</th>\n      <td>81370</td>\n      <td>Photo</td>\n      <td>3</td>\n      <td>1</td>\n      <td>4</td>\n      <td>11</td>\n      <td>0</td>\n      <td>4156</td>\n      <td>7564</td>\n      <td>626</td>\n      <td>574</td>\n      <td>832</td>\n      <td>4534</td>\n      <td>2452</td>\n      <td>370</td>\n      <td>7</td>\n      <td>91</td>\n      <td>38</td>\n      <td>136</td>\n    </tr>\n    <tr>\n      <th>499</th>\n      <td>81370</td>\n      <td>Photo</td>\n      <td>2</td>\n      <td>1</td>\n      <td>4</td>\n      <td>4</td>\n      <td>0</td>\n      <td>4188</td>\n      <td>7292</td>\n      <td>564</td>\n      <td>524</td>\n      <td>743</td>\n      <td>3861</td>\n      <td>2200</td>\n      <td>316</td>\n      <td>0</td>\n      <td>91</td>\n      <td>28</td>\n      <td>119</td>\n    </tr>\n  </tbody>\n</table>\n<p>500 rows × 19 columns</p>\n</div>"
     },
     "metadata": {},
     "execution_count": 23
    }
   ],
   "source": [
    "df.dropna()"
   ]
  },
  {
   "cell_type": "code",
   "execution_count": 24,
   "id": "instrumental-slovak",
   "metadata": {},
   "outputs": [
    {
     "output_type": "execute_result",
     "data": {
      "text/plain": [
       "     Page total likes  Category  Post Month  Post Weekday  Post Hour  Paid  \\\n",
       "0              139441         2          12             4          3     0   \n",
       "1              139441         2          12             3         10     0   \n",
       "2              139441         3          12             3          3     0   \n",
       "3              139441         2          12             2         10     1   \n",
       "4              139441         2          12             2          3     0   \n",
       "..                ...       ...         ...           ...        ...   ...   \n",
       "495             85093         3           1             7          2     0   \n",
       "496             81370         2           1             5          8     0   \n",
       "497             81370         1           1             5          2     0   \n",
       "498             81370         3           1             4         11     0   \n",
       "499             81370         2           1             4          4     0   \n",
       "\n",
       "     Lifetime Post Total Reach  Lifetime Post Total Impressions  \\\n",
       "0                         2752                             5091   \n",
       "1                        10460                            19057   \n",
       "2                         2413                             4373   \n",
       "3                        50128                            87991   \n",
       "4                         7244                            13594   \n",
       "..                         ...                              ...   \n",
       "495                       4684                             7536   \n",
       "496                       3480                             6229   \n",
       "497                       3778                             7216   \n",
       "498                       4156                             7564   \n",
       "499                       4188                             7292   \n",
       "\n",
       "     Lifetime Engaged Users  Lifetime Post Consumers  ...  \\\n",
       "0                       178                      109  ...   \n",
       "1                      1457                     1361  ...   \n",
       "2                       177                      113  ...   \n",
       "3                      2211                      790  ...   \n",
       "4                       671                      410  ...   \n",
       "..                      ...                      ...  ...   \n",
       "495                     733                      708  ...   \n",
       "496                     537                      508  ...   \n",
       "497                     625                      572  ...   \n",
       "498                     626                      574  ...   \n",
       "499                     564                      524  ...   \n",
       "\n",
       "     Lifetime Post reach by people who like your Page  \\\n",
       "0                                                1640   \n",
       "1                                                6112   \n",
       "2                                                1503   \n",
       "3                                               32048   \n",
       "4                                                3200   \n",
       "..                                                ...   \n",
       "495                                              2876   \n",
       "496                                              2104   \n",
       "497                                              2388   \n",
       "498                                              2452   \n",
       "499                                              2200   \n",
       "\n",
       "     Lifetime People who have liked your Page and engaged with your post  \\\n",
       "0                                                  119                     \n",
       "1                                                 1108                     \n",
       "2                                                  132                     \n",
       "3                                                 1386                     \n",
       "4                                                  396                     \n",
       "..                                                 ...                     \n",
       "495                                                392                     \n",
       "496                                                301                     \n",
       "497                                                363                     \n",
       "498                                                370                     \n",
       "499                                                316                     \n",
       "\n",
       "     comment  like  share  Total Interactions  Type_Link  Type_Photo  \\\n",
       "0          4    79     17                 100          0           1   \n",
       "1          5   130     29                 164          0           0   \n",
       "2          0    66     14                  80          0           1   \n",
       "3         58  1572    147                1777          0           1   \n",
       "4         19   325     49                 393          0           1   \n",
       "..       ...   ...    ...                 ...        ...         ...   \n",
       "495        5    53     26                  84          0           1   \n",
       "496        0    53     22                  75          0           1   \n",
       "497        4    93     18                 115          0           1   \n",
       "498        7    91     38                 136          0           1   \n",
       "499        0    91     28                 119          0           1   \n",
       "\n",
       "     Type_Status  Type_Video  \n",
       "0              0           0  \n",
       "1              1           0  \n",
       "2              0           0  \n",
       "3              0           0  \n",
       "4              0           0  \n",
       "..           ...         ...  \n",
       "495            0           0  \n",
       "496            0           0  \n",
       "497            0           0  \n",
       "498            0           0  \n",
       "499            0           0  \n",
       "\n",
       "[500 rows x 22 columns]"
      ],
      "text/html": "<div>\n<style scoped>\n    .dataframe tbody tr th:only-of-type {\n        vertical-align: middle;\n    }\n\n    .dataframe tbody tr th {\n        vertical-align: top;\n    }\n\n    .dataframe thead th {\n        text-align: right;\n    }\n</style>\n<table border=\"1\" class=\"dataframe\">\n  <thead>\n    <tr style=\"text-align: right;\">\n      <th></th>\n      <th>Page total likes</th>\n      <th>Category</th>\n      <th>Post Month</th>\n      <th>Post Weekday</th>\n      <th>Post Hour</th>\n      <th>Paid</th>\n      <th>Lifetime Post Total Reach</th>\n      <th>Lifetime Post Total Impressions</th>\n      <th>Lifetime Engaged Users</th>\n      <th>Lifetime Post Consumers</th>\n      <th>...</th>\n      <th>Lifetime Post reach by people who like your Page</th>\n      <th>Lifetime People who have liked your Page and engaged with your post</th>\n      <th>comment</th>\n      <th>like</th>\n      <th>share</th>\n      <th>Total Interactions</th>\n      <th>Type_Link</th>\n      <th>Type_Photo</th>\n      <th>Type_Status</th>\n      <th>Type_Video</th>\n    </tr>\n  </thead>\n  <tbody>\n    <tr>\n      <th>0</th>\n      <td>139441</td>\n      <td>2</td>\n      <td>12</td>\n      <td>4</td>\n      <td>3</td>\n      <td>0</td>\n      <td>2752</td>\n      <td>5091</td>\n      <td>178</td>\n      <td>109</td>\n      <td>...</td>\n      <td>1640</td>\n      <td>119</td>\n      <td>4</td>\n      <td>79</td>\n      <td>17</td>\n      <td>100</td>\n      <td>0</td>\n      <td>1</td>\n      <td>0</td>\n      <td>0</td>\n    </tr>\n    <tr>\n      <th>1</th>\n      <td>139441</td>\n      <td>2</td>\n      <td>12</td>\n      <td>3</td>\n      <td>10</td>\n      <td>0</td>\n      <td>10460</td>\n      <td>19057</td>\n      <td>1457</td>\n      <td>1361</td>\n      <td>...</td>\n      <td>6112</td>\n      <td>1108</td>\n      <td>5</td>\n      <td>130</td>\n      <td>29</td>\n      <td>164</td>\n      <td>0</td>\n      <td>0</td>\n      <td>1</td>\n      <td>0</td>\n    </tr>\n    <tr>\n      <th>2</th>\n      <td>139441</td>\n      <td>3</td>\n      <td>12</td>\n      <td>3</td>\n      <td>3</td>\n      <td>0</td>\n      <td>2413</td>\n      <td>4373</td>\n      <td>177</td>\n      <td>113</td>\n      <td>...</td>\n      <td>1503</td>\n      <td>132</td>\n      <td>0</td>\n      <td>66</td>\n      <td>14</td>\n      <td>80</td>\n      <td>0</td>\n      <td>1</td>\n      <td>0</td>\n      <td>0</td>\n    </tr>\n    <tr>\n      <th>3</th>\n      <td>139441</td>\n      <td>2</td>\n      <td>12</td>\n      <td>2</td>\n      <td>10</td>\n      <td>1</td>\n      <td>50128</td>\n      <td>87991</td>\n      <td>2211</td>\n      <td>790</td>\n      <td>...</td>\n      <td>32048</td>\n      <td>1386</td>\n      <td>58</td>\n      <td>1572</td>\n      <td>147</td>\n      <td>1777</td>\n      <td>0</td>\n      <td>1</td>\n      <td>0</td>\n      <td>0</td>\n    </tr>\n    <tr>\n      <th>4</th>\n      <td>139441</td>\n      <td>2</td>\n      <td>12</td>\n      <td>2</td>\n      <td>3</td>\n      <td>0</td>\n      <td>7244</td>\n      <td>13594</td>\n      <td>671</td>\n      <td>410</td>\n      <td>...</td>\n      <td>3200</td>\n      <td>396</td>\n      <td>19</td>\n      <td>325</td>\n      <td>49</td>\n      <td>393</td>\n      <td>0</td>\n      <td>1</td>\n      <td>0</td>\n      <td>0</td>\n    </tr>\n    <tr>\n      <th>...</th>\n      <td>...</td>\n      <td>...</td>\n      <td>...</td>\n      <td>...</td>\n      <td>...</td>\n      <td>...</td>\n      <td>...</td>\n      <td>...</td>\n      <td>...</td>\n      <td>...</td>\n      <td>...</td>\n      <td>...</td>\n      <td>...</td>\n      <td>...</td>\n      <td>...</td>\n      <td>...</td>\n      <td>...</td>\n      <td>...</td>\n      <td>...</td>\n      <td>...</td>\n      <td>...</td>\n    </tr>\n    <tr>\n      <th>495</th>\n      <td>85093</td>\n      <td>3</td>\n      <td>1</td>\n      <td>7</td>\n      <td>2</td>\n      <td>0</td>\n      <td>4684</td>\n      <td>7536</td>\n      <td>733</td>\n      <td>708</td>\n      <td>...</td>\n      <td>2876</td>\n      <td>392</td>\n      <td>5</td>\n      <td>53</td>\n      <td>26</td>\n      <td>84</td>\n      <td>0</td>\n      <td>1</td>\n      <td>0</td>\n      <td>0</td>\n    </tr>\n    <tr>\n      <th>496</th>\n      <td>81370</td>\n      <td>2</td>\n      <td>1</td>\n      <td>5</td>\n      <td>8</td>\n      <td>0</td>\n      <td>3480</td>\n      <td>6229</td>\n      <td>537</td>\n      <td>508</td>\n      <td>...</td>\n      <td>2104</td>\n      <td>301</td>\n      <td>0</td>\n      <td>53</td>\n      <td>22</td>\n      <td>75</td>\n      <td>0</td>\n      <td>1</td>\n      <td>0</td>\n      <td>0</td>\n    </tr>\n    <tr>\n      <th>497</th>\n      <td>81370</td>\n      <td>1</td>\n      <td>1</td>\n      <td>5</td>\n      <td>2</td>\n      <td>0</td>\n      <td>3778</td>\n      <td>7216</td>\n      <td>625</td>\n      <td>572</td>\n      <td>...</td>\n      <td>2388</td>\n      <td>363</td>\n      <td>4</td>\n      <td>93</td>\n      <td>18</td>\n      <td>115</td>\n      <td>0</td>\n      <td>1</td>\n      <td>0</td>\n      <td>0</td>\n    </tr>\n    <tr>\n      <th>498</th>\n      <td>81370</td>\n      <td>3</td>\n      <td>1</td>\n      <td>4</td>\n      <td>11</td>\n      <td>0</td>\n      <td>4156</td>\n      <td>7564</td>\n      <td>626</td>\n      <td>574</td>\n      <td>...</td>\n      <td>2452</td>\n      <td>370</td>\n      <td>7</td>\n      <td>91</td>\n      <td>38</td>\n      <td>136</td>\n      <td>0</td>\n      <td>1</td>\n      <td>0</td>\n      <td>0</td>\n    </tr>\n    <tr>\n      <th>499</th>\n      <td>81370</td>\n      <td>2</td>\n      <td>1</td>\n      <td>4</td>\n      <td>4</td>\n      <td>0</td>\n      <td>4188</td>\n      <td>7292</td>\n      <td>564</td>\n      <td>524</td>\n      <td>...</td>\n      <td>2200</td>\n      <td>316</td>\n      <td>0</td>\n      <td>91</td>\n      <td>28</td>\n      <td>119</td>\n      <td>0</td>\n      <td>1</td>\n      <td>0</td>\n      <td>0</td>\n    </tr>\n  </tbody>\n</table>\n<p>500 rows × 22 columns</p>\n</div>"
     },
     "metadata": {},
     "execution_count": 24
    }
   ],
   "source": [
    "pd.get_dummies(df, prefix='Type', columns=['Type'])"
   ]
  },
  {
   "cell_type": "code",
   "execution_count": 9,
   "id": "coral-nancy",
   "metadata": {},
   "outputs": [
    {
     "output_type": "execute_result",
     "data": {
      "text/plain": [
       "     Page total likes  Category  Post Month  Post Weekday  Post Hour  Paid  \\\n",
       "0              139441         2          12             4          3     0   \n",
       "1              139441         2          12             3         10     0   \n",
       "2              139441         3          12             3          3     0   \n",
       "3              139441         2          12             2         10     1   \n",
       "4              139441         2          12             2          3     0   \n",
       "..                ...       ...         ...           ...        ...   ...   \n",
       "495             85093         3           1             7          2     0   \n",
       "496             81370         2           1             5          8     0   \n",
       "497             81370         1           1             5          2     0   \n",
       "498             81370         3           1             4         11     0   \n",
       "499             81370         2           1             4          4     0   \n",
       "\n",
       "     Lifetime Post Total Reach  Lifetime Post Total Impressions  \\\n",
       "0                         2752                             5091   \n",
       "1                        10460                            19057   \n",
       "2                         2413                             4373   \n",
       "3                        50128                            87991   \n",
       "4                         7244                            13594   \n",
       "..                         ...                              ...   \n",
       "495                       4684                             7536   \n",
       "496                       3480                             6229   \n",
       "497                       3778                             7216   \n",
       "498                       4156                             7564   \n",
       "499                       4188                             7292   \n",
       "\n",
       "     Lifetime Engaged Users  Lifetime Post Consumers  ...  \\\n",
       "0                       178                      109  ...   \n",
       "1                      1457                     1361  ...   \n",
       "2                       177                      113  ...   \n",
       "3                      2211                      790  ...   \n",
       "4                       671                      410  ...   \n",
       "..                      ...                      ...  ...   \n",
       "495                     733                      708  ...   \n",
       "496                     537                      508  ...   \n",
       "497                     625                      572  ...   \n",
       "498                     626                      574  ...   \n",
       "499                     564                      524  ...   \n",
       "\n",
       "     Lifetime Post reach by people who like your Page  \\\n",
       "0                                                1640   \n",
       "1                                                6112   \n",
       "2                                                1503   \n",
       "3                                               32048   \n",
       "4                                                3200   \n",
       "..                                                ...   \n",
       "495                                              2876   \n",
       "496                                              2104   \n",
       "497                                              2388   \n",
       "498                                              2452   \n",
       "499                                              2200   \n",
       "\n",
       "     Lifetime People who have liked your Page and engaged with your post  \\\n",
       "0                                                  119                     \n",
       "1                                                 1108                     \n",
       "2                                                  132                     \n",
       "3                                                 1386                     \n",
       "4                                                  396                     \n",
       "..                                                 ...                     \n",
       "495                                                392                     \n",
       "496                                                301                     \n",
       "497                                                363                     \n",
       "498                                                370                     \n",
       "499                                                316                     \n",
       "\n",
       "     comment  like  share  Total Interactions  Type_Link  Type_Photo  \\\n",
       "0          4    79     17                 100          0           1   \n",
       "1          5   130     29                 164          0           0   \n",
       "2          0    66     14                  80          0           1   \n",
       "3         58  1572    147                1777          0           1   \n",
       "4         19   325     49                 393          0           1   \n",
       "..       ...   ...    ...                 ...        ...         ...   \n",
       "495        5    53     26                  84          0           1   \n",
       "496        0    53     22                  75          0           1   \n",
       "497        4    93     18                 115          0           1   \n",
       "498        7    91     38                 136          0           1   \n",
       "499        0    91     28                 119          0           1   \n",
       "\n",
       "     Type_Status  Type_Video  \n",
       "0              0           0  \n",
       "1              1           0  \n",
       "2              0           0  \n",
       "3              0           0  \n",
       "4              0           0  \n",
       "..           ...         ...  \n",
       "495            0           0  \n",
       "496            0           0  \n",
       "497            0           0  \n",
       "498            0           0  \n",
       "499            0           0  \n",
       "\n",
       "[500 rows x 22 columns]"
      ],
      "text/html": "<div>\n<style scoped>\n    .dataframe tbody tr th:only-of-type {\n        vertical-align: middle;\n    }\n\n    .dataframe tbody tr th {\n        vertical-align: top;\n    }\n\n    .dataframe thead th {\n        text-align: right;\n    }\n</style>\n<table border=\"1\" class=\"dataframe\">\n  <thead>\n    <tr style=\"text-align: right;\">\n      <th></th>\n      <th>Page total likes</th>\n      <th>Category</th>\n      <th>Post Month</th>\n      <th>Post Weekday</th>\n      <th>Post Hour</th>\n      <th>Paid</th>\n      <th>Lifetime Post Total Reach</th>\n      <th>Lifetime Post Total Impressions</th>\n      <th>Lifetime Engaged Users</th>\n      <th>Lifetime Post Consumers</th>\n      <th>...</th>\n      <th>Lifetime Post reach by people who like your Page</th>\n      <th>Lifetime People who have liked your Page and engaged with your post</th>\n      <th>comment</th>\n      <th>like</th>\n      <th>share</th>\n      <th>Total Interactions</th>\n      <th>Type_Link</th>\n      <th>Type_Photo</th>\n      <th>Type_Status</th>\n      <th>Type_Video</th>\n    </tr>\n  </thead>\n  <tbody>\n    <tr>\n      <th>0</th>\n      <td>139441</td>\n      <td>2</td>\n      <td>12</td>\n      <td>4</td>\n      <td>3</td>\n      <td>0</td>\n      <td>2752</td>\n      <td>5091</td>\n      <td>178</td>\n      <td>109</td>\n      <td>...</td>\n      <td>1640</td>\n      <td>119</td>\n      <td>4</td>\n      <td>79</td>\n      <td>17</td>\n      <td>100</td>\n      <td>0</td>\n      <td>1</td>\n      <td>0</td>\n      <td>0</td>\n    </tr>\n    <tr>\n      <th>1</th>\n      <td>139441</td>\n      <td>2</td>\n      <td>12</td>\n      <td>3</td>\n      <td>10</td>\n      <td>0</td>\n      <td>10460</td>\n      <td>19057</td>\n      <td>1457</td>\n      <td>1361</td>\n      <td>...</td>\n      <td>6112</td>\n      <td>1108</td>\n      <td>5</td>\n      <td>130</td>\n      <td>29</td>\n      <td>164</td>\n      <td>0</td>\n      <td>0</td>\n      <td>1</td>\n      <td>0</td>\n    </tr>\n    <tr>\n      <th>2</th>\n      <td>139441</td>\n      <td>3</td>\n      <td>12</td>\n      <td>3</td>\n      <td>3</td>\n      <td>0</td>\n      <td>2413</td>\n      <td>4373</td>\n      <td>177</td>\n      <td>113</td>\n      <td>...</td>\n      <td>1503</td>\n      <td>132</td>\n      <td>0</td>\n      <td>66</td>\n      <td>14</td>\n      <td>80</td>\n      <td>0</td>\n      <td>1</td>\n      <td>0</td>\n      <td>0</td>\n    </tr>\n    <tr>\n      <th>3</th>\n      <td>139441</td>\n      <td>2</td>\n      <td>12</td>\n      <td>2</td>\n      <td>10</td>\n      <td>1</td>\n      <td>50128</td>\n      <td>87991</td>\n      <td>2211</td>\n      <td>790</td>\n      <td>...</td>\n      <td>32048</td>\n      <td>1386</td>\n      <td>58</td>\n      <td>1572</td>\n      <td>147</td>\n      <td>1777</td>\n      <td>0</td>\n      <td>1</td>\n      <td>0</td>\n      <td>0</td>\n    </tr>\n    <tr>\n      <th>4</th>\n      <td>139441</td>\n      <td>2</td>\n      <td>12</td>\n      <td>2</td>\n      <td>3</td>\n      <td>0</td>\n      <td>7244</td>\n      <td>13594</td>\n      <td>671</td>\n      <td>410</td>\n      <td>...</td>\n      <td>3200</td>\n      <td>396</td>\n      <td>19</td>\n      <td>325</td>\n      <td>49</td>\n      <td>393</td>\n      <td>0</td>\n      <td>1</td>\n      <td>0</td>\n      <td>0</td>\n    </tr>\n    <tr>\n      <th>...</th>\n      <td>...</td>\n      <td>...</td>\n      <td>...</td>\n      <td>...</td>\n      <td>...</td>\n      <td>...</td>\n      <td>...</td>\n      <td>...</td>\n      <td>...</td>\n      <td>...</td>\n      <td>...</td>\n      <td>...</td>\n      <td>...</td>\n      <td>...</td>\n      <td>...</td>\n      <td>...</td>\n      <td>...</td>\n      <td>...</td>\n      <td>...</td>\n      <td>...</td>\n      <td>...</td>\n    </tr>\n    <tr>\n      <th>495</th>\n      <td>85093</td>\n      <td>3</td>\n      <td>1</td>\n      <td>7</td>\n      <td>2</td>\n      <td>0</td>\n      <td>4684</td>\n      <td>7536</td>\n      <td>733</td>\n      <td>708</td>\n      <td>...</td>\n      <td>2876</td>\n      <td>392</td>\n      <td>5</td>\n      <td>53</td>\n      <td>26</td>\n      <td>84</td>\n      <td>0</td>\n      <td>1</td>\n      <td>0</td>\n      <td>0</td>\n    </tr>\n    <tr>\n      <th>496</th>\n      <td>81370</td>\n      <td>2</td>\n      <td>1</td>\n      <td>5</td>\n      <td>8</td>\n      <td>0</td>\n      <td>3480</td>\n      <td>6229</td>\n      <td>537</td>\n      <td>508</td>\n      <td>...</td>\n      <td>2104</td>\n      <td>301</td>\n      <td>0</td>\n      <td>53</td>\n      <td>22</td>\n      <td>75</td>\n      <td>0</td>\n      <td>1</td>\n      <td>0</td>\n      <td>0</td>\n    </tr>\n    <tr>\n      <th>497</th>\n      <td>81370</td>\n      <td>1</td>\n      <td>1</td>\n      <td>5</td>\n      <td>2</td>\n      <td>0</td>\n      <td>3778</td>\n      <td>7216</td>\n      <td>625</td>\n      <td>572</td>\n      <td>...</td>\n      <td>2388</td>\n      <td>363</td>\n      <td>4</td>\n      <td>93</td>\n      <td>18</td>\n      <td>115</td>\n      <td>0</td>\n      <td>1</td>\n      <td>0</td>\n      <td>0</td>\n    </tr>\n    <tr>\n      <th>498</th>\n      <td>81370</td>\n      <td>3</td>\n      <td>1</td>\n      <td>4</td>\n      <td>11</td>\n      <td>0</td>\n      <td>4156</td>\n      <td>7564</td>\n      <td>626</td>\n      <td>574</td>\n      <td>...</td>\n      <td>2452</td>\n      <td>370</td>\n      <td>7</td>\n      <td>91</td>\n      <td>38</td>\n      <td>136</td>\n      <td>0</td>\n      <td>1</td>\n      <td>0</td>\n      <td>0</td>\n    </tr>\n    <tr>\n      <th>499</th>\n      <td>81370</td>\n      <td>2</td>\n      <td>1</td>\n      <td>4</td>\n      <td>4</td>\n      <td>0</td>\n      <td>4188</td>\n      <td>7292</td>\n      <td>564</td>\n      <td>524</td>\n      <td>...</td>\n      <td>2200</td>\n      <td>316</td>\n      <td>0</td>\n      <td>91</td>\n      <td>28</td>\n      <td>119</td>\n      <td>0</td>\n      <td>1</td>\n      <td>0</td>\n      <td>0</td>\n    </tr>\n  </tbody>\n</table>\n<p>500 rows × 22 columns</p>\n</div>"
     },
     "metadata": {},
     "execution_count": 9
    }
   ],
   "source": [
    "pd.get_dummies(df)"
   ]
  },
  {
   "cell_type": "code",
   "execution_count": 25,
   "id": "immediate-astronomy",
   "metadata": {},
   "outputs": [],
   "source": [
    "pd.get_dummies(df).to_csv(\"../data/regression/facebook_preprocessed.csv\", index_label = False)"
   ]
  },
  {
   "cell_type": "code",
   "execution_count": 26,
   "id": "laughing-serum",
   "metadata": {},
   "outputs": [],
   "source": [
    "df1 = pd.read_csv(\"../data/regression/facebook_preprocessed.csv\", sep=',')"
   ]
  },
  {
   "cell_type": "code",
   "execution_count": 27,
   "id": "invisible-history",
   "metadata": {},
   "outputs": [
    {
     "output_type": "execute_result",
     "data": {
      "text/plain": [
       "   Page total likes  Category  Post Month  Post Weekday  Post Hour  Paid  \\\n",
       "0            139441         2          12             4          3     0   \n",
       "1            139441         2          12             3         10     0   \n",
       "2            139441         3          12             3          3     0   \n",
       "3            139441         2          12             2         10     1   \n",
       "4            139441         2          12             2          3     0   \n",
       "\n",
       "   Lifetime Post Total Reach  Lifetime Post Total Impressions  \\\n",
       "0                       2752                             5091   \n",
       "1                      10460                            19057   \n",
       "2                       2413                             4373   \n",
       "3                      50128                            87991   \n",
       "4                       7244                            13594   \n",
       "\n",
       "   Lifetime Engaged Users  Lifetime Post Consumers  ...  \\\n",
       "0                     178                      109  ...   \n",
       "1                    1457                     1361  ...   \n",
       "2                     177                      113  ...   \n",
       "3                    2211                      790  ...   \n",
       "4                     671                      410  ...   \n",
       "\n",
       "   Lifetime Post reach by people who like your Page  \\\n",
       "0                                              1640   \n",
       "1                                              6112   \n",
       "2                                              1503   \n",
       "3                                             32048   \n",
       "4                                              3200   \n",
       "\n",
       "   Lifetime People who have liked your Page and engaged with your post  \\\n",
       "0                                                119                     \n",
       "1                                               1108                     \n",
       "2                                                132                     \n",
       "3                                               1386                     \n",
       "4                                                396                     \n",
       "\n",
       "   comment  like  share  Total Interactions  Type_Link  Type_Photo  \\\n",
       "0        4    79     17                 100          0           1   \n",
       "1        5   130     29                 164          0           0   \n",
       "2        0    66     14                  80          0           1   \n",
       "3       58  1572    147                1777          0           1   \n",
       "4       19   325     49                 393          0           1   \n",
       "\n",
       "   Type_Status  Type_Video  \n",
       "0            0           0  \n",
       "1            1           0  \n",
       "2            0           0  \n",
       "3            0           0  \n",
       "4            0           0  \n",
       "\n",
       "[5 rows x 22 columns]"
      ],
      "text/html": "<div>\n<style scoped>\n    .dataframe tbody tr th:only-of-type {\n        vertical-align: middle;\n    }\n\n    .dataframe tbody tr th {\n        vertical-align: top;\n    }\n\n    .dataframe thead th {\n        text-align: right;\n    }\n</style>\n<table border=\"1\" class=\"dataframe\">\n  <thead>\n    <tr style=\"text-align: right;\">\n      <th></th>\n      <th>Page total likes</th>\n      <th>Category</th>\n      <th>Post Month</th>\n      <th>Post Weekday</th>\n      <th>Post Hour</th>\n      <th>Paid</th>\n      <th>Lifetime Post Total Reach</th>\n      <th>Lifetime Post Total Impressions</th>\n      <th>Lifetime Engaged Users</th>\n      <th>Lifetime Post Consumers</th>\n      <th>...</th>\n      <th>Lifetime Post reach by people who like your Page</th>\n      <th>Lifetime People who have liked your Page and engaged with your post</th>\n      <th>comment</th>\n      <th>like</th>\n      <th>share</th>\n      <th>Total Interactions</th>\n      <th>Type_Link</th>\n      <th>Type_Photo</th>\n      <th>Type_Status</th>\n      <th>Type_Video</th>\n    </tr>\n  </thead>\n  <tbody>\n    <tr>\n      <th>0</th>\n      <td>139441</td>\n      <td>2</td>\n      <td>12</td>\n      <td>4</td>\n      <td>3</td>\n      <td>0</td>\n      <td>2752</td>\n      <td>5091</td>\n      <td>178</td>\n      <td>109</td>\n      <td>...</td>\n      <td>1640</td>\n      <td>119</td>\n      <td>4</td>\n      <td>79</td>\n      <td>17</td>\n      <td>100</td>\n      <td>0</td>\n      <td>1</td>\n      <td>0</td>\n      <td>0</td>\n    </tr>\n    <tr>\n      <th>1</th>\n      <td>139441</td>\n      <td>2</td>\n      <td>12</td>\n      <td>3</td>\n      <td>10</td>\n      <td>0</td>\n      <td>10460</td>\n      <td>19057</td>\n      <td>1457</td>\n      <td>1361</td>\n      <td>...</td>\n      <td>6112</td>\n      <td>1108</td>\n      <td>5</td>\n      <td>130</td>\n      <td>29</td>\n      <td>164</td>\n      <td>0</td>\n      <td>0</td>\n      <td>1</td>\n      <td>0</td>\n    </tr>\n    <tr>\n      <th>2</th>\n      <td>139441</td>\n      <td>3</td>\n      <td>12</td>\n      <td>3</td>\n      <td>3</td>\n      <td>0</td>\n      <td>2413</td>\n      <td>4373</td>\n      <td>177</td>\n      <td>113</td>\n      <td>...</td>\n      <td>1503</td>\n      <td>132</td>\n      <td>0</td>\n      <td>66</td>\n      <td>14</td>\n      <td>80</td>\n      <td>0</td>\n      <td>1</td>\n      <td>0</td>\n      <td>0</td>\n    </tr>\n    <tr>\n      <th>3</th>\n      <td>139441</td>\n      <td>2</td>\n      <td>12</td>\n      <td>2</td>\n      <td>10</td>\n      <td>1</td>\n      <td>50128</td>\n      <td>87991</td>\n      <td>2211</td>\n      <td>790</td>\n      <td>...</td>\n      <td>32048</td>\n      <td>1386</td>\n      <td>58</td>\n      <td>1572</td>\n      <td>147</td>\n      <td>1777</td>\n      <td>0</td>\n      <td>1</td>\n      <td>0</td>\n      <td>0</td>\n    </tr>\n    <tr>\n      <th>4</th>\n      <td>139441</td>\n      <td>2</td>\n      <td>12</td>\n      <td>2</td>\n      <td>3</td>\n      <td>0</td>\n      <td>7244</td>\n      <td>13594</td>\n      <td>671</td>\n      <td>410</td>\n      <td>...</td>\n      <td>3200</td>\n      <td>396</td>\n      <td>19</td>\n      <td>325</td>\n      <td>49</td>\n      <td>393</td>\n      <td>0</td>\n      <td>1</td>\n      <td>0</td>\n      <td>0</td>\n    </tr>\n  </tbody>\n</table>\n<p>5 rows × 22 columns</p>\n</div>"
     },
     "metadata": {},
     "execution_count": 27
    }
   ],
   "source": [
    "df1.head()"
   ]
  },
  {
   "cell_type": "code",
   "execution_count": null,
   "metadata": {},
   "outputs": [],
   "source": []
  }
 ],
 "metadata": {
  "kernelspec": {
   "name": "python391jvsc74a57bd016e4b87f0dbdf66a4ee056938d0c8f3ebbd68a803ec7e298da5e0d0190041215",
   "display_name": "Python 3.9.1 64-bit"
  },
  "language_info": {
   "codemirror_mode": {
    "name": "ipython",
    "version": 3
   },
   "file_extension": ".py",
   "mimetype": "text/x-python",
   "name": "python",
   "nbconvert_exporter": "python",
   "pygments_lexer": "ipython3",
   "version": "3.9.1"
  }
 },
 "nbformat": 4,
 "nbformat_minor": 5
}