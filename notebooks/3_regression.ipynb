{
 "cells": [
  {
   "cell_type": "code",
   "execution_count": 40,
   "metadata": {},
   "outputs": [],
   "source": [
    "import pandas as pd\n",
    "import numpy as np\n",
    "from sklearn.model_selection import train_test_split\n",
    "from sklearn.preprocessing import StandardScaler\n",
    "from sklearn.linear_model import LinearRegression\n",
    "from sklearn.metrics import r2_score, mean_squared_error, mean_absolute_error\n",
    "from sklearn.tree import DecisionTreeRegressor\n",
    "from sklearn.model_selection import GridSearchCV\n",
    "from sklearn.linear_model import Lasso\n",
    "from sklearn.linear_model import Ridge\n",
    "from sklearn.linear_model import ElasticNet"
   ]
  },
  {
   "cell_type": "code",
   "execution_count": 19,
   "metadata": {},
   "outputs": [],
   "source": [
    "df = pd.read_csv(\"../data/regression/facebook_preprocessed.csv\") "
   ]
  },
  {
   "cell_type": "code",
   "execution_count": 20,
   "metadata": {},
   "outputs": [
    {
     "output_type": "execute_result",
     "data": {
      "text/plain": [
       "   Page total likes  Category  Post Month  Post Weekday  Post Hour  Paid  \\\n",
       "0            139441         2          12             4          3     0   \n",
       "1            139441         2          12             3         10     0   \n",
       "2            139441         3          12             3          3     0   \n",
       "3            139441         2          12             2         10     1   \n",
       "4            139441         2          12             2          3     0   \n",
       "\n",
       "   Lifetime Post Total Reach  Lifetime Post Total Impressions  \\\n",
       "0                       2752                             5091   \n",
       "1                      10460                            19057   \n",
       "2                       2413                             4373   \n",
       "3                      50128                            87991   \n",
       "4                       7244                            13594   \n",
       "\n",
       "   Lifetime Engaged Users  Lifetime Post Consumers  ...  \\\n",
       "0                     178                      109  ...   \n",
       "1                    1457                     1361  ...   \n",
       "2                     177                      113  ...   \n",
       "3                    2211                      790  ...   \n",
       "4                     671                      410  ...   \n",
       "\n",
       "   Lifetime Post reach by people who like your Page  \\\n",
       "0                                              1640   \n",
       "1                                              6112   \n",
       "2                                              1503   \n",
       "3                                             32048   \n",
       "4                                              3200   \n",
       "\n",
       "   Lifetime People who have liked your Page and engaged with your post  \\\n",
       "0                                                119                     \n",
       "1                                               1108                     \n",
       "2                                                132                     \n",
       "3                                               1386                     \n",
       "4                                                396                     \n",
       "\n",
       "   comment  like  share  Total Interactions  Type_Link  Type_Photo  \\\n",
       "0        4    79     17                 100          0           1   \n",
       "1        5   130     29                 164          0           0   \n",
       "2        0    66     14                  80          0           1   \n",
       "3       58  1572    147                1777          0           1   \n",
       "4       19   325     49                 393          0           1   \n",
       "\n",
       "   Type_Status  Type_Video  \n",
       "0            0           0  \n",
       "1            1           0  \n",
       "2            0           0  \n",
       "3            0           0  \n",
       "4            0           0  \n",
       "\n",
       "[5 rows x 22 columns]"
      ],
      "text/html": "<div>\n<style scoped>\n    .dataframe tbody tr th:only-of-type {\n        vertical-align: middle;\n    }\n\n    .dataframe tbody tr th {\n        vertical-align: top;\n    }\n\n    .dataframe thead th {\n        text-align: right;\n    }\n</style>\n<table border=\"1\" class=\"dataframe\">\n  <thead>\n    <tr style=\"text-align: right;\">\n      <th></th>\n      <th>Page total likes</th>\n      <th>Category</th>\n      <th>Post Month</th>\n      <th>Post Weekday</th>\n      <th>Post Hour</th>\n      <th>Paid</th>\n      <th>Lifetime Post Total Reach</th>\n      <th>Lifetime Post Total Impressions</th>\n      <th>Lifetime Engaged Users</th>\n      <th>Lifetime Post Consumers</th>\n      <th>...</th>\n      <th>Lifetime Post reach by people who like your Page</th>\n      <th>Lifetime People who have liked your Page and engaged with your post</th>\n      <th>comment</th>\n      <th>like</th>\n      <th>share</th>\n      <th>Total Interactions</th>\n      <th>Type_Link</th>\n      <th>Type_Photo</th>\n      <th>Type_Status</th>\n      <th>Type_Video</th>\n    </tr>\n  </thead>\n  <tbody>\n    <tr>\n      <th>0</th>\n      <td>139441</td>\n      <td>2</td>\n      <td>12</td>\n      <td>4</td>\n      <td>3</td>\n      <td>0</td>\n      <td>2752</td>\n      <td>5091</td>\n      <td>178</td>\n      <td>109</td>\n      <td>...</td>\n      <td>1640</td>\n      <td>119</td>\n      <td>4</td>\n      <td>79</td>\n      <td>17</td>\n      <td>100</td>\n      <td>0</td>\n      <td>1</td>\n      <td>0</td>\n      <td>0</td>\n    </tr>\n    <tr>\n      <th>1</th>\n      <td>139441</td>\n      <td>2</td>\n      <td>12</td>\n      <td>3</td>\n      <td>10</td>\n      <td>0</td>\n      <td>10460</td>\n      <td>19057</td>\n      <td>1457</td>\n      <td>1361</td>\n      <td>...</td>\n      <td>6112</td>\n      <td>1108</td>\n      <td>5</td>\n      <td>130</td>\n      <td>29</td>\n      <td>164</td>\n      <td>0</td>\n      <td>0</td>\n      <td>1</td>\n      <td>0</td>\n    </tr>\n    <tr>\n      <th>2</th>\n      <td>139441</td>\n      <td>3</td>\n      <td>12</td>\n      <td>3</td>\n      <td>3</td>\n      <td>0</td>\n      <td>2413</td>\n      <td>4373</td>\n      <td>177</td>\n      <td>113</td>\n      <td>...</td>\n      <td>1503</td>\n      <td>132</td>\n      <td>0</td>\n      <td>66</td>\n      <td>14</td>\n      <td>80</td>\n      <td>0</td>\n      <td>1</td>\n      <td>0</td>\n      <td>0</td>\n    </tr>\n    <tr>\n      <th>3</th>\n      <td>139441</td>\n      <td>2</td>\n      <td>12</td>\n      <td>2</td>\n      <td>10</td>\n      <td>1</td>\n      <td>50128</td>\n      <td>87991</td>\n      <td>2211</td>\n      <td>790</td>\n      <td>...</td>\n      <td>32048</td>\n      <td>1386</td>\n      <td>58</td>\n      <td>1572</td>\n      <td>147</td>\n      <td>1777</td>\n      <td>0</td>\n      <td>1</td>\n      <td>0</td>\n      <td>0</td>\n    </tr>\n    <tr>\n      <th>4</th>\n      <td>139441</td>\n      <td>2</td>\n      <td>12</td>\n      <td>2</td>\n      <td>3</td>\n      <td>0</td>\n      <td>7244</td>\n      <td>13594</td>\n      <td>671</td>\n      <td>410</td>\n      <td>...</td>\n      <td>3200</td>\n      <td>396</td>\n      <td>19</td>\n      <td>325</td>\n      <td>49</td>\n      <td>393</td>\n      <td>0</td>\n      <td>1</td>\n      <td>0</td>\n      <td>0</td>\n    </tr>\n  </tbody>\n</table>\n<p>5 rows × 22 columns</p>\n</div>"
     },
     "metadata": {},
     "execution_count": 20
    }
   ],
   "source": [
    "df.head()"
   ]
  },
  {
   "cell_type": "code",
   "execution_count": 21,
   "metadata": {},
   "outputs": [
    {
     "output_type": "stream",
     "name": "stdout",
     "text": [
      "<class 'pandas.core.frame.DataFrame'>\nInt64Index: 500 entries, 0 to 499\nData columns (total 22 columns):\n #   Column                                                               Non-Null Count  Dtype\n---  ------                                                               --------------  -----\n 0   Page total likes                                                     500 non-null    int64\n 1   Category                                                             500 non-null    int64\n 2   Post Month                                                           500 non-null    int64\n 3   Post Weekday                                                         500 non-null    int64\n 4   Post Hour                                                            500 non-null    int64\n 5   Paid                                                                 500 non-null    int64\n 6   Lifetime Post Total Reach                                            500 non-null    int64\n 7   Lifetime Post Total Impressions                                      500 non-null    int64\n 8   Lifetime Engaged Users                                               500 non-null    int64\n 9   Lifetime Post Consumers                                              500 non-null    int64\n 10  Lifetime Post Consumptions                                           500 non-null    int64\n 11  Lifetime Post Impressions by people who have liked your Page         500 non-null    int64\n 12  Lifetime Post reach by people who like your Page                     500 non-null    int64\n 13  Lifetime People who have liked your Page and engaged with your post  500 non-null    int64\n 14  comment                                                              500 non-null    int64\n 15  like                                                                 500 non-null    int64\n 16  share                                                                500 non-null    int64\n 17  Total Interactions                                                   500 non-null    int64\n 18  Type_Link                                                            500 non-null    int64\n 19  Type_Photo                                                           500 non-null    int64\n 20  Type_Status                                                          500 non-null    int64\n 21  Type_Video                                                           500 non-null    int64\ndtypes: int64(22)\nmemory usage: 89.8 KB\n"
     ]
    }
   ],
   "source": [
    "df.info()"
   ]
  },
  {
   "cell_type": "code",
   "execution_count": 22,
   "metadata": {},
   "outputs": [
    {
     "output_type": "execute_result",
     "data": {
      "text/plain": [
       "0      139441\n",
       "1      139441\n",
       "2      139441\n",
       "3      139441\n",
       "4      139441\n",
       "        ...  \n",
       "495     85093\n",
       "496     81370\n",
       "497     81370\n",
       "498     81370\n",
       "499     81370\n",
       "Name: Page total likes, Length: 500, dtype: int64"
      ]
     },
     "metadata": {},
     "execution_count": 22
    }
   ],
   "source": [
    "y = df[\"Page total likes\"]\n",
    "y"
   ]
  },
  {
   "cell_type": "code",
   "execution_count": 23,
   "metadata": {},
   "outputs": [
    {
     "output_type": "execute_result",
     "data": {
      "text/plain": [
       "     Post Month  Post Weekday  Post Hour  Paid  Lifetime Post Total Reach  \\\n",
       "0            12             4          3     0                       2752   \n",
       "1            12             3         10     0                      10460   \n",
       "2            12             3          3     0                       2413   \n",
       "3            12             2         10     1                      50128   \n",
       "4            12             2          3     0                       7244   \n",
       "..          ...           ...        ...   ...                        ...   \n",
       "495           1             7          2     0                       4684   \n",
       "496           1             5          8     0                       3480   \n",
       "497           1             5          2     0                       3778   \n",
       "498           1             4         11     0                       4156   \n",
       "499           1             4          4     0                       4188   \n",
       "\n",
       "     Lifetime Post Total Impressions  Lifetime Engaged Users  \\\n",
       "0                               5091                     178   \n",
       "1                              19057                    1457   \n",
       "2                               4373                     177   \n",
       "3                              87991                    2211   \n",
       "4                              13594                     671   \n",
       "..                               ...                     ...   \n",
       "495                             7536                     733   \n",
       "496                             6229                     537   \n",
       "497                             7216                     625   \n",
       "498                             7564                     626   \n",
       "499                             7292                     564   \n",
       "\n",
       "     Lifetime Post Consumers  Lifetime Post Consumptions  \\\n",
       "0                        109                         159   \n",
       "1                       1361                        1674   \n",
       "2                        113                         154   \n",
       "3                        790                        1119   \n",
       "4                        410                         580   \n",
       "..                       ...                         ...   \n",
       "495                      708                         985   \n",
       "496                      508                         687   \n",
       "497                      572                         795   \n",
       "498                      574                         832   \n",
       "499                      524                         743   \n",
       "\n",
       "     Lifetime Post Impressions by people who have liked your Page  \\\n",
       "0                                                 3078              \n",
       "1                                                11710              \n",
       "2                                                 2812              \n",
       "3                                                61027              \n",
       "4                                                 6228              \n",
       "..                                                 ...              \n",
       "495                                               4750              \n",
       "496                                               3961              \n",
       "497                                               4742              \n",
       "498                                               4534              \n",
       "499                                               3861              \n",
       "\n",
       "     Lifetime Post reach by people who like your Page  \\\n",
       "0                                                1640   \n",
       "1                                                6112   \n",
       "2                                                1503   \n",
       "3                                               32048   \n",
       "4                                                3200   \n",
       "..                                                ...   \n",
       "495                                              2876   \n",
       "496                                              2104   \n",
       "497                                              2388   \n",
       "498                                              2452   \n",
       "499                                              2200   \n",
       "\n",
       "     Lifetime People who have liked your Page and engaged with your post  \\\n",
       "0                                                  119                     \n",
       "1                                                 1108                     \n",
       "2                                                  132                     \n",
       "3                                                 1386                     \n",
       "4                                                  396                     \n",
       "..                                                 ...                     \n",
       "495                                                392                     \n",
       "496                                                301                     \n",
       "497                                                363                     \n",
       "498                                                370                     \n",
       "499                                                316                     \n",
       "\n",
       "     comment  like  share  Total Interactions  Type_Link  Type_Photo  \\\n",
       "0          4    79     17                 100          0           1   \n",
       "1          5   130     29                 164          0           0   \n",
       "2          0    66     14                  80          0           1   \n",
       "3         58  1572    147                1777          0           1   \n",
       "4         19   325     49                 393          0           1   \n",
       "..       ...   ...    ...                 ...        ...         ...   \n",
       "495        5    53     26                  84          0           1   \n",
       "496        0    53     22                  75          0           1   \n",
       "497        4    93     18                 115          0           1   \n",
       "498        7    91     38                 136          0           1   \n",
       "499        0    91     28                 119          0           1   \n",
       "\n",
       "     Type_Status  Type_Video  \n",
       "0              0           0  \n",
       "1              1           0  \n",
       "2              0           0  \n",
       "3              0           0  \n",
       "4              0           0  \n",
       "..           ...         ...  \n",
       "495            0           0  \n",
       "496            0           0  \n",
       "497            0           0  \n",
       "498            0           0  \n",
       "499            0           0  \n",
       "\n",
       "[500 rows x 20 columns]"
      ],
      "text/html": "<div>\n<style scoped>\n    .dataframe tbody tr th:only-of-type {\n        vertical-align: middle;\n    }\n\n    .dataframe tbody tr th {\n        vertical-align: top;\n    }\n\n    .dataframe thead th {\n        text-align: right;\n    }\n</style>\n<table border=\"1\" class=\"dataframe\">\n  <thead>\n    <tr style=\"text-align: right;\">\n      <th></th>\n      <th>Post Month</th>\n      <th>Post Weekday</th>\n      <th>Post Hour</th>\n      <th>Paid</th>\n      <th>Lifetime Post Total Reach</th>\n      <th>Lifetime Post Total Impressions</th>\n      <th>Lifetime Engaged Users</th>\n      <th>Lifetime Post Consumers</th>\n      <th>Lifetime Post Consumptions</th>\n      <th>Lifetime Post Impressions by people who have liked your Page</th>\n      <th>Lifetime Post reach by people who like your Page</th>\n      <th>Lifetime People who have liked your Page and engaged with your post</th>\n      <th>comment</th>\n      <th>like</th>\n      <th>share</th>\n      <th>Total Interactions</th>\n      <th>Type_Link</th>\n      <th>Type_Photo</th>\n      <th>Type_Status</th>\n      <th>Type_Video</th>\n    </tr>\n  </thead>\n  <tbody>\n    <tr>\n      <th>0</th>\n      <td>12</td>\n      <td>4</td>\n      <td>3</td>\n      <td>0</td>\n      <td>2752</td>\n      <td>5091</td>\n      <td>178</td>\n      <td>109</td>\n      <td>159</td>\n      <td>3078</td>\n      <td>1640</td>\n      <td>119</td>\n      <td>4</td>\n      <td>79</td>\n      <td>17</td>\n      <td>100</td>\n      <td>0</td>\n      <td>1</td>\n      <td>0</td>\n      <td>0</td>\n    </tr>\n    <tr>\n      <th>1</th>\n      <td>12</td>\n      <td>3</td>\n      <td>10</td>\n      <td>0</td>\n      <td>10460</td>\n      <td>19057</td>\n      <td>1457</td>\n      <td>1361</td>\n      <td>1674</td>\n      <td>11710</td>\n      <td>6112</td>\n      <td>1108</td>\n      <td>5</td>\n      <td>130</td>\n      <td>29</td>\n      <td>164</td>\n      <td>0</td>\n      <td>0</td>\n      <td>1</td>\n      <td>0</td>\n    </tr>\n    <tr>\n      <th>2</th>\n      <td>12</td>\n      <td>3</td>\n      <td>3</td>\n      <td>0</td>\n      <td>2413</td>\n      <td>4373</td>\n      <td>177</td>\n      <td>113</td>\n      <td>154</td>\n      <td>2812</td>\n      <td>1503</td>\n      <td>132</td>\n      <td>0</td>\n      <td>66</td>\n      <td>14</td>\n      <td>80</td>\n      <td>0</td>\n      <td>1</td>\n      <td>0</td>\n      <td>0</td>\n    </tr>\n    <tr>\n      <th>3</th>\n      <td>12</td>\n      <td>2</td>\n      <td>10</td>\n      <td>1</td>\n      <td>50128</td>\n      <td>87991</td>\n      <td>2211</td>\n      <td>790</td>\n      <td>1119</td>\n      <td>61027</td>\n      <td>32048</td>\n      <td>1386</td>\n      <td>58</td>\n      <td>1572</td>\n      <td>147</td>\n      <td>1777</td>\n      <td>0</td>\n      <td>1</td>\n      <td>0</td>\n      <td>0</td>\n    </tr>\n    <tr>\n      <th>4</th>\n      <td>12</td>\n      <td>2</td>\n      <td>3</td>\n      <td>0</td>\n      <td>7244</td>\n      <td>13594</td>\n      <td>671</td>\n      <td>410</td>\n      <td>580</td>\n      <td>6228</td>\n      <td>3200</td>\n      <td>396</td>\n      <td>19</td>\n      <td>325</td>\n      <td>49</td>\n      <td>393</td>\n      <td>0</td>\n      <td>1</td>\n      <td>0</td>\n      <td>0</td>\n    </tr>\n    <tr>\n      <th>...</th>\n      <td>...</td>\n      <td>...</td>\n      <td>...</td>\n      <td>...</td>\n      <td>...</td>\n      <td>...</td>\n      <td>...</td>\n      <td>...</td>\n      <td>...</td>\n      <td>...</td>\n      <td>...</td>\n      <td>...</td>\n      <td>...</td>\n      <td>...</td>\n      <td>...</td>\n      <td>...</td>\n      <td>...</td>\n      <td>...</td>\n      <td>...</td>\n      <td>...</td>\n    </tr>\n    <tr>\n      <th>495</th>\n      <td>1</td>\n      <td>7</td>\n      <td>2</td>\n      <td>0</td>\n      <td>4684</td>\n      <td>7536</td>\n      <td>733</td>\n      <td>708</td>\n      <td>985</td>\n      <td>4750</td>\n      <td>2876</td>\n      <td>392</td>\n      <td>5</td>\n      <td>53</td>\n      <td>26</td>\n      <td>84</td>\n      <td>0</td>\n      <td>1</td>\n      <td>0</td>\n      <td>0</td>\n    </tr>\n    <tr>\n      <th>496</th>\n      <td>1</td>\n      <td>5</td>\n      <td>8</td>\n      <td>0</td>\n      <td>3480</td>\n      <td>6229</td>\n      <td>537</td>\n      <td>508</td>\n      <td>687</td>\n      <td>3961</td>\n      <td>2104</td>\n      <td>301</td>\n      <td>0</td>\n      <td>53</td>\n      <td>22</td>\n      <td>75</td>\n      <td>0</td>\n      <td>1</td>\n      <td>0</td>\n      <td>0</td>\n    </tr>\n    <tr>\n      <th>497</th>\n      <td>1</td>\n      <td>5</td>\n      <td>2</td>\n      <td>0</td>\n      <td>3778</td>\n      <td>7216</td>\n      <td>625</td>\n      <td>572</td>\n      <td>795</td>\n      <td>4742</td>\n      <td>2388</td>\n      <td>363</td>\n      <td>4</td>\n      <td>93</td>\n      <td>18</td>\n      <td>115</td>\n      <td>0</td>\n      <td>1</td>\n      <td>0</td>\n      <td>0</td>\n    </tr>\n    <tr>\n      <th>498</th>\n      <td>1</td>\n      <td>4</td>\n      <td>11</td>\n      <td>0</td>\n      <td>4156</td>\n      <td>7564</td>\n      <td>626</td>\n      <td>574</td>\n      <td>832</td>\n      <td>4534</td>\n      <td>2452</td>\n      <td>370</td>\n      <td>7</td>\n      <td>91</td>\n      <td>38</td>\n      <td>136</td>\n      <td>0</td>\n      <td>1</td>\n      <td>0</td>\n      <td>0</td>\n    </tr>\n    <tr>\n      <th>499</th>\n      <td>1</td>\n      <td>4</td>\n      <td>4</td>\n      <td>0</td>\n      <td>4188</td>\n      <td>7292</td>\n      <td>564</td>\n      <td>524</td>\n      <td>743</td>\n      <td>3861</td>\n      <td>2200</td>\n      <td>316</td>\n      <td>0</td>\n      <td>91</td>\n      <td>28</td>\n      <td>119</td>\n      <td>0</td>\n      <td>1</td>\n      <td>0</td>\n      <td>0</td>\n    </tr>\n  </tbody>\n</table>\n<p>500 rows × 20 columns</p>\n</div>"
     },
     "metadata": {},
     "execution_count": 23
    }
   ],
   "source": [
    "X = df[df.columns[2:]]\n",
    "X"
   ]
  },
  {
   "source": [
    "# Разбиение выборки"
   ],
   "cell_type": "markdown",
   "metadata": {}
  },
  {
   "cell_type": "code",
   "execution_count": 24,
   "metadata": {},
   "outputs": [],
   "source": [
    "X_train, X_test, y_train, y_test = train_test_split(X, y, test_size=0.3)"
   ]
  },
  {
   "cell_type": "code",
   "execution_count": 25,
   "metadata": {},
   "outputs": [],
   "source": [
    "scaler = StandardScaler()\n",
    "scaler.fit(X_train)\n",
    "\n",
    "X_train = scaler.transform(X_train)\n",
    "X_test = scaler.transform(X_test)"
   ]
  },
  {
   "source": [
    "# Линейная регрессия"
   ],
   "cell_type": "markdown",
   "metadata": {}
  },
  {
   "cell_type": "code",
   "execution_count": 26,
   "metadata": {},
   "outputs": [],
   "source": [
    "from sklearn.linear_model import LinearRegression\n",
    "from sklearn.metrics import r2_score, mean_absolute_error, mean_squared_error\n",
    "from math import sqrt"
   ]
  },
  {
   "cell_type": "code",
   "execution_count": 27,
   "metadata": {},
   "outputs": [],
   "source": [
    "lr = LinearRegression()\n",
    "lr.fit(X_train, y_train)\n",
    "y_pred_lr = lr.predict(X_test) "
   ]
  },
  {
   "cell_type": "code",
   "execution_count": 29,
   "metadata": {},
   "outputs": [
    {
     "output_type": "stream",
     "name": "stdout",
     "text": [
      "0.8400485035608666\n36066675.82678402\n6005.553748555084\n4835.3957332958325\n"
     ]
    }
   ],
   "source": [
    "print(r2_score(y_test, y_pred_lr))\n",
    "print(mean_squared_error(y_test, y_pred_lr))\n",
    "print(mean_squared_error(y_test, y_pred_lr, squared=False))\n",
    "print(mean_absolute_error(y_test, y_pred_lr))\n"
   ]
  },
  {
   "cell_type": "markdown",
   "metadata": {},
   "source": [
    "# Регрессия дерева решений"
   ]
  },
  {
   "cell_type": "code",
   "execution_count": 33,
   "metadata": {},
   "outputs": [],
   "source": [
    "dtr = DecisionTreeRegressor()\n",
    "dtr.fit(X_train, y_train)\n",
    "y_pred_dtr = dtr.predict(X_test)"
   ]
  },
  {
   "cell_type": "code",
   "execution_count": 34,
   "metadata": {},
   "outputs": [
    {
     "output_type": "stream",
     "name": "stdout",
     "text": [
      "0.9877322445855943\n2766195.8\n1663.1884439232974\n1097.4933333333333\n"
     ]
    }
   ],
   "source": [
    "print(r2_score(y_test, y_pred_dtr))\n",
    "print(mean_squared_error(y_test, y_pred_dtr))\n",
    "print(mean_squared_error(y_test, y_pred_dtr, squared=False))\n",
    "print(mean_absolute_error(y_test, y_pred_dtr))"
   ]
  },
  {
   "cell_type": "code",
   "execution_count": 37,
   "metadata": {},
   "outputs": [
    {
     "output_type": "execute_result",
     "data": {
      "text/plain": [
       "dict_keys(['ccp_alpha', 'criterion', 'max_depth', 'max_features', 'max_leaf_nodes', 'min_impurity_decrease', 'min_impurity_split', 'min_samples_leaf', 'min_samples_split', 'min_weight_fraction_leaf', 'random_state', 'splitter'])"
      ]
     },
     "metadata": {},
     "execution_count": 37
    }
   ],
   "source": [
    "  dtr.get_params().keys()"
   ]
  },
  {
   "cell_type": "code",
   "execution_count": 38,
   "metadata": {},
   "outputs": [],
   "source": [
    "dtr_parameters_grid = {'criterion' : ['mse', 'friedman_mse', 'mae', 'poisson'],\n",
    "                       'splitter' : ['best', 'random'],\n",
    "                       'max_depth' : range(1, 11),\n",
    "                       'min_samples_split' : range(1, 10) \n",
    "}"
   ]
  },
  {
   "cell_type": "code",
   "execution_count": 41,
   "metadata": {},
   "outputs": [
    {
     "output_type": "stream",
     "name": "stdout",
     "text": [
      "Fitting 5 folds for each of 720 candidates, totalling 3600 fits\n",
      "C:\\Users\\danya\\AppData\\Local\\Programs\\Python\\Python39\\lib\\site-packages\\sklearn\\model_selection\\_search.py:922: UserWarning: One or more of the test scores are non-finite: [            nan             nan  7.91849734e-01  3.66083612e-01\n",
      "  7.91849734e-01  6.40317928e-01  7.91849734e-01  5.41147751e-01\n",
      "  7.91849734e-01  5.94644744e-01  7.91849734e-01  4.31906645e-01\n",
      "  7.91849734e-01  5.72877664e-01  7.91849734e-01  3.07417622e-01\n",
      "  7.91849734e-01  4.70327271e-01             nan             nan\n",
      "  9.35177834e-01  5.81730649e-01  9.35177834e-01  6.63063770e-01\n",
      "  9.35177834e-01  7.56645027e-01  9.35177834e-01  8.10683527e-01\n",
      "  9.35177834e-01  6.21002598e-01  9.35177834e-01  7.09240234e-01\n",
      "  9.35177834e-01  6.34330235e-01  9.35177834e-01  8.17034579e-01\n",
      "             nan             nan  9.87183597e-01  8.90651406e-01\n",
      "  9.87183597e-01  9.43409797e-01  9.87183597e-01  8.63917639e-01\n",
      "  9.87183597e-01  8.26531568e-01  9.87183597e-01  9.18361529e-01\n",
      "  9.87183597e-01  8.24482147e-01  9.87183597e-01  9.37543514e-01\n",
      "  9.87183597e-01  8.09672746e-01             nan             nan\n",
      "  9.90746275e-01  9.23624169e-01  9.90746275e-01  9.07363153e-01\n",
      "  9.90746275e-01  9.53044576e-01  9.90746275e-01  9.39433093e-01\n",
      "  9.90746275e-01  9.60318926e-01  9.90506510e-01  9.51517601e-01\n",
      "  9.90746275e-01  9.54939156e-01  9.90746275e-01  9.59443951e-01\n",
      "             nan             nan  9.89505315e-01  8.99319561e-01\n",
      "  9.89598516e-01  9.78680465e-01  9.89423396e-01  9.77345943e-01\n",
      "  9.89498335e-01  9.88704358e-01  9.89673767e-01  9.79740690e-01\n",
      "  9.89646340e-01  9.80736287e-01  9.89176349e-01  9.86091614e-01\n",
      "  9.89549228e-01  9.76057803e-01             nan             nan\n",
      "  9.89988303e-01  9.89866271e-01  9.89091660e-01  9.90884600e-01\n",
      "  9.89820561e-01  9.90743560e-01  9.89220927e-01  9.77450071e-01\n",
      "  9.89280355e-01  9.87741700e-01  9.88958773e-01  9.86940659e-01\n",
      "  9.89587683e-01  9.86085433e-01  9.90299911e-01  9.88064197e-01\n",
      "             nan             nan  9.88789406e-01  9.89452823e-01\n",
      "  9.88880369e-01  9.86807312e-01  9.89285309e-01  9.88485697e-01\n",
      "  9.88774553e-01  9.89038578e-01  9.88268344e-01  9.87719871e-01\n",
      "  9.89119667e-01  9.89375794e-01  9.88385119e-01  9.89715002e-01\n",
      "  9.89797345e-01  9.90022087e-01             nan             nan\n",
      "  9.88199038e-01  9.88063257e-01  9.87574333e-01  9.90077755e-01\n",
      "  9.88083433e-01  9.87352007e-01  9.88490677e-01  9.86463401e-01\n",
      "  9.88755439e-01  9.88455045e-01  9.88867737e-01  9.88325949e-01\n",
      "  9.88849165e-01  9.89535177e-01  9.89451418e-01  9.87108249e-01\n",
      "             nan             nan  9.87730908e-01  9.87358945e-01\n",
      "  9.88327373e-01  9.87139559e-01  9.87870622e-01  9.85845499e-01\n",
      "  9.87840658e-01  9.86347762e-01  9.87273059e-01  9.88351782e-01\n",
      "  9.88785847e-01  9.87508025e-01  9.88150292e-01  9.89199882e-01\n",
      "  9.88529837e-01  9.87480147e-01             nan             nan\n",
      "  9.87008706e-01  9.84816799e-01  9.88024132e-01  9.85725259e-01\n",
      "  9.88111616e-01  9.87318754e-01  9.87895534e-01  9.86407114e-01\n",
      "  9.88235096e-01  9.87353430e-01  9.88192731e-01  9.88266906e-01\n",
      "  9.88706642e-01  9.88635257e-01  9.88755852e-01  9.89739993e-01\n",
      "             nan             nan  7.91849734e-01  3.79028273e-01\n",
      "  7.91849734e-01  3.71136436e-01  7.91849734e-01  3.94021999e-01\n",
      "  7.91849734e-01  4.62637440e-01  7.91849734e-01  4.75793450e-01\n",
      "  7.91849734e-01  3.67647530e-01  7.91849734e-01  3.47968728e-01\n",
      "  7.91849734e-01  4.29076012e-01             nan             nan\n",
      "  9.35177834e-01  8.36407353e-01  9.35177834e-01  7.89783721e-01\n",
      "  9.35177834e-01  5.59312332e-01  9.35177834e-01  7.25668203e-01\n",
      "  9.35177834e-01  6.97537641e-01  9.35177834e-01  7.55293628e-01\n",
      "  9.35177834e-01  6.91316702e-01  9.35177834e-01  7.31762494e-01\n",
      "             nan             nan  9.87183597e-01  9.12431900e-01\n",
      "  9.87183597e-01  8.87427120e-01  9.87183597e-01  8.79904461e-01\n",
      "  9.87183597e-01  9.22462624e-01  9.87183597e-01  8.92837502e-01\n",
      "  9.87183597e-01  8.83728787e-01  9.87183597e-01  9.06853111e-01\n",
      "  9.87183597e-01  9.02747111e-01             nan             nan\n",
      "  9.90746275e-01  9.62049706e-01  9.90602185e-01  9.51576367e-01\n",
      "  9.90746275e-01  9.03667830e-01  9.90746275e-01  9.79093167e-01\n",
      "  9.90362420e-01  9.12822456e-01  9.90746275e-01  9.68619330e-01\n",
      "  9.90746275e-01  9.48552414e-01  9.90746275e-01  9.68732097e-01\n",
      "             nan             nan  9.89567406e-01  9.18328328e-01\n",
      "  9.89150542e-01  9.86764716e-01  9.89626811e-01  9.85327401e-01\n",
      "  9.89239760e-01  9.88264462e-01  9.89168316e-01  9.77444221e-01\n",
      "  9.89627516e-01  9.84202709e-01  9.89506368e-01  9.90411936e-01\n",
      "  9.89594455e-01  9.86235150e-01             nan             nan\n",
      "  9.89459079e-01  9.87042172e-01  9.89273387e-01  9.84568883e-01\n",
      "  9.89867430e-01  9.90489759e-01  9.89512848e-01  9.90291497e-01\n",
      "  9.89501389e-01  9.88645180e-01  9.89697942e-01  9.90947046e-01\n",
      "  9.88927470e-01  9.90686000e-01  9.90099994e-01  9.89586851e-01\n",
      "             nan             nan  9.88687333e-01  9.85133170e-01\n",
      "  9.88317981e-01  9.90682935e-01  9.88969227e-01  9.87493995e-01\n",
      "  9.88745986e-01  9.89635806e-01  9.88724010e-01  9.90627544e-01\n",
      "  9.89216028e-01  9.87727290e-01  9.88610594e-01  9.85518506e-01\n",
      "  9.89542208e-01  9.88133496e-01             nan             nan\n",
      "  9.87728688e-01  9.87007941e-01  9.88408232e-01  9.86791947e-01\n",
      "  9.88236435e-01  9.90188989e-01  9.88556785e-01  9.89205866e-01\n",
      "  9.88741736e-01  9.89185833e-01  9.88759114e-01  9.88345798e-01\n",
      "  9.88733086e-01  9.89049972e-01  9.88922178e-01  9.89169661e-01\n",
      "             nan             nan  9.87603422e-01  9.88093939e-01\n",
      "  9.87019685e-01  9.85621758e-01  9.87961980e-01  9.86938366e-01\n",
      "  9.87421541e-01  9.86120224e-01  9.87655434e-01  9.87814618e-01\n",
      "  9.88108458e-01  9.86658656e-01  9.88576752e-01  9.86556082e-01\n",
      "  9.88985582e-01  9.88475275e-01             nan             nan\n",
      "  9.87233923e-01  9.86787316e-01  9.86813938e-01  9.84920248e-01\n",
      "  9.88555623e-01  9.87083312e-01  9.87653121e-01  9.87745128e-01\n",
      "  9.87525922e-01  9.87028803e-01  9.88542203e-01  9.88348960e-01\n",
      "  9.88283702e-01  9.88402870e-01  9.88332070e-01  9.88556524e-01\n",
      "             nan             nan  7.81008893e-01  3.93705555e-01\n",
      "  7.81008893e-01  4.60539208e-01  7.81008893e-01  1.34969332e-01\n",
      "  7.81008893e-01  3.16255405e-01  7.81008893e-01  4.45866102e-01\n",
      "  7.81008893e-01  4.41637832e-01  7.81008893e-01  5.64273098e-01\n",
      "  7.81008893e-01  5.04099614e-01             nan             nan\n",
      "  9.42867307e-01  6.09794910e-01  9.42867307e-01  8.13252714e-01\n",
      "  9.42867307e-01  7.57758216e-01  9.42867307e-01  8.01786693e-01\n",
      "  9.42867307e-01  8.41018111e-01  9.42867307e-01  6.19992264e-01\n",
      "  9.42867307e-01  7.35175220e-01  9.42867307e-01  7.61956900e-01\n",
      "             nan             nan  9.80542576e-01  9.30298420e-01\n",
      "  9.80542576e-01  8.70681623e-01  9.80542576e-01  8.88396357e-01\n",
      "  9.80542576e-01  8.74181176e-01  9.80542576e-01  8.09375285e-01\n",
      "  9.80542576e-01  9.33755547e-01  9.80542576e-01  9.08915404e-01\n",
      "  9.80542576e-01  9.10448541e-01             nan             nan\n",
      "  9.90404065e-01  9.77301802e-01  9.90404065e-01  9.31854087e-01\n",
      "  9.90404065e-01  9.64713011e-01  9.90139884e-01  9.56775614e-01\n",
      "  9.90404065e-01  9.58599926e-01  9.90139884e-01  9.83276327e-01\n",
      "  9.90404065e-01  9.43618363e-01  9.90139884e-01  9.54670384e-01\n",
      "             nan             nan  9.90079174e-01  9.87196754e-01\n",
      "  9.89829642e-01  9.89209759e-01  9.90112133e-01  9.74258918e-01\n",
      "  9.90085519e-01  9.83590881e-01  9.90229257e-01  9.77415773e-01\n",
      "  9.90064321e-01  9.78637857e-01  9.89712152e-01  9.78663727e-01\n",
      "  9.90196585e-01  9.76375555e-01             nan             nan\n",
      "  9.89183576e-01  9.87933450e-01  9.88270838e-01  9.85311132e-01\n",
      "  9.89121461e-01  9.90239376e-01  9.88306832e-01  9.86883675e-01\n",
      "  9.88480535e-01  9.88729358e-01  9.88640240e-01  9.85860994e-01\n",
      "  9.88687611e-01  9.88070831e-01  9.88980948e-01  9.85829754e-01\n",
      "             nan             nan  9.88967600e-01  9.86925112e-01\n",
      "  9.88020772e-01  9.89200122e-01  9.88418778e-01  9.86425256e-01\n",
      "  9.88092447e-01  9.88311329e-01  9.88069886e-01  9.85256387e-01\n",
      "  9.88043013e-01  9.76970540e-01  9.88093007e-01  9.89446071e-01\n",
      "  9.88786130e-01  9.88546030e-01             nan             nan\n",
      "  9.89244797e-01  9.87393078e-01  9.87788855e-01  9.86351035e-01\n",
      "  9.87493129e-01  9.87810390e-01  9.88835719e-01  9.87151524e-01\n",
      "  9.87530716e-01  9.87217475e-01  9.87301201e-01  9.88219683e-01\n",
      "  9.88378389e-01  9.88710805e-01  9.88400350e-01  9.88224888e-01\n",
      "             nan             nan  9.88335075e-01  9.87147700e-01\n",
      "  9.88217450e-01  9.85143326e-01  9.87054566e-01  9.85602599e-01\n",
      "  9.88200526e-01  9.87038100e-01  9.87494790e-01  9.88053404e-01\n",
      "  9.87694320e-01  9.88242453e-01  9.87847203e-01  9.87169624e-01\n",
      "  9.88446088e-01  9.88725856e-01             nan             nan\n",
      "  9.87825246e-01  9.85994166e-01  9.87706730e-01  9.85611983e-01\n",
      "  9.89145190e-01  9.84881340e-01  9.88737768e-01  9.85645549e-01\n",
      "  9.87799870e-01  9.86391775e-01  9.87538107e-01  9.88813151e-01\n",
      "  9.88321440e-01  9.88289465e-01  9.88430725e-01  9.88220845e-01\n",
      "             nan             nan -1.21930339e-02 -8.25460081e-03\n",
      " -1.21930339e-02 -1.20857965e-02 -1.21930339e-02  3.69354360e-03\n",
      " -1.21930339e-02  3.15784181e-03 -1.21930339e-02 -1.18039610e-02\n",
      " -1.21930339e-02 -3.74404841e-03 -1.21930339e-02  1.30967640e-02\n",
      " -1.21930339e-02  2.61920403e-02             nan             nan\n",
      "  7.04276985e-02 -1.13865792e-02  6.93385623e-02  1.08172796e-01\n",
      "  6.93385623e-02 -8.52213902e-03  6.93385623e-02 -5.96116018e-04\n",
      "  6.93385623e-02  2.05104520e-02  6.93385623e-02  9.51903479e-03\n",
      "  6.93385623e-02  2.35394859e-02  6.93385623e-02 -3.39537509e-03\n",
      "             nan             nan  1.84342217e-01  9.47438985e-02\n",
      "  1.83274131e-01  2.17925324e-02  1.83223421e-01  5.39990842e-02\n",
      "  1.83233808e-01  1.36644163e-01  1.83233808e-01  7.79222542e-02\n",
      "  1.83223421e-01  2.64235633e-02  1.83223421e-01  1.68219224e-01\n",
      "  1.83223421e-01  1.09495656e-01             nan             nan\n",
      "  2.19009015e-01  1.80618478e-01  2.17584969e-01  1.05641520e-01\n",
      "  2.17548390e-01  1.59822927e-01  2.17548390e-01  1.70019453e-01\n",
      "  2.17549534e-01  1.65458437e-01  2.17551673e-01  1.77010937e-01\n",
      "  2.17553917e-01  2.58810520e-02  2.17546891e-01  9.35914287e-02\n",
      "             nan             nan  2.72837053e-01  7.80523794e-02\n",
      "  2.74114446e-01  3.45789527e-01  2.74068206e-01  1.48135576e-01\n",
      "  2.74077821e-01  1.28658202e-01  2.74078882e-01  2.31175293e-01\n",
      "  2.74075291e-01  1.31086705e-01  2.74075696e-01  1.33641423e-01\n",
      "  2.74075931e-01  1.01477407e-01             nan             nan\n",
      "  3.58269744e-01  1.63661372e-01  3.57119133e-01  2.60053005e-01\n",
      "  3.54245077e-01  3.77628920e-01  3.56117708e-01  2.13934706e-01\n",
      "  3.56124935e-01  3.11221989e-01  3.56128450e-01  6.84485660e-02\n",
      "  3.56123965e-01  2.73236227e-01  3.56128609e-01  2.88313965e-01\n",
      "             nan             nan  3.93524905e-01  3.25446304e-01\n",
      "  3.90844445e-01  3.56433629e-01  3.91516462e-01  3.31475753e-01\n",
      "  3.93392973e-01  3.73451406e-01  3.93387802e-01  4.12170628e-01\n",
      "  3.93395439e-01  4.06953580e-01  3.93398363e-01  3.06007735e-01\n",
      "  3.93400229e-01  4.17825572e-01             nan             nan\n",
      "  3.92979278e-01  3.79864524e-01  3.91811855e-01  3.14474336e-01\n",
      "  3.93941208e-01  4.49950849e-01  3.92970078e-01  4.87742032e-01\n",
      "  3.92965995e-01  3.49997193e-01  3.92979190e-01  3.86049698e-01\n",
      "  3.92958844e-01  4.02072163e-01  3.92969688e-01  4.05810592e-01\n",
      "             nan             nan  4.20380587e-01  3.78896629e-01\n",
      "  4.20727220e-01  4.57446050e-01  4.22631678e-01  3.13921865e-01\n",
      "  4.21652134e-01  3.92393889e-01  4.21664814e-01  5.08421930e-01\n",
      "  4.21681439e-01  4.34003776e-01  4.21677351e-01  4.84267607e-01\n",
      "  4.21685568e-01  3.58251659e-01             nan             nan\n",
      "  4.85857188e-01  4.81931503e-01  4.88427525e-01  4.55530411e-01\n",
      "  4.87528127e-01  3.66010365e-01  4.89420202e-01  5.00919587e-01\n",
      "  4.89417356e-01  5.32430581e-01  4.89382342e-01  3.81893786e-01\n",
      "  4.89409068e-01  3.51258053e-01  4.89385062e-01  1.98661155e-01]\n",
      "  warnings.warn(\n"
     ]
    },
    {
     "output_type": "execute_result",
     "data": {
      "text/plain": [
       "{'criterion': 'friedman_mse',\n",
       " 'max_depth': 6,\n",
       " 'min_samples_split': 7,\n",
       " 'splitter': 'random'}"
      ]
     },
     "metadata": {},
     "execution_count": 41
    }
   ],
   "source": [
    "dtr_grid = GridSearchCV(dtr, dtr_parameters_grid, cv=5, n_jobs=-1, verbose=True)\n",
    "dtr_grid.fit(X_train, y_train)\n",
    "dtr_grid.best_params_"
   ]
  },
  {
   "cell_type": "code",
   "execution_count": 42,
   "metadata": {},
   "outputs": [],
   "source": [
    "dtr_g = DecisionTreeRegressor(criterion='mse', max_depth=9, min_samples_split=8, splitter='best')\n",
    "dtr_g.fit(X_train, y_train)\n",
    "y_pred_dtr_g = dtr_g.predict(X_test)"
   ]
  },
  {
   "cell_type": "code",
   "execution_count": 43,
   "metadata": {},
   "outputs": [
    {
     "output_type": "stream",
     "name": "stdout",
     "text": [
      "0.9915338522970505\n1908989.9844741079\n1381.6620369953384\n907.0612948717937\n"
     ]
    }
   ],
   "source": [
    "print(r2_score(y_test, y_pred_dtr_g))\n",
    "print(mean_squared_error(y_test, y_pred_dtr_g))\n",
    "print(mean_squared_error(y_test, y_pred_dtr_g, squared=False))\n",
    "print(mean_absolute_error(y_test, y_pred_dtr_g))"
   ]
  },
  {
   "source": [
    "# LASSO"
   ],
   "cell_type": "markdown",
   "metadata": {}
  },
  {
   "cell_type": "code",
   "execution_count": 45,
   "metadata": {},
   "outputs": [
    {
     "output_type": "stream",
     "name": "stderr",
     "text": [
      "C:\\Users\\danya\\AppData\\Local\\Programs\\Python\\Python39\\lib\\site-packages\\sklearn\\linear_model\\_coordinate_descent.py:530: ConvergenceWarning: Objective did not converge. You might want to increase the number of iterations. Duality gap: 2641139017.791908, tolerance: 9782234.152571432\n  model = cd_fast.enet_coordinate_descent(\n"
     ]
    }
   ],
   "source": [
    "lasso = Lasso()\n",
    "lasso.fit(X_train, y_train)\n",
    "y_pred_lasso = lasso.predict(X_test)"
   ]
  },
  {
   "cell_type": "code",
   "execution_count": 46,
   "metadata": {},
   "outputs": [
    {
     "output_type": "stream",
     "name": "stdout",
     "text": [
      "0.8400908654895983\n36057123.84393309\n6004.758433437027\n4850.854104300524\n"
     ]
    }
   ],
   "source": [
    "print(r2_score(y_test, y_pred_lasso))\n",
    "print(mean_squared_error(y_test, y_pred_lasso))\n",
    "print(mean_squared_error(y_test, y_pred_lasso, squared=False))\n",
    "print(mean_absolute_error(y_test, y_pred_lasso))"
   ]
  },
  {
   "cell_type": "code",
   "execution_count": 47,
   "metadata": {},
   "outputs": [
    {
     "output_type": "execute_result",
     "data": {
      "text/plain": [
       "dict_keys(['alpha', 'copy_X', 'fit_intercept', 'max_iter', 'normalize', 'positive', 'precompute', 'random_state', 'selection', 'tol', 'warm_start'])"
      ]
     },
     "metadata": {},
     "execution_count": 47
    }
   ],
   "source": [
    " lasso.get_params().keys()"
   ]
  },
  {
   "cell_type": "code",
   "execution_count": 48,
   "metadata": {},
   "outputs": [],
   "source": [
    "lasso_parameters_grid = {'alpha' : np.arange(0.01, 1.0, 0.05),\n",
    "                         'normalize' : [True, False],\n",
    "                         'max_iter' : [10, 50, 100, 200, 400, 800, 1000, 1500, 2000],\n",
    "                         'selection' : ['cyclic', 'random'],\n",
    "                         'warm_start':[True, False]\n",
    "                         }"
   ]
  },
  {
   "cell_type": "code",
   "execution_count": 49,
   "metadata": {},
   "outputs": [
    {
     "output_type": "stream",
     "name": "stdout",
     "text": [
      "Fitting 5 folds for each of 1440 candidates, totalling 7200 fits\n",
      "C:\\Users\\danya\\AppData\\Local\\Programs\\Python\\Python39\\lib\\site-packages\\sklearn\\linear_model\\_coordinate_descent.py:530: ConvergenceWarning: Objective did not converge. You might want to increase the number of iterations. Duality gap: 4570943137.675344, tolerance: 9782234.152571432\n",
      "  model = cd_fast.enet_coordinate_descent(\n"
     ]
    },
    {
     "output_type": "execute_result",
     "data": {
      "text/plain": [
       "{'alpha': 0.01,\n",
       " 'max_iter': 10,\n",
       " 'normalize': False,\n",
       " 'selection': 'random',\n",
       " 'warm_start': False}"
      ]
     },
     "metadata": {},
     "execution_count": 49
    }
   ],
   "source": [
    "lasso_grid = GridSearchCV(lasso, lasso_parameters_grid, cv = 5, n_jobs=-1, verbose=True)\n",
    "lasso_grid.fit(X_train, y_train)\n",
    "lasso_grid.best_params_"
   ]
  },
  {
   "cell_type": "code",
   "execution_count": 50,
   "metadata": {},
   "outputs": [
    {
     "output_type": "stream",
     "name": "stderr",
     "text": [
      "C:\\Users\\danya\\AppData\\Local\\Programs\\Python\\Python39\\lib\\site-packages\\sklearn\\linear_model\\_coordinate_descent.py:530: ConvergenceWarning: Objective did not converge. You might want to increase the number of iterations. Duality gap: 3937561894.432214, tolerance: 9782234.152571432\n  model = cd_fast.enet_coordinate_descent(\n"
     ]
    }
   ],
   "source": [
    " lasso_g = Lasso(alpha=0.91, max_iter=50, normalize=False, selection='random', warm_start=False)\n",
    "lasso_g.fit(X_train,y_train)\n",
    "y_pred_lasso_g = lasso_g.predict(X_test)"
   ]
  },
  {
   "cell_type": "code",
   "execution_count": 51,
   "metadata": {},
   "outputs": [
    {
     "output_type": "stream",
     "name": "stdout",
     "text": [
      "0.8386904676138056\n36372892.66972805\n6030.994335076766\n4880.4364835401675\n"
     ]
    }
   ],
   "source": [
    "print(r2_score(y_test, y_pred_lasso_g))\n",
    "print(mean_squared_error(y_test, y_pred_lasso_g))\n",
    "print(mean_squared_error(y_test, y_pred_lasso_g, squared=False))\n",
    "print(mean_absolute_error(y_test, y_pred_lasso_g))"
   ]
  },
  {
   "cell_type": "markdown",
   "metadata": {},
   "source": [
    "# Гребневая регрессия"
   ]
  },
  {
   "cell_type": "code",
   "execution_count": 53,
   "metadata": {},
   "outputs": [],
   "source": [
    "ridge = Ridge()\n",
    "ridge.fit(X_train,y_train)\n",
    "y_pred_ridge = ridge.predict(X_test)"
   ]
  },
  {
   "cell_type": "code",
   "execution_count": 54,
   "metadata": {},
   "outputs": [
    {
     "output_type": "stream",
     "name": "stdout",
     "text": [
      "0.8399218360306182\n36095237.4648615\n6007.931213392968\n4870.8997023714455\n"
     ]
    }
   ],
   "source": [
    "print(r2_score(y_test, y_pred_ridge))\n",
    "print(mean_squared_error(y_test, y_pred_ridge))\n",
    "print(mean_squared_error(y_test, y_pred_ridge, squared=False))\n",
    "print(mean_absolute_error(y_test, y_pred_ridge))"
   ]
  },
  {
   "cell_type": "code",
   "execution_count": 55,
   "metadata": {},
   "outputs": [
    {
     "output_type": "execute_result",
     "data": {
      "text/plain": [
       "dict_keys(['alpha', 'copy_X', 'fit_intercept', 'max_iter', 'normalize', 'random_state', 'solver', 'tol'])"
      ]
     },
     "metadata": {},
     "execution_count": 55
    }
   ],
   "source": [
    "ridge.get_params().keys()"
   ]
  },
  {
   "cell_type": "code",
   "execution_count": 57,
   "metadata": {},
   "outputs": [],
   "source": [
    "ridge_parameters_grid = {'alpha' : np.arange(0.01, 1.0, 0.05),\n",
    "                         'max_iter' : [10, 50, 100, 200, 400, 800, 1000, 1500, 2000],\n",
    "                         'solver' : ['auto', 'svd', 'cholesky', 'lsqr', 'sparse_cg', 'sag', 'saga'],\n",
    "                         'fit_intercept' : [True, False]\n",
    "                         }"
   ]
  },
  {
   "cell_type": "code",
   "execution_count": 58,
   "metadata": {},
   "outputs": [
    {
     "output_type": "stream",
     "name": "stdout",
     "text": [
      "Fitting 5 folds for each of 2520 candidates, totalling 12600 fits\n"
     ]
    },
    {
     "output_type": "execute_result",
     "data": {
      "text/plain": [
       "{'alpha': 0.8600000000000001,\n",
       " 'fit_intercept': True,\n",
       " 'max_iter': 1500,\n",
       " 'solver': 'saga'}"
      ]
     },
     "metadata": {},
     "execution_count": 58
    }
   ],
   "source": [
    "ridge_grid = GridSearchCV(ridge, ridge_parameters_grid, cv = 5, n_jobs=-1, verbose=True)\n",
    "ridge_grid.fit(X_train, y_train)\n",
    "ridge_grid.best_params_"
   ]
  },
  {
   "cell_type": "code",
   "execution_count": 63,
   "metadata": {},
   "outputs": [
    {
     "output_type": "stream",
     "name": "stderr",
     "text": [
      "C:\\Users\\danya\\AppData\\Local\\Programs\\Python\\Python39\\lib\\site-packages\\sklearn\\linear_model\\_sag.py:328: ConvergenceWarning: The max_iter was reached which means the coef_ did not converge\n  warnings.warn(\"The max_iter was reached which means \"\n"
     ]
    }
   ],
   "source": [
    "ridge_g = Ridge(alpha=0.71, fit_intercept=True, max_iter=10, solver='sag')\n",
    "ridge_g.fit(X_train,y_train)\n",
    "y_pred_ridge_g = ridge_g.predict(X_test)"
   ]
  },
  {
   "cell_type": "code",
   "execution_count": 64,
   "metadata": {},
   "outputs": [
    {
     "output_type": "stream",
     "name": "stdout",
     "text": [
      "0.8556962564365764\n32538341.03186316\n5704.238865253029\n4785.429523593116\n"
     ]
    }
   ],
   "source": [
    "print(r2_score(y_test, y_pred_ridge_g))\n",
    "print(mean_squared_error(y_test, y_pred_ridge_g))\n",
    "print(mean_squared_error(y_test, y_pred_ridge_g, squared=False))\n",
    "print(mean_absolute_error(y_test, y_pred_ridge_g))"
   ]
  },
  {
   "cell_type": "markdown",
   "metadata": {},
   "source": [
    "# Elastic Net регрессия"
   ]
  },
  {
   "cell_type": "code",
   "execution_count": 65,
   "metadata": {},
   "outputs": [],
   "source": [
    "en = ElasticNet()\n",
    "en.fit(X_train, y_train)\n",
    "y_pred_en = en.predict(X_test)"
   ]
  },
  {
   "cell_type": "code",
   "execution_count": 66,
   "metadata": {},
   "outputs": [
    {
     "output_type": "stream",
     "name": "stdout",
     "text": [
      "0.78247839675013\n49047875.91481376\n7003.418873294226\n5629.443571554719\n"
     ]
    }
   ],
   "source": [
    " print(r2_score(y_test, y_pred_en))\n",
    "print(mean_squared_error(y_test, y_pred_en))\n",
    "print(mean_squared_error(y_test, y_pred_en, squared=False))\n",
    "print(mean_absolute_error(y_test, y_pred_en))"
   ]
  },
  {
   "cell_type": "code",
   "execution_count": 67,
   "metadata": {},
   "outputs": [
    {
     "output_type": "execute_result",
     "data": {
      "text/plain": [
       "dict_keys(['alpha', 'copy_X', 'fit_intercept', 'l1_ratio', 'max_iter', 'normalize', 'positive', 'precompute', 'random_state', 'selection', 'tol', 'warm_start'])"
      ]
     },
     "metadata": {},
     "execution_count": 67
    }
   ],
   "source": [
    "en.get_params().keys()"
   ]
  },
  {
   "cell_type": "code",
   "execution_count": 69,
   "metadata": {},
   "outputs": [],
   "source": [
    "en_parameters_grid = {'alpha' : np.arange(0.01, 1.0, 0.05),\n",
    "                      'l1_ratio' : np.arange(0.1, 1.0, 0.1),\n",
    "                      'max_iter' : [10, 50 ,100, 200, 400, 800, 1000],\n",
    "                      'fit_intercept' : [True, False],\n",
    "                      'normalize' : [True, False],\n",
    "                      'selection' : ['cyclic', 'random'],\n",
    "                     }"
   ]
  },
  {
   "cell_type": "code",
   "execution_count": null,
   "metadata": {},
   "outputs": [],
   "source": [
    "en_grid = GridSearchCV(en, en_parameters_grid, cv = 5, n_jobs=-1, verbose=True)\n",
    "en_grid.fit(X_train, y_train)\n",
    "en_grid.best_params_"
   ]
  },
  {
   "cell_type": "code",
   "execution_count": null,
   "metadata": {},
   "outputs": [],
   "source": [
    "en_g = ElasticNet(alpha=0.01, fit_intercept=True, l1_ratio=0.7, max_iter=50, normalize=False, selection='random')\n",
    "en_g.fit(X_train, y_train)\n",
    "y_pred_en_g = en_g.predict(X_test)"
   ]
  },
  {
   "cell_type": "code",
   "execution_count": null,
   "metadata": {},
   "outputs": [],
   "source": [
    " print(r2_score(y_test, y_pred_en_g))\n",
    "print(mean_squared_error(y_test, y_pred_en_g))\n",
    "print(mean_squared_error(y_test, y_pred_en_g, squared=False))\n",
    "print(mean_absolute_error(y_test, y_pred_en_g))"
   ]
  },
  {
   "cell_type": "code",
   "execution_count": null,
   "metadata": {},
   "outputs": [],
   "source": []
  }
 ],
 "metadata": {
  "kernelspec": {
   "name": "python391jvsc74a57bd016e4b87f0dbdf66a4ee056938d0c8f3ebbd68a803ec7e298da5e0d0190041215",
   "display_name": "Python 3.9.1 64-bit"
  },
  "language_info": {
   "codemirror_mode": {
    "name": "ipython",
    "version": 3
   },
   "file_extension": ".py",
   "mimetype": "text/x-python",
   "name": "python",
   "nbconvert_exporter": "python",
   "pygments_lexer": "ipython3",
   "version": "3.9.1"
  }
 },
 "nbformat": 4,
 "nbformat_minor": 4
}