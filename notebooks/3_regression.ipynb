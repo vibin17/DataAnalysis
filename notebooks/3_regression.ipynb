{
 "cells": [
  {
   "cell_type": "code",
   "execution_count": 105,
   "metadata": {},
   "outputs": [],
   "source": [
    "import pandas as pd\n",
    "import numpy as np\n",
    "from sklearn.model_selection import train_test_split\n",
    "from sklearn.preprocessing import StandardScaler\n",
    "from sklearn.linear_model import LinearRegression\n",
    "from sklearn.metrics import r2_score, mean_squared_error, mean_absolute_error\n",
    "from sklearn.tree import DecisionTreeRegressor\n",
    "from sklearn.model_selection import GridSearchCV\n",
    "from sklearn.linear_model import Lasso\n",
    "from sklearn.linear_model import Ridge\n",
    "from sklearn.linear_model import ElasticNet"
   ]
  },
  {
   "cell_type": "code",
   "execution_count": 106,
   "metadata": {},
   "outputs": [],
   "source": [
    "df = pd.read_csv(\"../data/regression/facebook_preprocessed.csv\") "
   ]
  },
  {
   "cell_type": "code",
   "execution_count": 107,
   "metadata": {},
   "outputs": [
    {
     "output_type": "execute_result",
     "data": {
      "text/plain": [
       "   Page total likes  Category  Post Month  Post Weekday  Post Hour  Paid  \\\n",
       "0            139441         2          12             4          3     0   \n",
       "1            139441         2          12             3         10     0   \n",
       "2            139441         3          12             3          3     0   \n",
       "3            139441         2          12             2         10     1   \n",
       "4            139441         2          12             2          3     0   \n",
       "\n",
       "   Lifetime Post Total Reach  Lifetime Post Total Impressions  \\\n",
       "0                       2752                             5091   \n",
       "1                      10460                            19057   \n",
       "2                       2413                             4373   \n",
       "3                      50128                            87991   \n",
       "4                       7244                            13594   \n",
       "\n",
       "   Lifetime Engaged Users  Lifetime Post Consumers  ...  \\\n",
       "0                     178                      109  ...   \n",
       "1                    1457                     1361  ...   \n",
       "2                     177                      113  ...   \n",
       "3                    2211                      790  ...   \n",
       "4                     671                      410  ...   \n",
       "\n",
       "   Lifetime Post reach by people who like your Page  \\\n",
       "0                                              1640   \n",
       "1                                              6112   \n",
       "2                                              1503   \n",
       "3                                             32048   \n",
       "4                                              3200   \n",
       "\n",
       "   Lifetime People who have liked your Page and engaged with your post  \\\n",
       "0                                                119                     \n",
       "1                                               1108                     \n",
       "2                                                132                     \n",
       "3                                               1386                     \n",
       "4                                                396                     \n",
       "\n",
       "   comment  like  share  Total Interactions  Type_Link  Type_Photo  \\\n",
       "0        4    79     17                 100          0           1   \n",
       "1        5   130     29                 164          0           0   \n",
       "2        0    66     14                  80          0           1   \n",
       "3       58  1572    147                1777          0           1   \n",
       "4       19   325     49                 393          0           1   \n",
       "\n",
       "   Type_Status  Type_Video  \n",
       "0            0           0  \n",
       "1            1           0  \n",
       "2            0           0  \n",
       "3            0           0  \n",
       "4            0           0  \n",
       "\n",
       "[5 rows x 22 columns]"
      ],
      "text/html": "<div>\n<style scoped>\n    .dataframe tbody tr th:only-of-type {\n        vertical-align: middle;\n    }\n\n    .dataframe tbody tr th {\n        vertical-align: top;\n    }\n\n    .dataframe thead th {\n        text-align: right;\n    }\n</style>\n<table border=\"1\" class=\"dataframe\">\n  <thead>\n    <tr style=\"text-align: right;\">\n      <th></th>\n      <th>Page total likes</th>\n      <th>Category</th>\n      <th>Post Month</th>\n      <th>Post Weekday</th>\n      <th>Post Hour</th>\n      <th>Paid</th>\n      <th>Lifetime Post Total Reach</th>\n      <th>Lifetime Post Total Impressions</th>\n      <th>Lifetime Engaged Users</th>\n      <th>Lifetime Post Consumers</th>\n      <th>...</th>\n      <th>Lifetime Post reach by people who like your Page</th>\n      <th>Lifetime People who have liked your Page and engaged with your post</th>\n      <th>comment</th>\n      <th>like</th>\n      <th>share</th>\n      <th>Total Interactions</th>\n      <th>Type_Link</th>\n      <th>Type_Photo</th>\n      <th>Type_Status</th>\n      <th>Type_Video</th>\n    </tr>\n  </thead>\n  <tbody>\n    <tr>\n      <th>0</th>\n      <td>139441</td>\n      <td>2</td>\n      <td>12</td>\n      <td>4</td>\n      <td>3</td>\n      <td>0</td>\n      <td>2752</td>\n      <td>5091</td>\n      <td>178</td>\n      <td>109</td>\n      <td>...</td>\n      <td>1640</td>\n      <td>119</td>\n      <td>4</td>\n      <td>79</td>\n      <td>17</td>\n      <td>100</td>\n      <td>0</td>\n      <td>1</td>\n      <td>0</td>\n      <td>0</td>\n    </tr>\n    <tr>\n      <th>1</th>\n      <td>139441</td>\n      <td>2</td>\n      <td>12</td>\n      <td>3</td>\n      <td>10</td>\n      <td>0</td>\n      <td>10460</td>\n      <td>19057</td>\n      <td>1457</td>\n      <td>1361</td>\n      <td>...</td>\n      <td>6112</td>\n      <td>1108</td>\n      <td>5</td>\n      <td>130</td>\n      <td>29</td>\n      <td>164</td>\n      <td>0</td>\n      <td>0</td>\n      <td>1</td>\n      <td>0</td>\n    </tr>\n    <tr>\n      <th>2</th>\n      <td>139441</td>\n      <td>3</td>\n      <td>12</td>\n      <td>3</td>\n      <td>3</td>\n      <td>0</td>\n      <td>2413</td>\n      <td>4373</td>\n      <td>177</td>\n      <td>113</td>\n      <td>...</td>\n      <td>1503</td>\n      <td>132</td>\n      <td>0</td>\n      <td>66</td>\n      <td>14</td>\n      <td>80</td>\n      <td>0</td>\n      <td>1</td>\n      <td>0</td>\n      <td>0</td>\n    </tr>\n    <tr>\n      <th>3</th>\n      <td>139441</td>\n      <td>2</td>\n      <td>12</td>\n      <td>2</td>\n      <td>10</td>\n      <td>1</td>\n      <td>50128</td>\n      <td>87991</td>\n      <td>2211</td>\n      <td>790</td>\n      <td>...</td>\n      <td>32048</td>\n      <td>1386</td>\n      <td>58</td>\n      <td>1572</td>\n      <td>147</td>\n      <td>1777</td>\n      <td>0</td>\n      <td>1</td>\n      <td>0</td>\n      <td>0</td>\n    </tr>\n    <tr>\n      <th>4</th>\n      <td>139441</td>\n      <td>2</td>\n      <td>12</td>\n      <td>2</td>\n      <td>3</td>\n      <td>0</td>\n      <td>7244</td>\n      <td>13594</td>\n      <td>671</td>\n      <td>410</td>\n      <td>...</td>\n      <td>3200</td>\n      <td>396</td>\n      <td>19</td>\n      <td>325</td>\n      <td>49</td>\n      <td>393</td>\n      <td>0</td>\n      <td>1</td>\n      <td>0</td>\n      <td>0</td>\n    </tr>\n  </tbody>\n</table>\n<p>5 rows × 22 columns</p>\n</div>"
     },
     "metadata": {},
     "execution_count": 107
    }
   ],
   "source": [
    "df.head()"
   ]
  },
  {
   "cell_type": "code",
   "execution_count": 108,
   "metadata": {},
   "outputs": [
    {
     "output_type": "stream",
     "name": "stdout",
     "text": [
      "<class 'pandas.core.frame.DataFrame'>\nInt64Index: 500 entries, 0 to 499\nData columns (total 22 columns):\n #   Column                                                               Non-Null Count  Dtype\n---  ------                                                               --------------  -----\n 0   Page total likes                                                     500 non-null    int64\n 1   Category                                                             500 non-null    int64\n 2   Post Month                                                           500 non-null    int64\n 3   Post Weekday                                                         500 non-null    int64\n 4   Post Hour                                                            500 non-null    int64\n 5   Paid                                                                 500 non-null    int64\n 6   Lifetime Post Total Reach                                            500 non-null    int64\n 7   Lifetime Post Total Impressions                                      500 non-null    int64\n 8   Lifetime Engaged Users                                               500 non-null    int64\n 9   Lifetime Post Consumers                                              500 non-null    int64\n 10  Lifetime Post Consumptions                                           500 non-null    int64\n 11  Lifetime Post Impressions by people who have liked your Page         500 non-null    int64\n 12  Lifetime Post reach by people who like your Page                     500 non-null    int64\n 13  Lifetime People who have liked your Page and engaged with your post  500 non-null    int64\n 14  comment                                                              500 non-null    int64\n 15  like                                                                 500 non-null    int64\n 16  share                                                                500 non-null    int64\n 17  Total Interactions                                                   500 non-null    int64\n 18  Type_Link                                                            500 non-null    int64\n 19  Type_Photo                                                           500 non-null    int64\n 20  Type_Status                                                          500 non-null    int64\n 21  Type_Video                                                           500 non-null    int64\ndtypes: int64(22)\nmemory usage: 89.8 KB\n"
     ]
    }
   ],
   "source": [
    "df.info()"
   ]
  },
  {
   "cell_type": "code",
   "execution_count": 109,
   "metadata": {},
   "outputs": [
    {
     "output_type": "execute_result",
     "data": {
      "text/plain": [
       "0      139441\n",
       "1      139441\n",
       "2      139441\n",
       "3      139441\n",
       "4      139441\n",
       "        ...  \n",
       "495     85093\n",
       "496     81370\n",
       "497     81370\n",
       "498     81370\n",
       "499     81370\n",
       "Name: Page total likes, Length: 500, dtype: int64"
      ]
     },
     "metadata": {},
     "execution_count": 109
    }
   ],
   "source": [
    "y = df[\"Page total likes\"]\n",
    "y"
   ]
  },
  {
   "cell_type": "code",
   "execution_count": 110,
   "metadata": {},
   "outputs": [
    {
     "output_type": "execute_result",
     "data": {
      "text/plain": [
       "     Post Month  Post Weekday  Post Hour  Paid  Lifetime Post Total Reach  \\\n",
       "0            12             4          3     0                       2752   \n",
       "1            12             3         10     0                      10460   \n",
       "2            12             3          3     0                       2413   \n",
       "3            12             2         10     1                      50128   \n",
       "4            12             2          3     0                       7244   \n",
       "..          ...           ...        ...   ...                        ...   \n",
       "495           1             7          2     0                       4684   \n",
       "496           1             5          8     0                       3480   \n",
       "497           1             5          2     0                       3778   \n",
       "498           1             4         11     0                       4156   \n",
       "499           1             4          4     0                       4188   \n",
       "\n",
       "     Lifetime Post Total Impressions  Lifetime Engaged Users  \\\n",
       "0                               5091                     178   \n",
       "1                              19057                    1457   \n",
       "2                               4373                     177   \n",
       "3                              87991                    2211   \n",
       "4                              13594                     671   \n",
       "..                               ...                     ...   \n",
       "495                             7536                     733   \n",
       "496                             6229                     537   \n",
       "497                             7216                     625   \n",
       "498                             7564                     626   \n",
       "499                             7292                     564   \n",
       "\n",
       "     Lifetime Post Consumers  Lifetime Post Consumptions  \\\n",
       "0                        109                         159   \n",
       "1                       1361                        1674   \n",
       "2                        113                         154   \n",
       "3                        790                        1119   \n",
       "4                        410                         580   \n",
       "..                       ...                         ...   \n",
       "495                      708                         985   \n",
       "496                      508                         687   \n",
       "497                      572                         795   \n",
       "498                      574                         832   \n",
       "499                      524                         743   \n",
       "\n",
       "     Lifetime Post Impressions by people who have liked your Page  \\\n",
       "0                                                 3078              \n",
       "1                                                11710              \n",
       "2                                                 2812              \n",
       "3                                                61027              \n",
       "4                                                 6228              \n",
       "..                                                 ...              \n",
       "495                                               4750              \n",
       "496                                               3961              \n",
       "497                                               4742              \n",
       "498                                               4534              \n",
       "499                                               3861              \n",
       "\n",
       "     Lifetime Post reach by people who like your Page  \\\n",
       "0                                                1640   \n",
       "1                                                6112   \n",
       "2                                                1503   \n",
       "3                                               32048   \n",
       "4                                                3200   \n",
       "..                                                ...   \n",
       "495                                              2876   \n",
       "496                                              2104   \n",
       "497                                              2388   \n",
       "498                                              2452   \n",
       "499                                              2200   \n",
       "\n",
       "     Lifetime People who have liked your Page and engaged with your post  \\\n",
       "0                                                  119                     \n",
       "1                                                 1108                     \n",
       "2                                                  132                     \n",
       "3                                                 1386                     \n",
       "4                                                  396                     \n",
       "..                                                 ...                     \n",
       "495                                                392                     \n",
       "496                                                301                     \n",
       "497                                                363                     \n",
       "498                                                370                     \n",
       "499                                                316                     \n",
       "\n",
       "     comment  like  share  Total Interactions  Type_Link  Type_Photo  \\\n",
       "0          4    79     17                 100          0           1   \n",
       "1          5   130     29                 164          0           0   \n",
       "2          0    66     14                  80          0           1   \n",
       "3         58  1572    147                1777          0           1   \n",
       "4         19   325     49                 393          0           1   \n",
       "..       ...   ...    ...                 ...        ...         ...   \n",
       "495        5    53     26                  84          0           1   \n",
       "496        0    53     22                  75          0           1   \n",
       "497        4    93     18                 115          0           1   \n",
       "498        7    91     38                 136          0           1   \n",
       "499        0    91     28                 119          0           1   \n",
       "\n",
       "     Type_Status  Type_Video  \n",
       "0              0           0  \n",
       "1              1           0  \n",
       "2              0           0  \n",
       "3              0           0  \n",
       "4              0           0  \n",
       "..           ...         ...  \n",
       "495            0           0  \n",
       "496            0           0  \n",
       "497            0           0  \n",
       "498            0           0  \n",
       "499            0           0  \n",
       "\n",
       "[500 rows x 20 columns]"
      ],
      "text/html": "<div>\n<style scoped>\n    .dataframe tbody tr th:only-of-type {\n        vertical-align: middle;\n    }\n\n    .dataframe tbody tr th {\n        vertical-align: top;\n    }\n\n    .dataframe thead th {\n        text-align: right;\n    }\n</style>\n<table border=\"1\" class=\"dataframe\">\n  <thead>\n    <tr style=\"text-align: right;\">\n      <th></th>\n      <th>Post Month</th>\n      <th>Post Weekday</th>\n      <th>Post Hour</th>\n      <th>Paid</th>\n      <th>Lifetime Post Total Reach</th>\n      <th>Lifetime Post Total Impressions</th>\n      <th>Lifetime Engaged Users</th>\n      <th>Lifetime Post Consumers</th>\n      <th>Lifetime Post Consumptions</th>\n      <th>Lifetime Post Impressions by people who have liked your Page</th>\n      <th>Lifetime Post reach by people who like your Page</th>\n      <th>Lifetime People who have liked your Page and engaged with your post</th>\n      <th>comment</th>\n      <th>like</th>\n      <th>share</th>\n      <th>Total Interactions</th>\n      <th>Type_Link</th>\n      <th>Type_Photo</th>\n      <th>Type_Status</th>\n      <th>Type_Video</th>\n    </tr>\n  </thead>\n  <tbody>\n    <tr>\n      <th>0</th>\n      <td>12</td>\n      <td>4</td>\n      <td>3</td>\n      <td>0</td>\n      <td>2752</td>\n      <td>5091</td>\n      <td>178</td>\n      <td>109</td>\n      <td>159</td>\n      <td>3078</td>\n      <td>1640</td>\n      <td>119</td>\n      <td>4</td>\n      <td>79</td>\n      <td>17</td>\n      <td>100</td>\n      <td>0</td>\n      <td>1</td>\n      <td>0</td>\n      <td>0</td>\n    </tr>\n    <tr>\n      <th>1</th>\n      <td>12</td>\n      <td>3</td>\n      <td>10</td>\n      <td>0</td>\n      <td>10460</td>\n      <td>19057</td>\n      <td>1457</td>\n      <td>1361</td>\n      <td>1674</td>\n      <td>11710</td>\n      <td>6112</td>\n      <td>1108</td>\n      <td>5</td>\n      <td>130</td>\n      <td>29</td>\n      <td>164</td>\n      <td>0</td>\n      <td>0</td>\n      <td>1</td>\n      <td>0</td>\n    </tr>\n    <tr>\n      <th>2</th>\n      <td>12</td>\n      <td>3</td>\n      <td>3</td>\n      <td>0</td>\n      <td>2413</td>\n      <td>4373</td>\n      <td>177</td>\n      <td>113</td>\n      <td>154</td>\n      <td>2812</td>\n      <td>1503</td>\n      <td>132</td>\n      <td>0</td>\n      <td>66</td>\n      <td>14</td>\n      <td>80</td>\n      <td>0</td>\n      <td>1</td>\n      <td>0</td>\n      <td>0</td>\n    </tr>\n    <tr>\n      <th>3</th>\n      <td>12</td>\n      <td>2</td>\n      <td>10</td>\n      <td>1</td>\n      <td>50128</td>\n      <td>87991</td>\n      <td>2211</td>\n      <td>790</td>\n      <td>1119</td>\n      <td>61027</td>\n      <td>32048</td>\n      <td>1386</td>\n      <td>58</td>\n      <td>1572</td>\n      <td>147</td>\n      <td>1777</td>\n      <td>0</td>\n      <td>1</td>\n      <td>0</td>\n      <td>0</td>\n    </tr>\n    <tr>\n      <th>4</th>\n      <td>12</td>\n      <td>2</td>\n      <td>3</td>\n      <td>0</td>\n      <td>7244</td>\n      <td>13594</td>\n      <td>671</td>\n      <td>410</td>\n      <td>580</td>\n      <td>6228</td>\n      <td>3200</td>\n      <td>396</td>\n      <td>19</td>\n      <td>325</td>\n      <td>49</td>\n      <td>393</td>\n      <td>0</td>\n      <td>1</td>\n      <td>0</td>\n      <td>0</td>\n    </tr>\n    <tr>\n      <th>...</th>\n      <td>...</td>\n      <td>...</td>\n      <td>...</td>\n      <td>...</td>\n      <td>...</td>\n      <td>...</td>\n      <td>...</td>\n      <td>...</td>\n      <td>...</td>\n      <td>...</td>\n      <td>...</td>\n      <td>...</td>\n      <td>...</td>\n      <td>...</td>\n      <td>...</td>\n      <td>...</td>\n      <td>...</td>\n      <td>...</td>\n      <td>...</td>\n      <td>...</td>\n    </tr>\n    <tr>\n      <th>495</th>\n      <td>1</td>\n      <td>7</td>\n      <td>2</td>\n      <td>0</td>\n      <td>4684</td>\n      <td>7536</td>\n      <td>733</td>\n      <td>708</td>\n      <td>985</td>\n      <td>4750</td>\n      <td>2876</td>\n      <td>392</td>\n      <td>5</td>\n      <td>53</td>\n      <td>26</td>\n      <td>84</td>\n      <td>0</td>\n      <td>1</td>\n      <td>0</td>\n      <td>0</td>\n    </tr>\n    <tr>\n      <th>496</th>\n      <td>1</td>\n      <td>5</td>\n      <td>8</td>\n      <td>0</td>\n      <td>3480</td>\n      <td>6229</td>\n      <td>537</td>\n      <td>508</td>\n      <td>687</td>\n      <td>3961</td>\n      <td>2104</td>\n      <td>301</td>\n      <td>0</td>\n      <td>53</td>\n      <td>22</td>\n      <td>75</td>\n      <td>0</td>\n      <td>1</td>\n      <td>0</td>\n      <td>0</td>\n    </tr>\n    <tr>\n      <th>497</th>\n      <td>1</td>\n      <td>5</td>\n      <td>2</td>\n      <td>0</td>\n      <td>3778</td>\n      <td>7216</td>\n      <td>625</td>\n      <td>572</td>\n      <td>795</td>\n      <td>4742</td>\n      <td>2388</td>\n      <td>363</td>\n      <td>4</td>\n      <td>93</td>\n      <td>18</td>\n      <td>115</td>\n      <td>0</td>\n      <td>1</td>\n      <td>0</td>\n      <td>0</td>\n    </tr>\n    <tr>\n      <th>498</th>\n      <td>1</td>\n      <td>4</td>\n      <td>11</td>\n      <td>0</td>\n      <td>4156</td>\n      <td>7564</td>\n      <td>626</td>\n      <td>574</td>\n      <td>832</td>\n      <td>4534</td>\n      <td>2452</td>\n      <td>370</td>\n      <td>7</td>\n      <td>91</td>\n      <td>38</td>\n      <td>136</td>\n      <td>0</td>\n      <td>1</td>\n      <td>0</td>\n      <td>0</td>\n    </tr>\n    <tr>\n      <th>499</th>\n      <td>1</td>\n      <td>4</td>\n      <td>4</td>\n      <td>0</td>\n      <td>4188</td>\n      <td>7292</td>\n      <td>564</td>\n      <td>524</td>\n      <td>743</td>\n      <td>3861</td>\n      <td>2200</td>\n      <td>316</td>\n      <td>0</td>\n      <td>91</td>\n      <td>28</td>\n      <td>119</td>\n      <td>0</td>\n      <td>1</td>\n      <td>0</td>\n      <td>0</td>\n    </tr>\n  </tbody>\n</table>\n<p>500 rows × 20 columns</p>\n</div>"
     },
     "metadata": {},
     "execution_count": 110
    }
   ],
   "source": [
    "X = df[df.columns[2:]]\n",
    "X"
   ]
  },
  {
   "source": [
    "# Разбиение выборки"
   ],
   "cell_type": "markdown",
   "metadata": {}
  },
  {
   "cell_type": "code",
   "execution_count": 126,
   "metadata": {},
   "outputs": [],
   "source": [
    "X_train, X_test, y_train, y_test = train_test_split(X, y, test_size=0.2)"
   ]
  },
  {
   "cell_type": "code",
   "execution_count": 127,
   "metadata": {},
   "outputs": [],
   "source": [
    "scaler = StandardScaler()\n",
    "scaler.fit(X_train)\n",
    "\n",
    "X_train = scaler.transform(X_train)\n",
    "X_test = scaler.transform(X_test)"
   ]
  },
  {
   "source": [
    "# Линейная регрессия"
   ],
   "cell_type": "markdown",
   "metadata": {}
  },
  {
   "cell_type": "code",
   "execution_count": 128,
   "metadata": {},
   "outputs": [],
   "source": [
    "from sklearn.linear_model import LinearRegression\n",
    "from sklearn.metrics import r2_score, mean_absolute_error, mean_squared_error\n",
    "from math import sqrt"
   ]
  },
  {
   "cell_type": "code",
   "execution_count": 129,
   "metadata": {},
   "outputs": [],
   "source": [
    "lr = LinearRegression()\n",
    "lr.fit(X_train, y_train)\n",
    "y_pred_lr = lr.predict(X_test) "
   ]
  },
  {
   "cell_type": "code",
   "execution_count": 130,
   "metadata": {},
   "outputs": [
    {
     "output_type": "stream",
     "name": "stdout",
     "text": [
      "0.8719638501994211\n28269905.295918714\n5316.945109357319\n4510.23584774169\n"
     ]
    }
   ],
   "source": [
    "print(r2_score(y_test, y_pred_lr))\n",
    "print(mean_squared_error(y_test, y_pred_lr))\n",
    "print(mean_squared_error(y_test, y_pred_lr, squared=False))\n",
    "print(mean_absolute_error(y_test, y_pred_lr))\n"
   ]
  },
  {
   "cell_type": "markdown",
   "metadata": {},
   "source": [
    "# Регрессия дерева решений"
   ]
  },
  {
   "cell_type": "code",
   "execution_count": 131,
   "metadata": {},
   "outputs": [],
   "source": [
    "dtr = DecisionTreeRegressor()\n",
    "dtr.fit(X_train, y_train)\n",
    "y_pred_dtr = dtr.predict(X_test)"
   ]
  },
  {
   "cell_type": "code",
   "execution_count": 132,
   "metadata": {},
   "outputs": [
    {
     "output_type": "stream",
     "name": "stdout",
     "text": [
      "0.9836939366171883\n3600318.1\n1897.4504209596623\n1163.12\n"
     ]
    }
   ],
   "source": [
    "print(r2_score(y_test, y_pred_dtr))\n",
    "print(mean_squared_error(y_test, y_pred_dtr))\n",
    "print(mean_squared_error(y_test, y_pred_dtr, squared=False))\n",
    "print(mean_absolute_error(y_test, y_pred_dtr))"
   ]
  },
  {
   "cell_type": "code",
   "execution_count": 133,
   "metadata": {},
   "outputs": [
    {
     "output_type": "execute_result",
     "data": {
      "text/plain": [
       "dict_keys(['ccp_alpha', 'criterion', 'max_depth', 'max_features', 'max_leaf_nodes', 'min_impurity_decrease', 'min_impurity_split', 'min_samples_leaf', 'min_samples_split', 'min_weight_fraction_leaf', 'random_state', 'splitter'])"
      ]
     },
     "metadata": {},
     "execution_count": 133
    }
   ],
   "source": [
    "  dtr.get_params().keys()"
   ]
  },
  {
   "cell_type": "code",
   "execution_count": 134,
   "metadata": {},
   "outputs": [],
   "source": [
    "dtr_parameters_grid = {'criterion' : ['mse', 'friedman_mse', 'mae', 'poisson'],\n",
    "                       'splitter' : ['best', 'random'],\n",
    "                       'max_depth' : range(1, 11),                  \n",
    "}"
   ]
  },
  {
   "cell_type": "code",
   "execution_count": 135,
   "metadata": {},
   "outputs": [
    {
     "output_type": "stream",
     "name": "stdout",
     "text": [
      "Fitting 5 folds for each of 80 candidates, totalling 400 fits\n"
     ]
    },
    {
     "output_type": "execute_result",
     "data": {
      "text/plain": [
       "{'criterion': 'mse', 'max_depth': 4, 'splitter': 'best'}"
      ]
     },
     "metadata": {},
     "execution_count": 135
    }
   ],
   "source": [
    "dtr_grid = GridSearchCV(dtr, dtr_parameters_grid, cv=5, n_jobs=-1, verbose=True)\n",
    "dtr_grid.fit(X_train, y_train)\n",
    "dtr_grid.best_params_"
   ]
  },
  {
   "cell_type": "code",
   "execution_count": 136,
   "metadata": {},
   "outputs": [],
   "source": [
    "dtr_g = DecisionTreeRegressor(criterion='mse', max_depth=4,splitter='best')\n",
    "dtr_g.fit(X_train, y_train)\n",
    "y_pred_dtr_g = dtr_g.predict(X_test)"
   ]
  },
  {
   "cell_type": "code",
   "execution_count": 137,
   "metadata": {},
   "outputs": [
    {
     "output_type": "stream",
     "name": "stdout",
     "text": [
      "0.9919379959795437\n1780060.4790803022\n1334.1890717137142\n935.4252421470346\n"
     ]
    }
   ],
   "source": [
    "print(r2_score(y_test, y_pred_dtr_g))\n",
    "print(mean_squared_error(y_test, y_pred_dtr_g))\n",
    "print(mean_squared_error(y_test, y_pred_dtr_g, squared=False))\n",
    "print(mean_absolute_error(y_test, y_pred_dtr_g))"
   ]
  },
  {
   "source": [
    "# LASSO"
   ],
   "cell_type": "markdown",
   "metadata": {}
  },
  {
   "cell_type": "code",
   "execution_count": 138,
   "metadata": {},
   "outputs": [],
   "source": [
    "lasso = Lasso(alpha=1.0, max_iter=10000)\n",
    "lasso.fit(X_train, y_train)\n",
    "y_pred_lasso = lasso.predict(X_test)"
   ]
  },
  {
   "cell_type": "code",
   "execution_count": 139,
   "metadata": {},
   "outputs": [
    {
     "output_type": "stream",
     "name": "stdout",
     "text": [
      "0.8715395949789384\n28363579.26942564\n5325.746827387276\n4515.732478224842\n"
     ]
    }
   ],
   "source": [
    "print(r2_score(y_test, y_pred_lasso))\n",
    "print(mean_squared_error(y_test, y_pred_lasso))\n",
    "print(mean_squared_error(y_test, y_pred_lasso, squared=False))\n",
    "print(mean_absolute_error(y_test, y_pred_lasso))"
   ]
  },
  {
   "cell_type": "code",
   "execution_count": 140,
   "metadata": {},
   "outputs": [
    {
     "output_type": "execute_result",
     "data": {
      "text/plain": [
       "dict_keys(['alpha', 'copy_X', 'fit_intercept', 'max_iter', 'normalize', 'positive', 'precompute', 'random_state', 'selection', 'tol', 'warm_start'])"
      ]
     },
     "metadata": {},
     "execution_count": 140
    }
   ],
   "source": [
    " lasso.get_params().keys()"
   ]
  },
  {
   "cell_type": "code",
   "execution_count": 141,
   "metadata": {},
   "outputs": [],
   "source": [
    "lasso_parameters_grid = {'alpha' : np.arange(0.01, 1.0, 0.05),\n",
    "                         'normalize' : [True, False],\n",
    "                         'max_iter' : [10000],\n",
    "                         'selection' : ['cyclic', 'random'],\n",
    "                         'warm_start':[True, False]\n",
    "                         }"
   ]
  },
  {
   "cell_type": "code",
   "execution_count": 142,
   "metadata": {},
   "outputs": [
    {
     "output_type": "stream",
     "name": "stdout",
     "text": [
      "Fitting 5 folds for each of 160 candidates, totalling 800 fits\n"
     ]
    },
    {
     "output_type": "execute_result",
     "data": {
      "text/plain": [
       "{'alpha': 0.9600000000000001,\n",
       " 'max_iter': 10000,\n",
       " 'normalize': True,\n",
       " 'selection': 'random',\n",
       " 'warm_start': False}"
      ]
     },
     "metadata": {},
     "execution_count": 142
    }
   ],
   "source": [
    "lasso_grid = GridSearchCV(lasso, lasso_parameters_grid, cv = 5, n_jobs=-1, verbose=True)\n",
    "lasso_grid.fit(X_train, y_train)\n",
    "lasso_grid.best_params_"
   ]
  },
  {
   "cell_type": "code",
   "execution_count": 143,
   "metadata": {},
   "outputs": [],
   "source": [
    " lasso_g = Lasso(alpha= 0.96, max_iter=10000, normalize=True, selection='random', warm_start=True)\n",
    "lasso_g.fit(X_train,y_train)\n",
    "y_pred_lasso_g = lasso_g.predict(X_test)"
   ]
  },
  {
   "cell_type": "code",
   "execution_count": 144,
   "metadata": {},
   "outputs": [
    {
     "output_type": "stream",
     "name": "stdout",
     "text": [
      "0.8684292019444857\n29050342.473833274\n5389.836961711669\n4574.906665625533\n"
     ]
    }
   ],
   "source": [
    "print(r2_score(y_test, y_pred_lasso_g))\n",
    "print(mean_squared_error(y_test, y_pred_lasso_g))\n",
    "print(mean_squared_error(y_test, y_pred_lasso_g, squared=False))\n",
    "print(mean_absolute_error(y_test, y_pred_lasso_g))"
   ]
  },
  {
   "cell_type": "markdown",
   "metadata": {},
   "source": [
    "# Гребневая регрессия"
   ]
  },
  {
   "cell_type": "code",
   "execution_count": 145,
   "metadata": {},
   "outputs": [],
   "source": [
    "ridge = Ridge()\n",
    "ridge.fit(X_train,y_train)\n",
    "y_pred_ridge = ridge.predict(X_test)"
   ]
  },
  {
   "cell_type": "code",
   "execution_count": 146,
   "metadata": {},
   "outputs": [
    {
     "output_type": "stream",
     "name": "stdout",
     "text": [
      "0.869622231353485\n28786926.021056563\n5365.344911658202\n4551.419158688072\n"
     ]
    }
   ],
   "source": [
    "print(r2_score(y_test, y_pred_ridge))\n",
    "print(mean_squared_error(y_test, y_pred_ridge))\n",
    "print(mean_squared_error(y_test, y_pred_ridge, squared=False))\n",
    "print(mean_absolute_error(y_test, y_pred_ridge))"
   ]
  },
  {
   "cell_type": "code",
   "execution_count": 147,
   "metadata": {},
   "outputs": [
    {
     "output_type": "execute_result",
     "data": {
      "text/plain": [
       "dict_keys(['alpha', 'copy_X', 'fit_intercept', 'max_iter', 'normalize', 'random_state', 'solver', 'tol'])"
      ]
     },
     "metadata": {},
     "execution_count": 147
    }
   ],
   "source": [
    "ridge.get_params().keys()"
   ]
  },
  {
   "cell_type": "code",
   "execution_count": 148,
   "metadata": {},
   "outputs": [],
   "source": [
    "ridge_parameters_grid = {'alpha' : np.arange(0.01, 1.0, 0.05),\n",
    "                         'max_iter' : [10000],\n",
    "                         'solver' : ['auto', 'svd', 'cholesky', 'lsqr', 'sparse_cg', 'sag', 'saga'],\n",
    "                         'fit_intercept' : [True, False]\n",
    "                         }"
   ]
  },
  {
   "cell_type": "code",
   "execution_count": 150,
   "metadata": {},
   "outputs": [
    {
     "output_type": "stream",
     "name": "stdout",
     "text": [
      "Fitting 5 folds for each of 280 candidates, totalling 1400 fits\n"
     ]
    },
    {
     "output_type": "execute_result",
     "data": {
      "text/plain": [
       "{'alpha': 0.9600000000000001,\n",
       " 'fit_intercept': True,\n",
       " 'max_iter': 10000,\n",
       " 'solver': 'saga'}"
      ]
     },
     "metadata": {},
     "execution_count": 150
    }
   ],
   "source": [
    "ridge_grid = GridSearchCV(ridge, ridge_parameters_grid, cv = 5, n_jobs=-1, verbose=True)\n",
    "ridge_grid.fit(X_train, y_train)\n",
    "ridge_grid.best_params_"
   ]
  },
  {
   "cell_type": "code",
   "execution_count": 151,
   "metadata": {},
   "outputs": [],
   "source": [
    "ridge_g = Ridge(alpha=0.96, fit_intercept=True, max_iter=10000, solver='saga')\n",
    "ridge_g.fit(X_train,y_train)\n",
    "y_pred_ridge_g = ridge_g.predict(X_test)"
   ]
  },
  {
   "cell_type": "code",
   "execution_count": 152,
   "metadata": {},
   "outputs": [
    {
     "output_type": "stream",
     "name": "stdout",
     "text": [
      "0.8702224364947592\n28654402.959965054\n5352.980754679121\n4538.326039986799\n"
     ]
    }
   ],
   "source": [
    "print(r2_score(y_test, y_pred_ridge_g))\n",
    "print(mean_squared_error(y_test, y_pred_ridge_g))\n",
    "print(mean_squared_error(y_test, y_pred_ridge_g, squared=False))\n",
    "print(mean_absolute_error(y_test, y_pred_ridge_g))"
   ]
  },
  {
   "cell_type": "markdown",
   "metadata": {},
   "source": [
    "# Elastic Net регрессия"
   ]
  },
  {
   "cell_type": "code",
   "execution_count": 153,
   "metadata": {},
   "outputs": [],
   "source": [
    "en = ElasticNet()\n",
    "en.fit(X_train, y_train)\n",
    "y_pred_en = en.predict(X_test)"
   ]
  },
  {
   "cell_type": "code",
   "execution_count": 154,
   "metadata": {},
   "outputs": [
    {
     "output_type": "stream",
     "name": "stdout",
     "text": [
      "0.8125722011003353\n41383360.34759509\n6432.990000582551\n5043.913486432624\n"
     ]
    }
   ],
   "source": [
    "print(r2_score(y_test, y_pred_en))\n",
    "print(mean_squared_error(y_test, y_pred_en))\n",
    "print(mean_squared_error(y_test, y_pred_en, squared=False))\n",
    "print(mean_absolute_error(y_test, y_pred_en))"
   ]
  },
  {
   "cell_type": "code",
   "execution_count": 155,
   "metadata": {},
   "outputs": [
    {
     "output_type": "execute_result",
     "data": {
      "text/plain": [
       "dict_keys(['alpha', 'copy_X', 'fit_intercept', 'l1_ratio', 'max_iter', 'normalize', 'positive', 'precompute', 'random_state', 'selection', 'tol', 'warm_start'])"
      ]
     },
     "metadata": {},
     "execution_count": 155
    }
   ],
   "source": [
    "en.get_params().keys()"
   ]
  },
  {
   "cell_type": "code",
   "execution_count": 156,
   "metadata": {},
   "outputs": [],
   "source": [
    "en_parameters_grid = {'alpha' : np.arange(0.01, 1.0, 0.05),\n",
    "                      'l1_ratio' : np.arange(0.1, 1.0, 0.1),\n",
    "                      'max_iter' : [10000],\n",
    "                      'fit_intercept' : [True, False],\n",
    "                      'normalize' : [True, False],\n",
    "                      'selection' : ['cyclic', 'random'],\n",
    "                     }"
   ]
  },
  {
   "cell_type": "code",
   "execution_count": 157,
   "metadata": {},
   "outputs": [
    {
     "output_type": "stream",
     "name": "stdout",
     "text": [
      "Fitting 5 folds for each of 1440 candidates, totalling 7200 fits\n"
     ]
    },
    {
     "output_type": "execute_result",
     "data": {
      "text/plain": [
       "{'alpha': 0.81,\n",
       " 'fit_intercept': True,\n",
       " 'l1_ratio': 0.9,\n",
       " 'max_iter': 10000,\n",
       " 'normalize': False,\n",
       " 'selection': 'cyclic'}"
      ]
     },
     "metadata": {},
     "execution_count": 157
    }
   ],
   "source": [
    "en_grid = GridSearchCV(en, en_parameters_grid, cv = 5, n_jobs=-1, verbose=True)\n",
    "en_grid.fit(X_train, y_train)\n",
    "en_grid.best_params_"
   ]
  },
  {
   "cell_type": "code",
   "execution_count": 158,
   "metadata": {},
   "outputs": [],
   "source": [
    "en_g = ElasticNet(alpha=0.81, fit_intercept=True, l1_ratio=0.9, max_iter=10000, normalize=False, selection='cyclic')\n",
    "en_g.fit(X_train, y_train)\n",
    "y_pred_en_g = en_g.predict(X_test)"
   ]
  },
  {
   "cell_type": "code",
   "execution_count": 159,
   "metadata": {},
   "outputs": [
    {
     "output_type": "stream",
     "name": "stdout",
     "text": [
      "0.8775591616055098\n27034481.36449255\n5199.4693348929895\n4380.067712987546\n"
     ]
    }
   ],
   "source": [
    "print(r2_score(y_test, y_pred_en_g))\n",
    "print(mean_squared_error(y_test, y_pred_en_g))\n",
    "print(mean_squared_error(y_test, y_pred_en_g, squared=False))\n",
    "print(mean_absolute_error(y_test, y_pred_en_g))"
   ]
  },
  {
   "cell_type": "code",
   "execution_count": null,
   "metadata": {},
   "outputs": [],
   "source": []
  }
 ],
 "metadata": {
  "kernelspec": {
   "name": "python391jvsc74a57bd016e4b87f0dbdf66a4ee056938d0c8f3ebbd68a803ec7e298da5e0d0190041215",
   "display_name": "Python 3.9.1 64-bit"
  },
  "language_info": {
   "codemirror_mode": {
    "name": "ipython",
    "version": 3
   },
   "file_extension": ".py",
   "mimetype": "text/x-python",
   "name": "python",
   "nbconvert_exporter": "python",
   "pygments_lexer": "ipython3",
   "version": "3.9.1"
  }
 },
 "nbformat": 4,
 "nbformat_minor": 4
}