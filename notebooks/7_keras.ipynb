{
 "cells": [
  {
   "cell_type": "code",
   "execution_count": 1,
   "id": "theoretical-pension",
   "metadata": {
    "executionInfo": {
     "elapsed": 2713,
     "status": "ok",
     "timestamp": 1619367126206,
     "user": {
      "displayName": "Анастасия Федосеева",
      "photoUrl": "",
      "userId": "16934346816105494052"
     },
     "user_tz": -360
    },
    "id": "theoretical-pension"
   },
   "outputs": [],
   "source": [
    "import pandas as pd\n",
    "from sklearn.preprocessing import LabelEncoder\n",
    "from sklearn.model_selection import train_test_split\n",
    "from sklearn.preprocessing import StandardScaler\n",
    "from keras.models import Sequential\n",
    "from keras.layers import Dense\n",
    "from keras.utils.vis_utils import plot_model"
   ]
  },
  {
   "cell_type": "markdown",
   "id": "opening-westminster",
   "metadata": {
    "id": "opening-westminster"
   },
   "source": [
    "# Решение задачи классификации с помощью Keras"
   ]
  },
  {
   "cell_type": "markdown",
   "id": "known-batman",
   "metadata": {
    "id": "known-batman"
   },
   "source": [
    "##  Подготовка данных"
   ]
  },
  {
   "cell_type": "code",
   "execution_count": 2,
   "id": "failing-feelings",
   "metadata": {
    "executionInfo": {
     "elapsed": 2691,
     "status": "ok",
     "timestamp": 1619367126212,
     "user": {
      "displayName": "Анастасия Федосеева",
      "photoUrl": "",
      "userId": "16934346816105494052"
     },
     "user_tz": -360
    },
    "id": "failing-feelings"
   },
   "outputs": [],
   "source": [
    "df = pd.read_table('../data/classification/alizadeh_preprocessed.csv', sep=',')"
   ]
  },
  {
   "cell_type": "code",
   "execution_count": 3,
   "id": "lesser-persian",
   "metadata": {
    "colab": {
     "base_uri": "https://localhost:8080/",
     "height": 204
    },
    "executionInfo": {
     "elapsed": 2682,
     "status": "ok",
     "timestamp": 1619367126213,
     "user": {
      "displayName": "Анастасия Федосеева",
      "photoUrl": "",
      "userId": "16934346816105494052"
     },
     "user_tz": -360
    },
    "id": "lesser-persian",
    "outputId": "81d85ea1-9077-43e0-bce7-0f983e08e8ec"
   },
   "outputs": [
    {
     "output_type": "execute_result",
     "data": {
      "text/plain": [
       "   Age  Weight  Length  Sex        BMI  DM  HTN  Current Smoker  EX-Smoker  \\\n",
       "0   53      90     175    1  29.387755   0    1               1          0   \n",
       "1   67      70     157    2  28.398718   0    1               0          0   \n",
       "2   54      54     164    1  20.077335   0    0               1          0   \n",
       "3   66      67     158    2  26.838648   0    1               0          0   \n",
       "4   50      87     153    2  37.165193   0    1               0          0   \n",
       "\n",
       "   FH  ...  Lymph  Neut  PLT  EF-TTE  Region RWMA  VHD  LAD  LCX  RCA  Cath  \n",
       "0   0  ...     39    52  261      50            0    2    1    0    1     0  \n",
       "1   0  ...     38    55  165      40            4    2    1    1    0     0  \n",
       "2   0  ...     38    60  230      40            2    0    1    0    0     0  \n",
       "3   0  ...     18    72  742      55            0    3    0    0    0     1  \n",
       "4   0  ...     55    39  274      50            0    3    0    0    0     1  \n",
       "\n",
       "[5 rows x 59 columns]"
      ],
      "text/html": "<div>\n<style scoped>\n    .dataframe tbody tr th:only-of-type {\n        vertical-align: middle;\n    }\n\n    .dataframe tbody tr th {\n        vertical-align: top;\n    }\n\n    .dataframe thead th {\n        text-align: right;\n    }\n</style>\n<table border=\"1\" class=\"dataframe\">\n  <thead>\n    <tr style=\"text-align: right;\">\n      <th></th>\n      <th>Age</th>\n      <th>Weight</th>\n      <th>Length</th>\n      <th>Sex</th>\n      <th>BMI</th>\n      <th>DM</th>\n      <th>HTN</th>\n      <th>Current Smoker</th>\n      <th>EX-Smoker</th>\n      <th>FH</th>\n      <th>...</th>\n      <th>Lymph</th>\n      <th>Neut</th>\n      <th>PLT</th>\n      <th>EF-TTE</th>\n      <th>Region RWMA</th>\n      <th>VHD</th>\n      <th>LAD</th>\n      <th>LCX</th>\n      <th>RCA</th>\n      <th>Cath</th>\n    </tr>\n  </thead>\n  <tbody>\n    <tr>\n      <th>0</th>\n      <td>53</td>\n      <td>90</td>\n      <td>175</td>\n      <td>1</td>\n      <td>29.387755</td>\n      <td>0</td>\n      <td>1</td>\n      <td>1</td>\n      <td>0</td>\n      <td>0</td>\n      <td>...</td>\n      <td>39</td>\n      <td>52</td>\n      <td>261</td>\n      <td>50</td>\n      <td>0</td>\n      <td>2</td>\n      <td>1</td>\n      <td>0</td>\n      <td>1</td>\n      <td>0</td>\n    </tr>\n    <tr>\n      <th>1</th>\n      <td>67</td>\n      <td>70</td>\n      <td>157</td>\n      <td>2</td>\n      <td>28.398718</td>\n      <td>0</td>\n      <td>1</td>\n      <td>0</td>\n      <td>0</td>\n      <td>0</td>\n      <td>...</td>\n      <td>38</td>\n      <td>55</td>\n      <td>165</td>\n      <td>40</td>\n      <td>4</td>\n      <td>2</td>\n      <td>1</td>\n      <td>1</td>\n      <td>0</td>\n      <td>0</td>\n    </tr>\n    <tr>\n      <th>2</th>\n      <td>54</td>\n      <td>54</td>\n      <td>164</td>\n      <td>1</td>\n      <td>20.077335</td>\n      <td>0</td>\n      <td>0</td>\n      <td>1</td>\n      <td>0</td>\n      <td>0</td>\n      <td>...</td>\n      <td>38</td>\n      <td>60</td>\n      <td>230</td>\n      <td>40</td>\n      <td>2</td>\n      <td>0</td>\n      <td>1</td>\n      <td>0</td>\n      <td>0</td>\n      <td>0</td>\n    </tr>\n    <tr>\n      <th>3</th>\n      <td>66</td>\n      <td>67</td>\n      <td>158</td>\n      <td>2</td>\n      <td>26.838648</td>\n      <td>0</td>\n      <td>1</td>\n      <td>0</td>\n      <td>0</td>\n      <td>0</td>\n      <td>...</td>\n      <td>18</td>\n      <td>72</td>\n      <td>742</td>\n      <td>55</td>\n      <td>0</td>\n      <td>3</td>\n      <td>0</td>\n      <td>0</td>\n      <td>0</td>\n      <td>1</td>\n    </tr>\n    <tr>\n      <th>4</th>\n      <td>50</td>\n      <td>87</td>\n      <td>153</td>\n      <td>2</td>\n      <td>37.165193</td>\n      <td>0</td>\n      <td>1</td>\n      <td>0</td>\n      <td>0</td>\n      <td>0</td>\n      <td>...</td>\n      <td>55</td>\n      <td>39</td>\n      <td>274</td>\n      <td>50</td>\n      <td>0</td>\n      <td>3</td>\n      <td>0</td>\n      <td>0</td>\n      <td>0</td>\n      <td>1</td>\n    </tr>\n  </tbody>\n</table>\n<p>5 rows × 59 columns</p>\n</div>"
     },
     "metadata": {},
     "execution_count": 3
    }
   ],
   "source": [
    "df.head()"
   ]
  },
  {
   "cell_type": "code",
   "execution_count": 4,
   "id": "metropolitan-floating",
   "metadata": {
    "executionInfo": {
     "elapsed": 2667,
     "status": "ok",
     "timestamp": 1619367126219,
     "user": {
      "displayName": "Анастасия Федосеева",
      "photoUrl": "",
      "userId": "16934346816105494052"
     },
     "user_tz": -360
    },
    "id": "metropolitan-floating"
   },
   "outputs": [],
   "source": [
    "X = df.iloc[:,:26].values\n",
    "y = df.iloc[:,27].values"
   ]
  },
  {
   "cell_type": "code",
   "execution_count": 5,
   "id": "dense-nudist",
   "metadata": {
    "executionInfo": {
     "elapsed": 2664,
     "status": "ok",
     "timestamp": 1619367126223,
     "user": {
      "displayName": "Анастасия Федосеева",
      "photoUrl": "",
      "userId": "16934346816105494052"
     },
     "user_tz": -360
    },
    "id": "dense-nudist"
   },
   "outputs": [],
   "source": [
    "X_train, X_test, y_train, y_test = train_test_split(X, y, test_size=0.20)"
   ]
  },
  {
   "cell_type": "markdown",
   "id": "spectacular-waste",
   "metadata": {
    "id": "spectacular-waste"
   },
   "source": [
    "Объявляем StandardScaler для нормализации данных."
   ]
  },
  {
   "cell_type": "code",
   "execution_count": 6,
   "id": "super-immunology",
   "metadata": {
    "executionInfo": {
     "elapsed": 3167,
     "status": "ok",
     "timestamp": 1619367126732,
     "user": {
      "displayName": "Анастасия Федосеева",
      "photoUrl": "",
      "userId": "16934346816105494052"
     },
     "user_tz": -360
    },
    "id": "super-immunology"
   },
   "outputs": [],
   "source": [
    "scaler = StandardScaler()\n",
    "X_train = scaler.fit_transform(X_train)\n",
    "X_test = scaler.transform(X_test)"
   ]
  },
  {
   "cell_type": "markdown",
   "id": "described-habitat",
   "metadata": {
    "id": "described-habitat"
   },
   "source": [
    "##  Модель"
   ]
  },
  {
   "cell_type": "code",
   "execution_count": 7,
   "id": "greatest-representation",
   "metadata": {
    "colab": {
     "base_uri": "https://localhost:8080/"
    },
    "executionInfo": {
     "elapsed": 3163,
     "status": "ok",
     "timestamp": 1619367126734,
     "user": {
      "displayName": "Анастасия Федосеева",
      "photoUrl": "",
      "userId": "16934346816105494052"
     },
     "user_tz": -360
    },
    "id": "greatest-representation",
    "outputId": "a7f1fdaf-efe4-407a-81bc-5e4a92261540"
   },
   "outputs": [
    {
     "output_type": "stream",
     "name": "stdout",
     "text": [
      "Model: \"sequential\"\n_________________________________________________________________\nLayer (type)                 Output Shape              Param #   \n=================================================================\ndense (Dense)                (None, 26)                702       \n_________________________________________________________________\ndense_1 (Dense)              (None, 1)                 27        \n=================================================================\nTotal params: 729\nTrainable params: 729\nNon-trainable params: 0\n_________________________________________________________________\n"
     ]
    }
   ],
   "source": [
    "model = Sequential()\n",
    "model.add(Dense(26, input_dim=26, activation='relu'))\n",
    "model.add(Dense(1, activation='sigmoid'))\n",
    "model.summary()"
   ]
  },
  {
   "cell_type": "code",
   "execution_count": 8,
   "id": "vocal-chile",
   "metadata": {
    "executionInfo": {
     "elapsed": 3149,
     "status": "ok",
     "timestamp": 1619367126738,
     "user": {
      "displayName": "Анастасия Федосеева",
      "photoUrl": "",
      "userId": "16934346816105494052"
     },
     "user_tz": -360
    },
    "id": "vocal-chile"
   },
   "outputs": [],
   "source": [
    "model.compile(loss='mean_squared_error', optimizer='adam', metrics=['accuracy'])"
   ]
  },
  {
   "cell_type": "code",
   "execution_count": 9,
   "id": "clean-label",
   "metadata": {
    "colab": {
     "base_uri": "https://localhost:8080/"
    },
    "executionInfo": {
     "elapsed": 183444,
     "status": "ok",
     "timestamp": 1619367307039,
     "user": {
      "displayName": "Анастасия Федосеева",
      "photoUrl": "",
      "userId": "16934346816105494052"
     },
     "user_tz": -360
    },
    "id": "clean-label",
    "outputId": "5295a0cd-e853-4bff-8461-7539c9a1b19b"
   },
   "outputs": [
    {
     "output_type": "stream",
     "name": "stdout",
     "text": [
      "Epoch 1/250\n",
      "8/8 [==============================] - 14s 1ms/step - loss: 0.3162 - accuracy: 0.4256\n",
      "Epoch 2/250\n",
      "8/8 [==============================] - 0s 1ms/step - loss: 0.2910 - accuracy: 0.4893\n",
      "Epoch 3/250\n",
      "8/8 [==============================] - 0s 1ms/step - loss: 0.2829 - accuracy: 0.5009\n",
      "Epoch 4/250\n",
      "8/8 [==============================] - 0s 2ms/step - loss: 0.2706 - accuracy: 0.4870\n",
      "Epoch 5/250\n",
      "8/8 [==============================] - 0s 2ms/step - loss: 0.2521 - accuracy: 0.5417\n",
      "Epoch 6/250\n",
      "8/8 [==============================] - 0s 1ms/step - loss: 0.2278 - accuracy: 0.6081\n",
      "Epoch 7/250\n",
      "8/8 [==============================] - 0s 1ms/step - loss: 0.2068 - accuracy: 0.6629\n",
      "Epoch 8/250\n",
      "8/8 [==============================] - 0s 1ms/step - loss: 0.2102 - accuracy: 0.6719\n",
      "Epoch 9/250\n",
      "8/8 [==============================] - 0s 2ms/step - loss: 0.1867 - accuracy: 0.7400\n",
      "Epoch 10/250\n",
      "8/8 [==============================] - 0s 997us/step - loss: 0.1992 - accuracy: 0.7164\n",
      "Epoch 11/250\n",
      "8/8 [==============================] - 0s 1ms/step - loss: 0.1841 - accuracy: 0.7749\n",
      "Epoch 12/250\n",
      "8/8 [==============================] - 0s 1ms/step - loss: 0.1754 - accuracy: 0.7823\n",
      "Epoch 13/250\n",
      "8/8 [==============================] - 0s 2ms/step - loss: 0.1687 - accuracy: 0.7841\n",
      "Epoch 14/250\n",
      "8/8 [==============================] - 0s 1ms/step - loss: 0.1632 - accuracy: 0.8177\n",
      "Epoch 15/250\n",
      "8/8 [==============================] - 0s 1ms/step - loss: 0.1624 - accuracy: 0.7963\n",
      "Epoch 16/250\n",
      "8/8 [==============================] - 0s 2ms/step - loss: 0.1609 - accuracy: 0.8151\n",
      "Epoch 17/250\n",
      "8/8 [==============================] - 0s 1ms/step - loss: 0.1588 - accuracy: 0.7931\n",
      "Epoch 18/250\n",
      "8/8 [==============================] - 0s 1ms/step - loss: 0.1519 - accuracy: 0.7966\n",
      "Epoch 19/250\n",
      "8/8 [==============================] - 0s 1ms/step - loss: 0.1482 - accuracy: 0.8070\n",
      "Epoch 20/250\n",
      "8/8 [==============================] - 0s 2ms/step - loss: 0.1389 - accuracy: 0.8308\n",
      "Epoch 21/250\n",
      "8/8 [==============================] - 0s 1ms/step - loss: 0.1366 - accuracy: 0.8212\n",
      "Epoch 22/250\n",
      "8/8 [==============================] - 0s 2ms/step - loss: 0.1350 - accuracy: 0.8355\n",
      "Epoch 23/250\n",
      "8/8 [==============================] - 0s 1ms/step - loss: 0.1230 - accuracy: 0.8549\n",
      "Epoch 24/250\n",
      "8/8 [==============================] - 0s 1ms/step - loss: 0.1253 - accuracy: 0.8538\n",
      "Epoch 25/250\n",
      "8/8 [==============================] - 0s 1ms/step - loss: 0.1246 - accuracy: 0.8444\n",
      "Epoch 26/250\n",
      "8/8 [==============================] - 0s 2ms/step - loss: 0.1162 - accuracy: 0.8785\n",
      "Epoch 27/250\n",
      "8/8 [==============================] - 0s 1ms/step - loss: 0.1150 - accuracy: 0.8759\n",
      "Epoch 28/250\n",
      "8/8 [==============================] - 0s 1ms/step - loss: 0.1136 - accuracy: 0.8590\n",
      "Epoch 29/250\n",
      "8/8 [==============================] - 0s 2ms/step - loss: 0.1177 - accuracy: 0.8523\n",
      "Epoch 30/250\n",
      "8/8 [==============================] - 0s 1ms/step - loss: 0.1152 - accuracy: 0.8797\n",
      "Epoch 31/250\n",
      "8/8 [==============================] - 0s 1ms/step - loss: 0.1044 - accuracy: 0.8976\n",
      "Epoch 32/250\n",
      "8/8 [==============================] - 0s 1ms/step - loss: 0.0943 - accuracy: 0.9208\n",
      "Epoch 33/250\n",
      "8/8 [==============================] - 0s 1ms/step - loss: 0.1039 - accuracy: 0.8809\n",
      "Epoch 34/250\n",
      "8/8 [==============================] - 0s 1ms/step - loss: 0.0892 - accuracy: 0.9044\n",
      "Epoch 35/250\n",
      "8/8 [==============================] - 0s 1ms/step - loss: 0.0979 - accuracy: 0.8834\n",
      "Epoch 36/250\n",
      "8/8 [==============================] - 0s 1ms/step - loss: 0.0969 - accuracy: 0.8971\n",
      "Epoch 37/250\n",
      "8/8 [==============================] - 0s 1ms/step - loss: 0.0999 - accuracy: 0.8785\n",
      "Epoch 38/250\n",
      "8/8 [==============================] - 0s 1ms/step - loss: 0.0880 - accuracy: 0.9069\n",
      "Epoch 39/250\n",
      "8/8 [==============================] - 0s 1ms/step - loss: 0.0918 - accuracy: 0.9082\n",
      "Epoch 40/250\n",
      "8/8 [==============================] - 0s 1ms/step - loss: 0.0768 - accuracy: 0.9346\n",
      "Epoch 41/250\n",
      "8/8 [==============================] - 0s 2ms/step - loss: 0.0924 - accuracy: 0.9093\n",
      "Epoch 42/250\n",
      "8/8 [==============================] - 0s 2ms/step - loss: 0.0886 - accuracy: 0.9027\n",
      "Epoch 43/250\n",
      "8/8 [==============================] - 0s 1ms/step - loss: 0.0834 - accuracy: 0.9141\n",
      "Epoch 44/250\n",
      "8/8 [==============================] - 0s 1ms/step - loss: 0.0746 - accuracy: 0.9368\n",
      "Epoch 45/250\n",
      "8/8 [==============================] - 0s 1ms/step - loss: 0.0756 - accuracy: 0.9310\n",
      "Epoch 46/250\n",
      "8/8 [==============================] - 0s 2ms/step - loss: 0.0866 - accuracy: 0.9125\n",
      "Epoch 47/250\n",
      "8/8 [==============================] - 0s 2ms/step - loss: 0.0794 - accuracy: 0.9192\n",
      "Epoch 48/250\n",
      "8/8 [==============================] - 0s 2ms/step - loss: 0.0718 - accuracy: 0.9263\n",
      "Epoch 49/250\n",
      "8/8 [==============================] - 0s 2ms/step - loss: 0.0704 - accuracy: 0.9400\n",
      "Epoch 50/250\n",
      "8/8 [==============================] - 0s 2ms/step - loss: 0.0667 - accuracy: 0.9456\n",
      "Epoch 51/250\n",
      "8/8 [==============================] - 0s 2ms/step - loss: 0.0612 - accuracy: 0.9521\n",
      "Epoch 52/250\n",
      "8/8 [==============================] - 0s 1ms/step - loss: 0.0738 - accuracy: 0.9286\n",
      "Epoch 53/250\n",
      "8/8 [==============================] - 0s 1ms/step - loss: 0.0796 - accuracy: 0.9166\n",
      "Epoch 54/250\n",
      "8/8 [==============================] - 0s 1ms/step - loss: 0.0655 - accuracy: 0.9368\n",
      "Epoch 55/250\n",
      "8/8 [==============================] - 0s 1ms/step - loss: 0.0671 - accuracy: 0.9309\n",
      "Epoch 56/250\n",
      "8/8 [==============================] - 0s 2ms/step - loss: 0.0662 - accuracy: 0.9396\n",
      "Epoch 57/250\n",
      "8/8 [==============================] - 0s 1ms/step - loss: 0.0643 - accuracy: 0.9420\n",
      "Epoch 58/250\n",
      "8/8 [==============================] - 0s 1ms/step - loss: 0.0733 - accuracy: 0.9201\n",
      "Epoch 59/250\n",
      "8/8 [==============================] - 0s 1ms/step - loss: 0.0701 - accuracy: 0.9362\n",
      "Epoch 60/250\n",
      "8/8 [==============================] - 0s 1ms/step - loss: 0.0798 - accuracy: 0.9144\n",
      "Epoch 61/250\n",
      "8/8 [==============================] - 0s 1ms/step - loss: 0.0593 - accuracy: 0.9442\n",
      "Epoch 62/250\n",
      "8/8 [==============================] - 0s 2ms/step - loss: 0.0686 - accuracy: 0.9350\n",
      "Epoch 63/250\n",
      "8/8 [==============================] - 0s 1ms/step - loss: 0.0660 - accuracy: 0.9281\n",
      "Epoch 64/250\n",
      "8/8 [==============================] - 0s 1ms/step - loss: 0.0673 - accuracy: 0.9394\n",
      "Epoch 65/250\n",
      "8/8 [==============================] - 0s 1ms/step - loss: 0.0624 - accuracy: 0.9463\n",
      "Epoch 66/250\n",
      "8/8 [==============================] - 0s 1ms/step - loss: 0.0647 - accuracy: 0.9477\n",
      "Epoch 67/250\n",
      "8/8 [==============================] - 0s 2ms/step - loss: 0.0555 - accuracy: 0.9569\n",
      "Epoch 68/250\n",
      "8/8 [==============================] - 0s 2ms/step - loss: 0.0580 - accuracy: 0.9533\n",
      "Epoch 69/250\n",
      "8/8 [==============================] - 0s 2ms/step - loss: 0.0552 - accuracy: 0.9529\n",
      "Epoch 70/250\n",
      "8/8 [==============================] - 0s 2ms/step - loss: 0.0587 - accuracy: 0.9394\n",
      "Epoch 71/250\n",
      "8/8 [==============================] - 0s 2ms/step - loss: 0.0644 - accuracy: 0.9438\n",
      "Epoch 72/250\n",
      "8/8 [==============================] - 0s 2ms/step - loss: 0.0540 - accuracy: 0.9562\n",
      "Epoch 73/250\n",
      "8/8 [==============================] - 0s 2ms/step - loss: 0.0519 - accuracy: 0.9632\n",
      "Epoch 74/250\n",
      "8/8 [==============================] - 0s 1ms/step - loss: 0.0549 - accuracy: 0.9575\n",
      "Epoch 75/250\n",
      "8/8 [==============================] - 0s 2ms/step - loss: 0.0510 - accuracy: 0.9470\n",
      "Epoch 76/250\n",
      "8/8 [==============================] - 0s 2ms/step - loss: 0.0574 - accuracy: 0.9510\n",
      "Epoch 77/250\n",
      "8/8 [==============================] - 0s 4ms/step - loss: 0.0594 - accuracy: 0.9527\n",
      "Epoch 78/250\n",
      "8/8 [==============================] - 0s 1ms/step - loss: 0.0512 - accuracy: 0.9616\n",
      "Epoch 79/250\n",
      "8/8 [==============================] - 0s 2ms/step - loss: 0.0541 - accuracy: 0.9425\n",
      "Epoch 80/250\n",
      "8/8 [==============================] - 0s 1ms/step - loss: 0.0604 - accuracy: 0.9336\n",
      "Epoch 81/250\n",
      "8/8 [==============================] - 0s 2ms/step - loss: 0.0522 - accuracy: 0.9511\n",
      "Epoch 82/250\n",
      "8/8 [==============================] - 0s 1ms/step - loss: 0.0493 - accuracy: 0.9520\n",
      "Epoch 83/250\n",
      "8/8 [==============================] - 0s 1ms/step - loss: 0.0557 - accuracy: 0.9395\n",
      "Epoch 84/250\n",
      "8/8 [==============================] - 0s 1ms/step - loss: 0.0539 - accuracy: 0.9514\n",
      "Epoch 85/250\n",
      "8/8 [==============================] - 0s 1ms/step - loss: 0.0475 - accuracy: 0.9507\n",
      "Epoch 86/250\n",
      "8/8 [==============================] - 0s 1ms/step - loss: 0.0503 - accuracy: 0.9417\n",
      "Epoch 87/250\n",
      "8/8 [==============================] - 0s 1ms/step - loss: 0.0546 - accuracy: 0.9490\n",
      "Epoch 88/250\n",
      "8/8 [==============================] - 0s 1ms/step - loss: 0.0530 - accuracy: 0.9395\n",
      "Epoch 89/250\n",
      "8/8 [==============================] - 0s 1ms/step - loss: 0.0557 - accuracy: 0.9376\n",
      "Epoch 90/250\n",
      "8/8 [==============================] - 0s 2ms/step - loss: 0.0535 - accuracy: 0.9386\n",
      "Epoch 91/250\n",
      "8/8 [==============================] - 0s 1ms/step - loss: 0.0451 - accuracy: 0.9501\n",
      "Epoch 92/250\n",
      "8/8 [==============================] - 0s 1ms/step - loss: 0.0540 - accuracy: 0.9360\n",
      "Epoch 93/250\n",
      "8/8 [==============================] - 0s 1ms/step - loss: 0.0550 - accuracy: 0.9345\n",
      "Epoch 94/250\n",
      "8/8 [==============================] - 0s 2ms/step - loss: 0.0426 - accuracy: 0.9549\n",
      "Epoch 95/250\n",
      "8/8 [==============================] - 0s 5ms/step - loss: 0.0531 - accuracy: 0.9369\n",
      "Epoch 96/250\n",
      "8/8 [==============================] - 0s 2ms/step - loss: 0.0468 - accuracy: 0.9413\n",
      "Epoch 97/250\n",
      "8/8 [==============================] - 0s 2ms/step - loss: 0.0455 - accuracy: 0.9529\n",
      "Epoch 98/250\n",
      "8/8 [==============================] - 0s 1ms/step - loss: 0.0395 - accuracy: 0.9522\n",
      "Epoch 99/250\n",
      "8/8 [==============================] - 0s 2ms/step - loss: 0.0530 - accuracy: 0.9395\n",
      "Epoch 100/250\n",
      "8/8 [==============================] - 0s 2ms/step - loss: 0.0438 - accuracy: 0.9442\n",
      "Epoch 101/250\n",
      "8/8 [==============================] - 0s 2ms/step - loss: 0.0460 - accuracy: 0.9397\n",
      "Epoch 102/250\n",
      "8/8 [==============================] - 0s 1ms/step - loss: 0.0440 - accuracy: 0.9496\n",
      "Epoch 103/250\n",
      "8/8 [==============================] - 0s 1ms/step - loss: 0.0448 - accuracy: 0.9600\n",
      "Epoch 104/250\n",
      "8/8 [==============================] - 0s 1ms/step - loss: 0.0474 - accuracy: 0.9450\n",
      "Epoch 105/250\n",
      "8/8 [==============================] - 0s 1ms/step - loss: 0.0445 - accuracy: 0.9536\n",
      "Epoch 106/250\n",
      "8/8 [==============================] - 0s 1ms/step - loss: 0.0464 - accuracy: 0.9447\n",
      "Epoch 107/250\n",
      "8/8 [==============================] - 0s 1ms/step - loss: 0.0522 - accuracy: 0.9351\n",
      "Epoch 108/250\n",
      "8/8 [==============================] - 0s 997us/step - loss: 0.0499 - accuracy: 0.9458\n",
      "Epoch 109/250\n",
      "8/8 [==============================] - 0s 1ms/step - loss: 0.0393 - accuracy: 0.9653\n",
      "Epoch 110/250\n",
      "8/8 [==============================] - 0s 1ms/step - loss: 0.0442 - accuracy: 0.9510\n",
      "Epoch 111/250\n",
      "8/8 [==============================] - 0s 1ms/step - loss: 0.0429 - accuracy: 0.9628\n",
      "Epoch 112/250\n",
      "8/8 [==============================] - 0s 1ms/step - loss: 0.0356 - accuracy: 0.9636\n",
      "Epoch 113/250\n",
      "8/8 [==============================] - 0s 1ms/step - loss: 0.0463 - accuracy: 0.9459\n",
      "Epoch 114/250\n",
      "8/8 [==============================] - 0s 1ms/step - loss: 0.0396 - accuracy: 0.9659\n",
      "Epoch 115/250\n",
      "8/8 [==============================] - 0s 1ms/step - loss: 0.0432 - accuracy: 0.9486\n",
      "Epoch 116/250\n",
      "8/8 [==============================] - 0s 1ms/step - loss: 0.0480 - accuracy: 0.9592\n",
      "Epoch 117/250\n",
      "8/8 [==============================] - 0s 1ms/step - loss: 0.0370 - accuracy: 0.9729\n",
      "Epoch 118/250\n",
      "8/8 [==============================] - 0s 1ms/step - loss: 0.0428 - accuracy: 0.9618\n",
      "Epoch 119/250\n",
      "8/8 [==============================] - 0s 2ms/step - loss: 0.0344 - accuracy: 0.9790\n",
      "Epoch 120/250\n",
      "8/8 [==============================] - 0s 2ms/step - loss: 0.0469 - accuracy: 0.9569\n",
      "Epoch 121/250\n",
      "8/8 [==============================] - 0s 2ms/step - loss: 0.0432 - accuracy: 0.9612\n",
      "Epoch 122/250\n",
      "8/8 [==============================] - 0s 2ms/step - loss: 0.0391 - accuracy: 0.9669\n",
      "Epoch 123/250\n",
      "8/8 [==============================] - 0s 2ms/step - loss: 0.0379 - accuracy: 0.9743\n",
      "Epoch 124/250\n",
      "8/8 [==============================] - 0s 1ms/step - loss: 0.0378 - accuracy: 0.9822\n",
      "Epoch 125/250\n",
      "8/8 [==============================] - 0s 2ms/step - loss: 0.0445 - accuracy: 0.9614\n",
      "Epoch 126/250\n",
      "8/8 [==============================] - 0s 1ms/step - loss: 0.0366 - accuracy: 0.9683\n",
      "Epoch 127/250\n",
      "8/8 [==============================] - 0s 1ms/step - loss: 0.0375 - accuracy: 0.9657\n",
      "Epoch 128/250\n",
      "8/8 [==============================] - 0s 1ms/step - loss: 0.0345 - accuracy: 0.9721\n",
      "Epoch 129/250\n",
      "8/8 [==============================] - 0s 1ms/step - loss: 0.0417 - accuracy: 0.9686\n",
      "Epoch 130/250\n",
      "8/8 [==============================] - 0s 1ms/step - loss: 0.0341 - accuracy: 0.9675\n",
      "Epoch 131/250\n",
      "8/8 [==============================] - 0s 1ms/step - loss: 0.0437 - accuracy: 0.9600\n",
      "Epoch 132/250\n",
      "8/8 [==============================] - 0s 2ms/step - loss: 0.0436 - accuracy: 0.9648\n",
      "Epoch 133/250\n",
      "8/8 [==============================] - 0s 2ms/step - loss: 0.0368 - accuracy: 0.9693\n",
      "Epoch 134/250\n",
      "8/8 [==============================] - 0s 2ms/step - loss: 0.0411 - accuracy: 0.9604\n",
      "Epoch 135/250\n",
      "8/8 [==============================] - 0s 1ms/step - loss: 0.0380 - accuracy: 0.9642\n",
      "Epoch 136/250\n",
      "8/8 [==============================] - 0s 1ms/step - loss: 0.0320 - accuracy: 0.9815\n",
      "Epoch 137/250\n",
      "8/8 [==============================] - 0s 1ms/step - loss: 0.0432 - accuracy: 0.9641\n",
      "Epoch 138/250\n",
      "8/8 [==============================] - 0s 2ms/step - loss: 0.0331 - accuracy: 0.9840\n",
      "Epoch 139/250\n",
      "8/8 [==============================] - 0s 1ms/step - loss: 0.0355 - accuracy: 0.9744\n",
      "Epoch 140/250\n",
      "8/8 [==============================] - 0s 1ms/step - loss: 0.0443 - accuracy: 0.9611\n",
      "Epoch 141/250\n",
      "8/8 [==============================] - 0s 1ms/step - loss: 0.0352 - accuracy: 0.9735\n",
      "Epoch 142/250\n",
      "8/8 [==============================] - 0s 3ms/step - loss: 0.0445 - accuracy: 0.9614\n",
      "Epoch 143/250\n",
      "8/8 [==============================] - 0s 3ms/step - loss: 0.0316 - accuracy: 0.9793\n",
      "Epoch 144/250\n",
      "8/8 [==============================] - 0s 4ms/step - loss: 0.0340 - accuracy: 0.9659\n",
      "Epoch 145/250\n",
      "8/8 [==============================] - 0s 3ms/step - loss: 0.0427 - accuracy: 0.9553\n",
      "Epoch 146/250\n",
      "8/8 [==============================] - 0s 2ms/step - loss: 0.0347 - accuracy: 0.9643\n",
      "Epoch 147/250\n",
      "8/8 [==============================] - 0s 3ms/step - loss: 0.0352 - accuracy: 0.9774\n",
      "Epoch 148/250\n",
      "8/8 [==============================] - 0s 3ms/step - loss: 0.0351 - accuracy: 0.9730\n",
      "Epoch 149/250\n",
      "8/8 [==============================] - 0s 3ms/step - loss: 0.0369 - accuracy: 0.9704\n",
      "Epoch 150/250\n",
      "8/8 [==============================] - 0s 3ms/step - loss: 0.0405 - accuracy: 0.9630\n",
      "Epoch 151/250\n",
      "8/8 [==============================] - 0s 3ms/step - loss: 0.0322 - accuracy: 0.9751\n",
      "Epoch 152/250\n",
      "8/8 [==============================] - 0s 3ms/step - loss: 0.0339 - accuracy: 0.9619\n",
      "Epoch 153/250\n",
      "8/8 [==============================] - 0s 3ms/step - loss: 0.0401 - accuracy: 0.9465\n",
      "Epoch 154/250\n",
      "8/8 [==============================] - 0s 3ms/step - loss: 0.0336 - accuracy: 0.9662\n",
      "Epoch 155/250\n",
      "8/8 [==============================] - 0s 3ms/step - loss: 0.0399 - accuracy: 0.9625\n",
      "Epoch 156/250\n",
      "8/8 [==============================] - 0s 3ms/step - loss: 0.0310 - accuracy: 0.9732\n",
      "Epoch 157/250\n",
      "8/8 [==============================] - 0s 3ms/step - loss: 0.0332 - accuracy: 0.9689\n",
      "Epoch 158/250\n",
      "8/8 [==============================] - 0s 2ms/step - loss: 0.0384 - accuracy: 0.9633\n",
      "Epoch 159/250\n",
      "8/8 [==============================] - 0s 2ms/step - loss: 0.0403 - accuracy: 0.9602\n",
      "Epoch 160/250\n",
      "8/8 [==============================] - 0s 3ms/step - loss: 0.0472 - accuracy: 0.9505\n",
      "Epoch 161/250\n",
      "8/8 [==============================] - 0s 3ms/step - loss: 0.0307 - accuracy: 0.9644\n",
      "Epoch 162/250\n",
      "8/8 [==============================] - 0s 3ms/step - loss: 0.0287 - accuracy: 0.9640\n",
      "Epoch 163/250\n",
      "8/8 [==============================] - 0s 3ms/step - loss: 0.0313 - accuracy: 0.9694\n",
      "Epoch 164/250\n",
      "8/8 [==============================] - 0s 3ms/step - loss: 0.0317 - accuracy: 0.9680\n",
      "Epoch 165/250\n",
      "8/8 [==============================] - 0s 3ms/step - loss: 0.0346 - accuracy: 0.9640\n",
      "Epoch 166/250\n",
      "8/8 [==============================] - 0s 3ms/step - loss: 0.0279 - accuracy: 0.9782\n",
      "Epoch 167/250\n",
      "8/8 [==============================] - 0s 3ms/step - loss: 0.0369 - accuracy: 0.9751\n",
      "Epoch 168/250\n",
      "8/8 [==============================] - 0s 3ms/step - loss: 0.0277 - accuracy: 0.9716\n",
      "Epoch 169/250\n",
      "8/8 [==============================] - 0s 3ms/step - loss: 0.0294 - accuracy: 0.9739\n",
      "Epoch 170/250\n",
      "8/8 [==============================] - 0s 3ms/step - loss: 0.0289 - accuracy: 0.9782\n",
      "Epoch 171/250\n",
      "8/8 [==============================] - 0s 3ms/step - loss: 0.0344 - accuracy: 0.9573\n",
      "Epoch 172/250\n",
      "8/8 [==============================] - 0s 3ms/step - loss: 0.0249 - accuracy: 0.9813\n",
      "Epoch 173/250\n",
      "8/8 [==============================] - 0s 3ms/step - loss: 0.0244 - accuracy: 0.9806\n",
      "Epoch 174/250\n",
      "8/8 [==============================] - 0s 3ms/step - loss: 0.0286 - accuracy: 0.9755\n",
      "Epoch 175/250\n",
      "8/8 [==============================] - 0s 3ms/step - loss: 0.0251 - accuracy: 0.9809\n",
      "Epoch 176/250\n",
      "8/8 [==============================] - 0s 3ms/step - loss: 0.0267 - accuracy: 0.9810\n",
      "Epoch 177/250\n",
      "8/8 [==============================] - 0s 3ms/step - loss: 0.0291 - accuracy: 0.9669\n",
      "Epoch 178/250\n",
      "8/8 [==============================] - 0s 3ms/step - loss: 0.0286 - accuracy: 0.9826\n",
      "Epoch 179/250\n",
      "8/8 [==============================] - 0s 3ms/step - loss: 0.0252 - accuracy: 0.9831\n",
      "Epoch 180/250\n",
      "8/8 [==============================] - 0s 4ms/step - loss: 0.0244 - accuracy: 0.9860\n",
      "Epoch 181/250\n",
      "8/8 [==============================] - 0s 3ms/step - loss: 0.0299 - accuracy: 0.9661\n",
      "Epoch 182/250\n",
      "8/8 [==============================] - 0s 3ms/step - loss: 0.0235 - accuracy: 0.9930\n",
      "Epoch 183/250\n",
      "8/8 [==============================] - 0s 3ms/step - loss: 0.0231 - accuracy: 0.9888\n",
      "Epoch 184/250\n",
      "8/8 [==============================] - 0s 3ms/step - loss: 0.0237 - accuracy: 0.9853\n",
      "Epoch 185/250\n",
      "8/8 [==============================] - 0s 3ms/step - loss: 0.0288 - accuracy: 0.9768\n",
      "Epoch 186/250\n",
      "8/8 [==============================] - 0s 3ms/step - loss: 0.0275 - accuracy: 0.9795\n",
      "Epoch 187/250\n",
      "8/8 [==============================] - 0s 3ms/step - loss: 0.0303 - accuracy: 0.9831\n",
      "Epoch 188/250\n",
      "8/8 [==============================] - 0s 2ms/step - loss: 0.0230 - accuracy: 0.9843\n",
      "Epoch 189/250\n",
      "8/8 [==============================] - 0s 3ms/step - loss: 0.0275 - accuracy: 0.9831\n",
      "Epoch 190/250\n",
      "8/8 [==============================] - 0s 3ms/step - loss: 0.0240 - accuracy: 0.9909\n",
      "Epoch 191/250\n",
      "8/8 [==============================] - 0s 3ms/step - loss: 0.0238 - accuracy: 0.9844\n",
      "Epoch 192/250\n",
      "8/8 [==============================] - 0s 3ms/step - loss: 0.0243 - accuracy: 0.9872\n",
      "Epoch 193/250\n",
      "8/8 [==============================] - 0s 3ms/step - loss: 0.0219 - accuracy: 0.9933\n",
      "Epoch 194/250\n",
      "8/8 [==============================] - 0s 3ms/step - loss: 0.0228 - accuracy: 0.9944\n",
      "Epoch 195/250\n",
      "8/8 [==============================] - 0s 3ms/step - loss: 0.0225 - accuracy: 0.9867\n",
      "Epoch 196/250\n",
      "8/8 [==============================] - 0s 3ms/step - loss: 0.0233 - accuracy: 0.9841\n",
      "Epoch 197/250\n",
      "8/8 [==============================] - 0s 3ms/step - loss: 0.0223 - accuracy: 0.9892\n",
      "Epoch 198/250\n",
      "8/8 [==============================] - 0s 3ms/step - loss: 0.0246 - accuracy: 0.9853\n",
      "Epoch 199/250\n",
      "8/8 [==============================] - 0s 3ms/step - loss: 0.0242 - accuracy: 0.9897\n",
      "Epoch 200/250\n",
      "8/8 [==============================] - 0s 2ms/step - loss: 0.0176 - accuracy: 0.9941\n",
      "Epoch 201/250\n",
      "8/8 [==============================] - 0s 3ms/step - loss: 0.0226 - accuracy: 0.9952\n",
      "Epoch 202/250\n",
      "8/8 [==============================] - 0s 3ms/step - loss: 0.0193 - accuracy: 0.9928\n",
      "Epoch 203/250\n",
      "8/8 [==============================] - 0s 3ms/step - loss: 0.0220 - accuracy: 0.9787\n",
      "Epoch 204/250\n",
      "8/8 [==============================] - 0s 3ms/step - loss: 0.0213 - accuracy: 0.9874\n",
      "Epoch 205/250\n",
      "8/8 [==============================] - 0s 3ms/step - loss: 0.0202 - accuracy: 0.9972\n",
      "Epoch 206/250\n",
      "8/8 [==============================] - 0s 3ms/step - loss: 0.0250 - accuracy: 0.9881\n",
      "Epoch 207/250\n",
      "8/8 [==============================] - 0s 3ms/step - loss: 0.0205 - accuracy: 0.9972\n",
      "Epoch 208/250\n",
      "8/8 [==============================] - 0s 3ms/step - loss: 0.0204 - accuracy: 0.9944\n",
      "Epoch 209/250\n",
      "8/8 [==============================] - 0s 5ms/step - loss: 0.0194 - accuracy: 0.9900\n",
      "Epoch 210/250\n",
      "8/8 [==============================] - 0s 3ms/step - loss: 0.0213 - accuracy: 0.9874\n",
      "Epoch 211/250\n",
      "8/8 [==============================] - 0s 4ms/step - loss: 0.0241 - accuracy: 0.9921\n",
      "Epoch 212/250\n",
      "8/8 [==============================] - 0s 4ms/step - loss: 0.0175 - accuracy: 0.9959\n",
      "Epoch 213/250\n",
      "8/8 [==============================] - 0s 3ms/step - loss: 0.0176 - accuracy: 0.9982\n",
      "Epoch 214/250\n",
      "8/8 [==============================] - 0s 3ms/step - loss: 0.0222 - accuracy: 0.9874\n",
      "Epoch 215/250\n",
      "8/8 [==============================] - 0s 3ms/step - loss: 0.0227 - accuracy: 0.9936\n",
      "Epoch 216/250\n",
      "8/8 [==============================] - 0s 3ms/step - loss: 0.0185 - accuracy: 0.9986\n",
      "Epoch 217/250\n",
      "8/8 [==============================] - 0s 3ms/step - loss: 0.0184 - accuracy: 0.9991\n",
      "Epoch 218/250\n",
      "8/8 [==============================] - 0s 3ms/step - loss: 0.0221 - accuracy: 0.9991\n",
      "Epoch 219/250\n",
      "8/8 [==============================] - 0s 3ms/step - loss: 0.0218 - accuracy: 0.9973\n",
      "Epoch 220/250\n",
      "8/8 [==============================] - 0s 3ms/step - loss: 0.0188 - accuracy: 0.9936\n",
      "Epoch 221/250\n",
      "8/8 [==============================] - 0s 4ms/step - loss: 0.0183 - accuracy: 0.9986\n",
      "Epoch 222/250\n",
      "8/8 [==============================] - 0s 3ms/step - loss: 0.0188 - accuracy: 0.9953\n",
      "Epoch 223/250\n",
      "8/8 [==============================] - 0s 3ms/step - loss: 0.0182 - accuracy: 0.9986\n",
      "Epoch 224/250\n",
      "8/8 [==============================] - 0s 3ms/step - loss: 0.0174 - accuracy: 0.9964\n",
      "Epoch 225/250\n",
      "8/8 [==============================] - 0s 3ms/step - loss: 0.0145 - accuracy: 0.9986\n",
      "Epoch 226/250\n",
      "8/8 [==============================] - 0s 3ms/step - loss: 0.0168 - accuracy: 0.9991\n",
      "Epoch 227/250\n",
      "8/8 [==============================] - 0s 3ms/step - loss: 0.0170 - accuracy: 0.9936\n",
      "Epoch 228/250\n",
      "8/8 [==============================] - 0s 3ms/step - loss: 0.0175 - accuracy: 0.9980\n",
      "Epoch 229/250\n",
      "8/8 [==============================] - 0s 2ms/step - loss: 0.0177 - accuracy: 0.9936\n",
      "Epoch 230/250\n",
      "8/8 [==============================] - 0s 3ms/step - loss: 0.0188 - accuracy: 0.9936\n",
      "Epoch 231/250\n",
      "8/8 [==============================] - 0s 3ms/step - loss: 0.0196 - accuracy: 0.9964\n",
      "Epoch 232/250\n",
      "8/8 [==============================] - 0s 4ms/step - loss: 0.0182 - accuracy: 0.9986\n",
      "Epoch 233/250\n",
      "8/8 [==============================] - 0s 3ms/step - loss: 0.0154 - accuracy: 0.9980\n",
      "Epoch 234/250\n",
      "8/8 [==============================] - 0s 3ms/step - loss: 0.0191 - accuracy: 0.9964\n",
      "Epoch 235/250\n",
      "8/8 [==============================] - 0s 3ms/step - loss: 0.0164 - accuracy: 0.9916\n",
      "Epoch 236/250\n",
      "8/8 [==============================] - 0s 3ms/step - loss: 0.0162 - accuracy: 0.9973\n",
      "Epoch 237/250\n",
      "8/8 [==============================] - 0s 3ms/step - loss: 0.0153 - accuracy: 0.9980\n",
      "Epoch 238/250\n",
      "8/8 [==============================] - 0s 3ms/step - loss: 0.0161 - accuracy: 0.9991\n",
      "Epoch 239/250\n",
      "8/8 [==============================] - 0s 3ms/step - loss: 0.0145 - accuracy: 0.9936\n",
      "Epoch 240/250\n",
      "8/8 [==============================] - 0s 4ms/step - loss: 0.0170 - accuracy: 0.9980\n",
      "Epoch 241/250\n",
      "8/8 [==============================] - 0s 4ms/step - loss: 0.0157 - accuracy: 0.9953\n",
      "Epoch 242/250\n",
      "8/8 [==============================] - 0s 3ms/step - loss: 0.0150 - accuracy: 0.9980\n",
      "Epoch 243/250\n",
      "8/8 [==============================] - 0s 3ms/step - loss: 0.0166 - accuracy: 0.9973\n",
      "Epoch 244/250\n",
      "8/8 [==============================] - 0s 3ms/step - loss: 0.0151 - accuracy: 0.9901\n",
      "Epoch 245/250\n",
      "8/8 [==============================] - 0s 4ms/step - loss: 0.0152 - accuracy: 0.9980\n",
      "Epoch 246/250\n",
      "8/8 [==============================] - 0s 3ms/step - loss: 0.0166 - accuracy: 0.9986\n",
      "Epoch 247/250\n",
      "8/8 [==============================] - 0s 3ms/step - loss: 0.0159 - accuracy: 0.9936\n",
      "Epoch 248/250\n",
      "8/8 [==============================] - 0s 3ms/step - loss: 0.0146 - accuracy: 0.9991\n",
      "Epoch 249/250\n",
      "8/8 [==============================] - 0s 4ms/step - loss: 0.0164 - accuracy: 0.9964\n",
      "Epoch 250/250\n",
      "8/8 [==============================] - 0s 3ms/step - loss: 0.0146 - accuracy: 1.0000\n"
     ]
    },
    {
     "output_type": "execute_result",
     "data": {
      "text/plain": [
       "<keras.callbacks.History at 0x1ff0276dc70>"
      ]
     },
     "metadata": {},
     "execution_count": 9
    }
   ],
   "source": [
    "model.fit(X_train, y_train, epochs=250)"
   ]
  },
  {
   "cell_type": "code",
   "execution_count": 10,
   "id": "3vLiyUKUz8Aj",
   "metadata": {
    "colab": {
     "base_uri": "https://localhost:8080/"
    },
    "executionInfo": {
     "elapsed": 1648,
     "status": "ok",
     "timestamp": 1619367326689,
     "user": {
      "displayName": "Анастасия Федосеева",
      "photoUrl": "",
      "userId": "16934346816105494052"
     },
     "user_tz": -360
    },
    "id": "3vLiyUKUz8Aj",
    "outputId": "05ea3c5b-c31e-45e4-d6da-c63c8e5f00d6"
   },
   "outputs": [
    {
     "output_type": "stream",
     "name": "stdout",
     "text": [
      "10/10 [==============================] - 0s 1ms/step - loss: 0.3069 - accuracy: 0.6931\n",
      "Accuracy: 69.31\n"
     ]
    }
   ],
   "source": [
    " _, accuracy = model.evaluate(X, y)\n",
    "print('Accuracy: %.2f' % (accuracy*100))"
   ]
  },
  {
   "cell_type": "code",
   "execution_count": 11,
   "id": "waiting-punishment",
   "metadata": {},
   "outputs": [
    {
     "output_type": "stream",
     "name": "stdout",
     "text": [
      "INFO:tensorflow:Assets written to: model\\assets\n"
     ]
    }
   ],
   "source": [
    " model.save('model')"
   ]
  },
  {
   "cell_type": "code",
   "execution_count": null,
   "metadata": {},
   "outputs": [],
   "source": []
  }
 ],
 "metadata": {
  "colab": {
   "collapsed_sections": [],
   "name": "7_keras.ipynb",
   "provenance": []
  },
  "kernelspec": {
   "name": "python391jvsc74a57bd016e4b87f0dbdf66a4ee056938d0c8f3ebbd68a803ec7e298da5e0d0190041215",
   "display_name": "Python 3.9.1 64-bit"
  },
  "language_info": {
   "codemirror_mode": {
    "name": "ipython",
    "version": 3
   },
   "file_extension": ".py",
   "mimetype": "text/x-python",
   "name": "python",
   "nbconvert_exporter": "python",
   "pygments_lexer": "ipython3",
   "version": "3.9.1"
  }
 },
 "nbformat": 4,
 "nbformat_minor": 5
}