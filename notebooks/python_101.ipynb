{
 "cells": [
  {
   "cell_type": "code",
   "execution_count": 6,
   "id": "artistic-looking",
   "metadata": {},
   "outputs": [
    {
     "name": "stdout",
     "output_type": "stream",
     "text": [
      "[1, 3, 5]\n"
     ]
    }
   ],
   "source": [
    "def EqualUniqueItemList(a, b):\n",
    "    return list(UniqueItemList(a) & UniqueItemList(b))\n",
    "            \n",
    "def UniqueItemList(a):\n",
    "    b = []\n",
    "    for item1 in a:\n",
    "        count = 0\n",
    "        for item2 in a:\n",
    "            if item2 == item1:\n",
    "                count += 1\n",
    "                if count > 1:\n",
    "                    break;\n",
    "        if count > 1:\n",
    "            continue\n",
    "        else:\n",
    "            b.append(item1)\n",
    "    \n",
    "    return set(b)\n",
    "\n",
    "a = [1, 2, 2, 2, 3, 4, 4, 5]\n",
    "b = [1, 2, 3, 4, 4, 5]\n",
    "print(EqualUniqueItemList(a, b))\n",
    "                \n",
    "    "
   ]
  },
  {
   "cell_type": "code",
   "execution_count": null,
   "id": "chief-thanksgiving",
   "metadata": {},
   "outputs": [],
   "source": []
  },
  {
   "cell_type": "code",
   "execution_count": null,
   "id": "blank-webmaster",
   "metadata": {},
   "outputs": [],
   "source": []
  },
  {
   "cell_type": "code",
   "execution_count": null,
   "id": "herbal-karaoke",
   "metadata": {},
   "outputs": [],
   "source": []
  },
  {
   "cell_type": "code",
   "execution_count": null,
   "id": "therapeutic-audience",
   "metadata": {},
   "outputs": [],
   "source": []
  }
 ],
 "metadata": {
  "kernelspec": {
   "display_name": "Python 3",
   "language": "python",
   "name": "python3"
  },
  "language_info": {
   "codemirror_mode": {
    "name": "ipython",
    "version": 3
   },
   "file_extension": ".py",
   "mimetype": "text/x-python",
   "name": "python",
   "nbconvert_exporter": "python",
   "pygments_lexer": "ipython3",
   "version": "3.9.1"
  }
 },
 "nbformat": 4,
 "nbformat_minor": 5
}
